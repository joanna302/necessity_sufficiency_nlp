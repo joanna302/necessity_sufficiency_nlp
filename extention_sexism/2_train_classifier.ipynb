{
 "cells": [
  {
   "cell_type": "code",
   "execution_count": 25,
   "metadata": {},
   "outputs": [
    {
     "data": {
      "text/plain": [
       "device(type='cpu')"
      ]
     },
     "execution_count": 25,
     "metadata": {},
     "output_type": "execute_result"
    }
   ],
   "source": [
    "import numpy as np\n",
    "import pandas as pd\n",
    "import pickle\n",
    "import argparse\n",
    "import torch\n",
    "from transformers import BertTokenizerFast, BertForSequenceClassification, Trainer, TrainingArguments\n",
    "from sklearn.metrics import classification_report, f1_score\n",
    "from sklearn.utils.class_weight import compute_class_weight\n",
    "import os\n",
    "import random\n",
    "#os.environ[\"TOKENIZERS_PARALLELISM\"] = \"false\"\n",
    "\n",
    "#PYTORCH_ENABLE_MPS_FALLBACK=1\n",
    "device = torch.device(\"cuda\" if torch.cuda.is_available() else \"cpu\")\n",
    "#device = torch.device(\"mps\")\n",
    "device"
   ]
  },
  {
   "cell_type": "code",
   "execution_count": 26,
   "metadata": {},
   "outputs": [],
   "source": [
    "class SexistDataset(torch.utils.data.Dataset):\n",
    "    def __init__(self, encodings, labels):\n",
    "        self.encodings = encodings\n",
    "        self.labels = labels\n",
    "\n",
    "    def __getitem__(self, idx):\n",
    "        item = {key: val[idx] for key, val in self.encodings.items()}\n",
    "        item['labels'] = self.labels[idx]\n",
    "        return item\n",
    "\n",
    "    def __len__(self):\n",
    "        return len(self.labels)"
   ]
  },
  {
   "cell_type": "code",
   "execution_count": 27,
   "metadata": {},
   "outputs": [],
   "source": [
    "class WeightedTrainer(Trainer):\n",
    "    def __init__(self, class_weights, **kwargs):\n",
    "       # self.class_weights = torch.FloatTensor(class_weights)\n",
    "        self.weighted_loss = torch.nn.CrossEntropyLoss(weight=torch.FloatTensor(class_weights)).to(device)\n",
    "        super().__init__(**kwargs)\n",
    "\n",
    "    def compute_loss(self, model, inputs, num_items_in_batch=False, return_outputs=False):\n",
    "        labels = inputs.pop(\"labels\")\n",
    "        outputs = model(**inputs)\n",
    "        logits = outputs[0]\n",
    "        loss = self.weighted_loss(logits, labels)\n",
    "        if return_outputs:\n",
    "            return loss, outputs\n",
    "        else:\n",
    "            return loss"
   ]
  },
  {
   "cell_type": "code",
   "execution_count": 28,
   "metadata": {},
   "outputs": [],
   "source": [
    "def create_datasets(data_dir):\n",
    "    \n",
    "    train_df = pd.read_csv(data_dir + \"/train.csv\")\n",
    "    train_df = train_df.dropna()\n",
    "    valid_df = pd.read_csv(data_dir + \"/valid.csv\")\n",
    "    valid_df = valid_df.dropna()\n",
    "    test_df = pd.read_csv(data_dir + \"/test.csv\")\n",
    "    test_df = test_df.dropna()\n",
    "\n",
    "    train_texts = train_df['text'].astype(\"string\").tolist()\n",
    "    valid_texts = valid_df['text'].astype(\"string\").tolist()\n",
    "    test_texts = test_df['text'].astype(\"string\").tolist()\n",
    "\n",
    "    train_labels = train_df['label_sexist'].astype(\"int\").tolist()\n",
    "    valid_labels = valid_df['label_sexist'].astype(\"int\").tolist()\n",
    "    test_labels = test_df['label_sexist'].astype(\"int\").tolist()\n",
    "\n",
    "    tokenizer = BertTokenizerFast.from_pretrained('bert-base-uncased')\n",
    "    # add special tokens for URLs, emojis and mentions (--> see pre-processing)\n",
    "    special_tokens_dict = {'additional_special_tokens': ['[USER]', '[EMOJI]', '[URL]']}\n",
    "    num_added_toks = tokenizer.add_special_tokens(special_tokens_dict)\n",
    "\n",
    "    train_encodings = tokenizer(train_texts, padding=True, truncation=True, return_tensors=\"pt\").to(device)\n",
    "    valid_encodings = tokenizer(valid_texts, padding=True, truncation=True, return_tensors=\"pt\").to(device)\n",
    "    test_encodings = tokenizer(test_texts, padding=True, truncation=True, return_tensors=\"pt\").to(device)\n",
    "\n",
    "    train_dataset = SexistDataset(train_encodings, train_labels)\n",
    "    valid_dataset = SexistDataset(valid_encodings, valid_labels)\n",
    "    test_dataset = SexistDataset(test_encodings, test_labels)\n",
    "\n",
    "    return train_dataset, valid_dataset, test_dataset, len(tokenizer)"
   ]
  },
  {
   "cell_type": "code",
   "execution_count": 29,
   "metadata": {},
   "outputs": [],
   "source": [
    "def calculate_class_weights(data_dir):\n",
    "    dataset = pd.read_csv(data_dir + \"/train.csv\")\n",
    "    train_labels = dataset.label_sexist.to_numpy()\n",
    "    class_weights = compute_class_weight('balanced', classes=np.unique(train_labels), y=train_labels)\n",
    "    print(\"class weights are {}\".format(class_weights))\n",
    "    return class_weights\n",
    "\n",
    "\n",
    "def train_model(train_dataset, valid_dataset, tok_len,  class_weights, output_dir, learning_rate, num_epochs, batch_size):\n",
    "    training_args = TrainingArguments(\n",
    "        save_steps=2500,\n",
    "        output_dir=output_dir,  # output directory\n",
    "        num_train_epochs=num_epochs,  # total number of training epochs\n",
    "        per_device_train_batch_size=batch_size,  # batch size per device during training\n",
    "        per_device_eval_batch_size=64,  # batch size for evaluation\n",
    "        warmup_steps=500,  # number of warmup steps for learning rate scheduler\n",
    "        weight_decay=0.01,  # strength of weight decay\n",
    "        learning_rate=learning_rate,\n",
    "        seed=123,\n",
    "        use_mps_device=False, \n",
    "        dataloader_pin_memory=False, \n",
    "        no_cuda=True\n",
    "    )\n",
    "    print(device)\n",
    "    model = BertForSequenceClassification.from_pretrained(\"bert-base-uncased\").to(device)\n",
    "    model.resize_token_embeddings(tok_len)\n",
    "\n",
    "    trainer = WeightedTrainer(\n",
    "        model=model,\n",
    "        class_weights=class_weights,\n",
    "        args=training_args,\n",
    "        train_dataset=train_dataset,\n",
    "        eval_dataset=valid_dataset\n",
    "    )\n",
    "    trainer.train()\n",
    "    \n",
    "    #try:\n",
    "    #    trainer.train(resume_from_checkpoint=True)\n",
    "    #    print(\"resuming from checkpoint...\")\n",
    "    #except ValueError:\n",
    "    #    print(\"No checkpoints found. training from scratch...\")\n",
    "    #    trainer.train()\n",
    "\n",
    "    return trainer"
   ]
  },
  {
   "cell_type": "code",
   "execution_count": 30,
   "metadata": {},
   "outputs": [
    {
     "name": "stdout",
     "output_type": "stream",
     "text": [
      "class weights are [0.66025278 2.06003531]\n",
      "cpu\n"
     ]
    },
    {
     "name": "stderr",
     "output_type": "stream",
     "text": [
      "/Users/joanna/Documents/mva/S2/NLP/project/.venv/lib/python3.9/site-packages/transformers/training_args.py:1609: FutureWarning: using `no_cuda` is deprecated and will be removed in version 5.0 of 🤗 Transformers. Use `use_cpu` instead\n",
      "  warnings.warn(\n",
      "Some weights of BertForSequenceClassification were not initialized from the model checkpoint at bert-base-uncased and are newly initialized: ['classifier.bias', 'classifier.weight']\n",
      "You should probably TRAIN this model on a down-stream task to be able to use it for predictions and inference.\n"
     ]
    },
    {
     "data": {
      "text/html": [
       "\n",
       "    <div>\n",
       "      \n",
       "      <progress value='1750' max='1750' style='width:300px; height:20px; vertical-align: middle;'></progress>\n",
       "      [1750/1750 2:50:03, Epoch 2/2]\n",
       "    </div>\n",
       "    <table border=\"1\" class=\"dataframe\">\n",
       "  <thead>\n",
       " <tr style=\"text-align: left;\">\n",
       "      <th>Step</th>\n",
       "      <th>Training Loss</th>\n",
       "    </tr>\n",
       "  </thead>\n",
       "  <tbody>\n",
       "    <tr>\n",
       "      <td>500</td>\n",
       "      <td>0.553200</td>\n",
       "    </tr>\n",
       "    <tr>\n",
       "      <td>1000</td>\n",
       "      <td>0.395100</td>\n",
       "    </tr>\n",
       "    <tr>\n",
       "      <td>1500</td>\n",
       "      <td>0.290600</td>\n",
       "    </tr>\n",
       "  </tbody>\n",
       "</table><p>"
      ],
      "text/plain": [
       "<IPython.core.display.HTML object>"
      ]
     },
     "metadata": {},
     "output_type": "display_data"
    },
    {
     "name": "stdout",
     "output_type": "stream",
     "text": [
      "Training done, evaluating...\n"
     ]
    },
    {
     "data": {
      "text/html": [],
      "text/plain": [
       "<IPython.core.display.HTML object>"
      ]
     },
     "metadata": {},
     "output_type": "display_data"
    },
    {
     "data": {
      "text/html": [],
      "text/plain": [
       "<IPython.core.display.HTML object>"
      ]
     },
     "metadata": {},
     "output_type": "display_data"
    }
   ],
   "source": [
    "output_dir = \"./Model/\"\n",
    "dataset_dir = \"../Data/\"\n",
    "#datasets = [\"CAD_hate\", \"CAD_abuse\", \"Founta_hate\", \"Founta_abuse\", \"Davidson_hate\", \"Davidson_abuse\"]\n",
    "dataset = \"data_sexism\"\n",
    "\n",
    "num_epochs = 2\n",
    "batch_size = 16\n",
    "learning_rate = 5e-5\n",
    "\n",
    "dd_dir = dataset_dir + dataset\n",
    "oo_dir = output_dir + dataset\n",
    "\n",
    "train_dataset, valid_dataset, test_dataset, tok_len = create_datasets(dd_dir)\n",
    "class_weights = calculate_class_weights(dd_dir)\n",
    "\n",
    "trainer = train_model(train_dataset,\n",
    "                        valid_dataset,\n",
    "                        tok_len,\n",
    "                        class_weights,\n",
    "                        oo_dir,\n",
    "                        learning_rate,\n",
    "                        num_epochs,\n",
    "                        batch_size)\n",
    "    \n",
    "trainer.save_model(oo_dir)\n",
    "\n",
    "print(\"Training done, evaluating...\")\n",
    "valid_preds = np.argmax(trainer.predict(valid_dataset)[0], axis=1) #should be numpy ndarray\n",
    "valid_labels = np.array(valid_dataset.labels)\n",
    "\n",
    "cls_report_valid = classification_report(valid_labels, valid_preds, output_dict=True)\n",
    "pickle.dump(cls_report_valid, open(oo_dir + \"/cls_report_valid.pickle\", \"wb\"))\n",
    "\n",
    "test_preds = np.argmax(trainer.predict(test_dataset)[0], axis=1)\n",
    "test_labels = np.array(test_dataset.labels)\n",
    "\n",
    "cls_report_test = classification_report(test_labels, test_preds, output_dict=True)\n",
    "pickle.dump(cls_report_test, open(oo_dir + \"/cls_report_test.pickle\", \"wb\"))"
   ]
  }
 ],
 "metadata": {
  "kernelspec": {
   "display_name": ".venv",
   "language": "python",
   "name": "python3"
  },
  "language_info": {
   "codemirror_mode": {
    "name": "ipython",
    "version": 3
   },
   "file_extension": ".py",
   "mimetype": "text/x-python",
   "name": "python",
   "nbconvert_exporter": "python",
   "pygments_lexer": "ipython3",
   "version": "3.9.6"
  }
 },
 "nbformat": 4,
 "nbformat_minor": 2
}
