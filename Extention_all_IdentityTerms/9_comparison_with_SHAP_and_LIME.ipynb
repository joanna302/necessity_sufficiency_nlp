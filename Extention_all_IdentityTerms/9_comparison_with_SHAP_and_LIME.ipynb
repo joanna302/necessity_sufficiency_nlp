{
 "cells": [
  {
   "cell_type": "code",
   "execution_count": null,
   "id": "d731f6a7-b9f2-4a0c-b00e-2121cb20655b",
   "metadata": {},
   "outputs": [],
   "source": [
    "!pip install numpy==2.1\n"
   ]
  },
  {
   "cell_type": "code",
   "execution_count": null,
   "id": "5b8866a3",
   "metadata": {},
   "outputs": [],
   "source": [
    "import numpy as np\n",
    "from transformers import BertTokenizerFast, BertForSequenceClassification, pipeline\n",
    "import shap\n",
    "import matplotlib.pyplot as plt\n",
    "import pandas as pd\n",
    "import pickle\n",
    "\n",
    "import seaborn as sns\n",
    "import matplotlib.colors as mcolors\n",
    "import matplotlib.pyplot as plt\n",
    "\n",
    "import lime\n",
    "from lime.lime_text import LimeTextExplainer"
   ]
  },
  {
   "cell_type": "markdown",
   "id": "4c0f1fa4",
   "metadata": {},
   "source": [
    "## SHAP calculations"
   ]
  },
  {
   "cell_type": "code",
   "execution_count": null,
   "id": "1bcc02eb",
   "metadata": {},
   "outputs": [],
   "source": [
    "tokenizer = BertTokenizerFast.from_pretrained('bert-base-uncased')\n",
    "\n",
    "# add special tokens for URLs, emojis and mentions (--> see pre-processing)\n",
    "special_tokens_dict = {'additional_special_tokens': ['[USER]','[EMOJI]','[URL]']}\n",
    "num_added_toks = tokenizer.add_special_tokens(special_tokens_dict)"
   ]
  },
  {
   "cell_type": "code",
   "execution_count": null,
   "id": "396298e2",
   "metadata": {},
   "outputs": [],
   "source": [
    "with open(\"Data/HateCheck_test_suite_cases_2.txt\", \"r\") as ff: \n",
    "    hatecheck_cases = ff.read().splitlines()\n",
    "    \n",
    "# targets = ['women', 'Muslims']\n",
    "targets = ['women', 'trans people', 'gay people', 'black people', 'disabled people','Muslims', 'immigrants']\n"
   ]
  },
  {
   "cell_type": "code",
   "execution_count": 12,
   "id": "ef8c2f9a",
   "metadata": {},
   "outputs": [
    {
     "name": "stderr",
     "output_type": "stream",
     "text": [
      "Device set to use cuda:0\n"
     ]
    },
    {
     "name": "stdout",
     "output_type": "stream",
     "text": [
      "Processing Davidson_abuse\n"
     ]
    },
    {
     "name": "stderr",
     "output_type": "stream",
     "text": [
      "PartitionExplainer explainer:  25%|██▌       | 106/420 [04:40<18:22,  3.51s/it]"
     ]
    },
    {
     "data": {
      "application/vnd.jupyter.widget-view+json": {
       "model_id": "6093245fc1a743dca58d0e3be96ed298",
       "version_major": 2,
       "version_minor": 0
      },
      "text/plain": [
       "  0%|          | 0/240 [00:00<?, ?it/s]"
      ]
     },
     "metadata": {},
     "output_type": "display_data"
    },
    {
     "name": "stderr",
     "output_type": "stream",
     "text": [
      "PartitionExplainer explainer:  25%|██▌       | 107/420 [04:46<21:19,  4.09s/it]"
     ]
    },
    {
     "data": {
      "application/vnd.jupyter.widget-view+json": {
       "model_id": "7a388d70f90e41aa994c6d0ba701de05",
       "version_major": 2,
       "version_minor": 0
      },
      "text/plain": [
       "  0%|          | 0/272 [00:00<?, ?it/s]"
      ]
     },
     "metadata": {},
     "output_type": "display_data"
    },
    {
     "name": "stderr",
     "output_type": "stream",
     "text": [
      "PartitionExplainer explainer:  26%|██▌       | 108/420 [04:53<26:32,  5.10s/it]"
     ]
    },
    {
     "data": {
      "application/vnd.jupyter.widget-view+json": {
       "model_id": "189cca6568d6410b8a78f84c5525395a",
       "version_major": 2,
       "version_minor": 0
      },
      "text/plain": [
       "  0%|          | 0/272 [00:00<?, ?it/s]"
      ]
     },
     "metadata": {},
     "output_type": "display_data"
    },
    {
     "name": "stderr",
     "output_type": "stream",
     "text": [
      "PartitionExplainer explainer:  26%|██▌       | 109/420 [05:01<31:14,  6.03s/it]"
     ]
    },
    {
     "data": {
      "application/vnd.jupyter.widget-view+json": {
       "model_id": "08a8d595b8f44fb79a12c0788e37f09a",
       "version_major": 2,
       "version_minor": 0
      },
      "text/plain": [
       "  0%|          | 0/272 [00:00<?, ?it/s]"
      ]
     },
     "metadata": {},
     "output_type": "display_data"
    },
    {
     "name": "stderr",
     "output_type": "stream",
     "text": [
      "PartitionExplainer explainer:  26%|██▌       | 110/420 [05:09<33:18,  6.45s/it]"
     ]
    },
    {
     "data": {
      "application/vnd.jupyter.widget-view+json": {
       "model_id": "da083c5768534217959270cbe93193a4",
       "version_major": 2,
       "version_minor": 0
      },
      "text/plain": [
       "  0%|          | 0/272 [00:00<?, ?it/s]"
      ]
     },
     "metadata": {},
     "output_type": "display_data"
    },
    {
     "name": "stderr",
     "output_type": "stream",
     "text": [
      "PartitionExplainer explainer:  26%|██▋       | 111/420 [05:17<35:26,  6.88s/it]"
     ]
    },
    {
     "data": {
      "application/vnd.jupyter.widget-view+json": {
       "model_id": "bce583b037294dbf81fd4cb6bb20e325",
       "version_major": 2,
       "version_minor": 0
      },
      "text/plain": [
       "  0%|          | 0/240 [00:00<?, ?it/s]"
      ]
     },
     "metadata": {},
     "output_type": "display_data"
    },
    {
     "name": "stderr",
     "output_type": "stream",
     "text": [
      "PartitionExplainer explainer:  29%|██▊       | 120/420 [05:41<11:33,  2.31s/it]"
     ]
    },
    {
     "data": {
      "application/vnd.jupyter.widget-view+json": {
       "model_id": "837caf01e50044a8ad09b19659da87d8",
       "version_major": 2,
       "version_minor": 0
      },
      "text/plain": [
       "  0%|          | 0/272 [00:00<?, ?it/s]"
      ]
     },
     "metadata": {},
     "output_type": "display_data"
    },
    {
     "name": "stderr",
     "output_type": "stream",
     "text": [
      "PartitionExplainer explainer:  29%|██▉       | 121/420 [05:50<21:34,  4.33s/it]"
     ]
    },
    {
     "data": {
      "application/vnd.jupyter.widget-view+json": {
       "model_id": "f22f6b17b3a344e680ed6268a4ae2c04",
       "version_major": 2,
       "version_minor": 0
      },
      "text/plain": [
       "  0%|          | 0/306 [00:00<?, ?it/s]"
      ]
     },
     "metadata": {},
     "output_type": "display_data"
    },
    {
     "name": "stderr",
     "output_type": "stream",
     "text": [
      "PartitionExplainer explainer:  29%|██▉       | 122/420 [06:00<29:54,  6.02s/it]"
     ]
    },
    {
     "data": {
      "application/vnd.jupyter.widget-view+json": {
       "model_id": "d5717d70e77f4ee5848a0f07530774a4",
       "version_major": 2,
       "version_minor": 0
      },
      "text/plain": [
       "  0%|          | 0/306 [00:00<?, ?it/s]"
      ]
     },
     "metadata": {},
     "output_type": "display_data"
    },
    {
     "name": "stderr",
     "output_type": "stream",
     "text": [
      "PartitionExplainer explainer:  29%|██▉       | 123/420 [06:09<33:55,  6.86s/it]"
     ]
    },
    {
     "data": {
      "application/vnd.jupyter.widget-view+json": {
       "model_id": "95a83066b3344d75834f2bddd742bfbd",
       "version_major": 2,
       "version_minor": 0
      },
      "text/plain": [
       "  0%|          | 0/306 [00:00<?, ?it/s]"
      ]
     },
     "metadata": {},
     "output_type": "display_data"
    },
    {
     "name": "stderr",
     "output_type": "stream",
     "text": [
      "PartitionExplainer explainer:  30%|██▉       | 124/420 [06:20<40:07,  8.13s/it]"
     ]
    },
    {
     "data": {
      "application/vnd.jupyter.widget-view+json": {
       "model_id": "f7dc7e94f72445b1829283209647b693",
       "version_major": 2,
       "version_minor": 0
      },
      "text/plain": [
       "  0%|          | 0/306 [00:00<?, ?it/s]"
      ]
     },
     "metadata": {},
     "output_type": "display_data"
    },
    {
     "name": "stderr",
     "output_type": "stream",
     "text": [
      "PartitionExplainer explainer:  30%|██▉       | 125/420 [06:31<44:12,  8.99s/it]"
     ]
    },
    {
     "data": {
      "application/vnd.jupyter.widget-view+json": {
       "model_id": "2e01e95d9c9b4b3e9ac641bdfd4d86dd",
       "version_major": 2,
       "version_minor": 0
      },
      "text/plain": [
       "  0%|          | 0/272 [00:00<?, ?it/s]"
      ]
     },
     "metadata": {},
     "output_type": "display_data"
    },
    {
     "name": "stderr",
     "output_type": "stream",
     "text": [
      "PartitionExplainer explainer:  30%|███       | 126/420 [06:41<45:24,  9.27s/it]"
     ]
    },
    {
     "data": {
      "application/vnd.jupyter.widget-view+json": {
       "model_id": "2c61a0e7350c43a1a450d5b142b9446d",
       "version_major": 2,
       "version_minor": 0
      },
      "text/plain": [
       "  0%|          | 0/272 [00:00<?, ?it/s]"
      ]
     },
     "metadata": {},
     "output_type": "display_data"
    },
    {
     "name": "stderr",
     "output_type": "stream",
     "text": [
      "PartitionExplainer explainer:  30%|███       | 127/420 [06:51<46:25,  9.51s/it]"
     ]
    },
    {
     "data": {
      "application/vnd.jupyter.widget-view+json": {
       "model_id": "74f4fd6d86e54e6eb9cbea5d93e45e19",
       "version_major": 2,
       "version_minor": 0
      },
      "text/plain": [
       "  0%|          | 0/306 [00:00<?, ?it/s]"
      ]
     },
     "metadata": {},
     "output_type": "display_data"
    },
    {
     "name": "stderr",
     "output_type": "stream",
     "text": [
      "PartitionExplainer explainer:  30%|███       | 128/420 [07:00<45:24,  9.33s/it]"
     ]
    },
    {
     "data": {
      "application/vnd.jupyter.widget-view+json": {
       "model_id": "186b8cadbd754e2888b1746c8e22a6c0",
       "version_major": 2,
       "version_minor": 0
      },
      "text/plain": [
       "  0%|          | 0/342 [00:00<?, ?it/s]"
      ]
     },
     "metadata": {},
     "output_type": "display_data"
    },
    {
     "name": "stderr",
     "output_type": "stream",
     "text": [
      "PartitionExplainer explainer:  31%|███       | 129/420 [07:09<45:11,  9.32s/it]"
     ]
    },
    {
     "data": {
      "application/vnd.jupyter.widget-view+json": {
       "model_id": "a4682299578c40ad9e07646a8465103d",
       "version_major": 2,
       "version_minor": 0
      },
      "text/plain": [
       "  0%|          | 0/342 [00:00<?, ?it/s]"
      ]
     },
     "metadata": {},
     "output_type": "display_data"
    },
    {
     "name": "stderr",
     "output_type": "stream",
     "text": [
      "PartitionExplainer explainer:  31%|███       | 130/420 [07:18<44:27,  9.20s/it]"
     ]
    },
    {
     "data": {
      "application/vnd.jupyter.widget-view+json": {
       "model_id": "9c3b0848e5bd423ebf1bf8c2f315ce53",
       "version_major": 2,
       "version_minor": 0
      },
      "text/plain": [
       "  0%|          | 0/342 [00:00<?, ?it/s]"
      ]
     },
     "metadata": {},
     "output_type": "display_data"
    },
    {
     "name": "stderr",
     "output_type": "stream",
     "text": [
      "PartitionExplainer explainer:  31%|███       | 131/420 [07:28<44:43,  9.29s/it]"
     ]
    },
    {
     "data": {
      "application/vnd.jupyter.widget-view+json": {
       "model_id": "537b93b123b544c5b86c5a748aca43e9",
       "version_major": 2,
       "version_minor": 0
      },
      "text/plain": [
       "  0%|          | 0/342 [00:00<?, ?it/s]"
      ]
     },
     "metadata": {},
     "output_type": "display_data"
    },
    {
     "name": "stderr",
     "output_type": "stream",
     "text": [
      "PartitionExplainer explainer:  31%|███▏      | 132/420 [07:38<45:10,  9.41s/it]"
     ]
    },
    {
     "data": {
      "application/vnd.jupyter.widget-view+json": {
       "model_id": "a1fc8be9a8e642eda02f5f3b91e80db3",
       "version_major": 2,
       "version_minor": 0
      },
      "text/plain": [
       "  0%|          | 0/306 [00:00<?, ?it/s]"
      ]
     },
     "metadata": {},
     "output_type": "display_data"
    },
    {
     "name": "stderr",
     "output_type": "stream",
     "text": [
      "PartitionExplainer explainer:  32%|███▏      | 133/420 [07:47<45:01,  9.41s/it]"
     ]
    },
    {
     "data": {
      "application/vnd.jupyter.widget-view+json": {
       "model_id": "98ba9189b6524b69877361cc3b7dc1e6",
       "version_major": 2,
       "version_minor": 0
      },
      "text/plain": [
       "  0%|          | 0/306 [00:00<?, ?it/s]"
      ]
     },
     "metadata": {},
     "output_type": "display_data"
    },
    {
     "name": "stderr",
     "output_type": "stream",
     "text": [
      "PartitionExplainer explainer:  40%|████      | 170/420 [09:07<11:53,  2.85s/it]"
     ]
    },
    {
     "data": {
      "application/vnd.jupyter.widget-view+json": {
       "model_id": "bd772bfba61a4222a372193b803e80ac",
       "version_major": 2,
       "version_minor": 0
      },
      "text/plain": [
       "  0%|          | 0/210 [00:00<?, ?it/s]"
      ]
     },
     "metadata": {},
     "output_type": "display_data"
    },
    {
     "name": "stderr",
     "output_type": "stream",
     "text": [
      "PartitionExplainer explainer:  41%|████      | 171/420 [09:13<15:08,  3.65s/it]"
     ]
    },
    {
     "data": {
      "application/vnd.jupyter.widget-view+json": {
       "model_id": "58d480df8cc443a19af4ea76ab545527",
       "version_major": 2,
       "version_minor": 0
      },
      "text/plain": [
       "  0%|          | 0/210 [00:00<?, ?it/s]"
      ]
     },
     "metadata": {},
     "output_type": "display_data"
    },
    {
     "name": "stderr",
     "output_type": "stream",
     "text": [
      "PartitionExplainer explainer:  41%|████      | 172/420 [09:18<17:14,  4.17s/it]"
     ]
    },
    {
     "data": {
      "application/vnd.jupyter.widget-view+json": {
       "model_id": "4a4b1ed6ce1d45b8a84104fd4fffdf17",
       "version_major": 2,
       "version_minor": 0
      },
      "text/plain": [
       "  0%|          | 0/210 [00:00<?, ?it/s]"
      ]
     },
     "metadata": {},
     "output_type": "display_data"
    },
    {
     "name": "stderr",
     "output_type": "stream",
     "text": [
      "PartitionExplainer explainer:  41%|████      | 173/420 [09:24<19:03,  4.63s/it]"
     ]
    },
    {
     "data": {
      "application/vnd.jupyter.widget-view+json": {
       "model_id": "f028d0bc6eec49228a80042954964cf0",
       "version_major": 2,
       "version_minor": 0
      },
      "text/plain": [
       "  0%|          | 0/210 [00:00<?, ?it/s]"
      ]
     },
     "metadata": {},
     "output_type": "display_data"
    },
    {
     "name": "stderr",
     "output_type": "stream",
     "text": [
      "PartitionExplainer explainer:  41%|████▏     | 174/420 [09:30<20:45,  5.06s/it]"
     ]
    },
    {
     "data": {
      "application/vnd.jupyter.widget-view+json": {
       "model_id": "b431f086aa844a86b0a6997a0c91e9b3",
       "version_major": 2,
       "version_minor": 0
      },
      "text/plain": [
       "  0%|          | 0/182 [00:00<?, ?it/s]"
      ]
     },
     "metadata": {},
     "output_type": "display_data"
    },
    {
     "name": "stderr",
     "output_type": "stream",
     "text": [
      "PartitionExplainer explainer:  42%|████▏     | 175/420 [09:36<21:42,  5.31s/it]"
     ]
    },
    {
     "data": {
      "application/vnd.jupyter.widget-view+json": {
       "model_id": "7e652f3b1a9f4606a1aab584a720620b",
       "version_major": 2,
       "version_minor": 0
      },
      "text/plain": [
       "  0%|          | 0/182 [00:00<?, ?it/s]"
      ]
     },
     "metadata": {},
     "output_type": "display_data"
    },
    {
     "name": "stderr",
     "output_type": "stream",
     "text": [
      "PartitionExplainer explainer:  45%|████▍     | 187/420 [10:20<13:39,  3.52s/it]"
     ]
    },
    {
     "data": {
      "application/vnd.jupyter.widget-view+json": {
       "model_id": "8763bbcdfc4043e193c28290346a36d6",
       "version_major": 2,
       "version_minor": 0
      },
      "text/plain": [
       "  0%|          | 0/110 [00:00<?, ?it/s]"
      ]
     },
     "metadata": {},
     "output_type": "display_data"
    },
    {
     "name": "stderr",
     "output_type": "stream",
     "text": [
      "PartitionExplainer explainer:  49%|████▉     | 207/420 [11:04<13:57,  3.93s/it]"
     ]
    },
    {
     "data": {
      "application/vnd.jupyter.widget-view+json": {
       "model_id": "a4ff37757ec543d19522c2f18cc13f30",
       "version_major": 2,
       "version_minor": 0
      },
      "text/plain": [
       "  0%|          | 0/182 [00:00<?, ?it/s]"
      ]
     },
     "metadata": {},
     "output_type": "display_data"
    },
    {
     "name": "stderr",
     "output_type": "stream",
     "text": [
      "PartitionExplainer explainer:  50%|████▉     | 208/420 [11:10<15:34,  4.41s/it]"
     ]
    },
    {
     "data": {
      "application/vnd.jupyter.widget-view+json": {
       "model_id": "a940b6bf8942408885ac572cdd59ffa8",
       "version_major": 2,
       "version_minor": 0
      },
      "text/plain": [
       "  0%|          | 0/182 [00:00<?, ?it/s]"
      ]
     },
     "metadata": {},
     "output_type": "display_data"
    },
    {
     "name": "stderr",
     "output_type": "stream",
     "text": [
      "PartitionExplainer explainer:  52%|█████▏    | 218/420 [11:54<14:14,  4.23s/it]"
     ]
    },
    {
     "data": {
      "application/vnd.jupyter.widget-view+json": {
       "model_id": "00758ebdf236456eaaa3766040381e4c",
       "version_major": 2,
       "version_minor": 0
      },
      "text/plain": [
       "  0%|          | 0/272 [00:00<?, ?it/s]"
      ]
     },
     "metadata": {},
     "output_type": "display_data"
    },
    {
     "name": "stderr",
     "output_type": "stream",
     "text": [
      "PartitionExplainer explainer:  52%|█████▏    | 219/420 [12:03<18:40,  5.58s/it]"
     ]
    },
    {
     "data": {
      "application/vnd.jupyter.widget-view+json": {
       "model_id": "97583758eda14dce92656efd0458674f",
       "version_major": 2,
       "version_minor": 0
      },
      "text/plain": [
       "  0%|          | 0/306 [00:00<?, ?it/s]"
      ]
     },
     "metadata": {},
     "output_type": "display_data"
    },
    {
     "name": "stderr",
     "output_type": "stream",
     "text": [
      "PartitionExplainer explainer:  52%|█████▏    | 220/420 [12:12<22:17,  6.69s/it]"
     ]
    },
    {
     "data": {
      "application/vnd.jupyter.widget-view+json": {
       "model_id": "a003a477e1ca48868114f151080dacaf",
       "version_major": 2,
       "version_minor": 0
      },
      "text/plain": [
       "  0%|          | 0/306 [00:00<?, ?it/s]"
      ]
     },
     "metadata": {},
     "output_type": "display_data"
    },
    {
     "name": "stderr",
     "output_type": "stream",
     "text": [
      "PartitionExplainer explainer:  53%|█████▎    | 221/420 [12:20<24:05,  7.26s/it]"
     ]
    },
    {
     "data": {
      "application/vnd.jupyter.widget-view+json": {
       "model_id": "3db499ffdafa41ca9d76cb008ec979d2",
       "version_major": 2,
       "version_minor": 0
      },
      "text/plain": [
       "  0%|          | 0/306 [00:00<?, ?it/s]"
      ]
     },
     "metadata": {},
     "output_type": "display_data"
    },
    {
     "name": "stderr",
     "output_type": "stream",
     "text": [
      "PartitionExplainer explainer:  53%|█████▎    | 222/420 [12:30<26:00,  7.88s/it]"
     ]
    },
    {
     "data": {
      "application/vnd.jupyter.widget-view+json": {
       "model_id": "a3b0ce31fd2f46dda86d2c1c6254c721",
       "version_major": 2,
       "version_minor": 0
      },
      "text/plain": [
       "  0%|          | 0/306 [00:00<?, ?it/s]"
      ]
     },
     "metadata": {},
     "output_type": "display_data"
    },
    {
     "name": "stderr",
     "output_type": "stream",
     "text": [
      "PartitionExplainer explainer:  53%|█████▎    | 223/420 [12:39<27:10,  8.28s/it]"
     ]
    },
    {
     "data": {
      "application/vnd.jupyter.widget-view+json": {
       "model_id": "b1f8a786e5c24c5cb637c4c252511794",
       "version_major": 2,
       "version_minor": 0
      },
      "text/plain": [
       "  0%|          | 0/272 [00:00<?, ?it/s]"
      ]
     },
     "metadata": {},
     "output_type": "display_data"
    },
    {
     "name": "stderr",
     "output_type": "stream",
     "text": [
      "PartitionExplainer explainer:  53%|█████▎    | 224/420 [12:48<28:07,  8.61s/it]"
     ]
    },
    {
     "data": {
      "application/vnd.jupyter.widget-view+json": {
       "model_id": "b9597c21263a4241bb329aec28b7a3c5",
       "version_major": 2,
       "version_minor": 0
      },
      "text/plain": [
       "  0%|          | 0/272 [00:00<?, ?it/s]"
      ]
     },
     "metadata": {},
     "output_type": "display_data"
    },
    {
     "name": "stderr",
     "output_type": "stream",
     "text": [
      "PartitionExplainer explainer:  57%|█████▋    | 240/420 [13:37<08:02,  2.68s/it]"
     ]
    },
    {
     "data": {
      "application/vnd.jupyter.widget-view+json": {
       "model_id": "c858a4e6f37846c98d6af7e031f14f21",
       "version_major": 2,
       "version_minor": 0
      },
      "text/plain": [
       "  0%|          | 0/156 [00:00<?, ?it/s]"
      ]
     },
     "metadata": {},
     "output_type": "display_data"
    },
    {
     "name": "stderr",
     "output_type": "stream",
     "text": [
      "PartitionExplainer explainer:  60%|██████    | 253/420 [14:23<09:18,  3.35s/it]"
     ]
    },
    {
     "data": {
      "application/vnd.jupyter.widget-view+json": {
       "model_id": "141a78d7625f4f16aadc52f663713b29",
       "version_major": 2,
       "version_minor": 0
      },
      "text/plain": [
       "  0%|          | 0/210 [00:00<?, ?it/s]"
      ]
     },
     "metadata": {},
     "output_type": "display_data"
    },
    {
     "name": "stderr",
     "output_type": "stream",
     "text": [
      "PartitionExplainer explainer:  60%|██████    | 254/420 [14:28<10:54,  3.94s/it]"
     ]
    },
    {
     "data": {
      "application/vnd.jupyter.widget-view+json": {
       "model_id": "79a015fdc8014f58b91921f477286a60",
       "version_major": 2,
       "version_minor": 0
      },
      "text/plain": [
       "  0%|          | 0/240 [00:00<?, ?it/s]"
      ]
     },
     "metadata": {},
     "output_type": "display_data"
    },
    {
     "name": "stderr",
     "output_type": "stream",
     "text": [
      "PartitionExplainer explainer:  61%|██████    | 255/420 [14:33<11:46,  4.28s/it]"
     ]
    },
    {
     "data": {
      "application/vnd.jupyter.widget-view+json": {
       "model_id": "a2913410fcdf419092e7ba3f48f476a4",
       "version_major": 2,
       "version_minor": 0
      },
      "text/plain": [
       "  0%|          | 0/240 [00:00<?, ?it/s]"
      ]
     },
     "metadata": {},
     "output_type": "display_data"
    },
    {
     "name": "stderr",
     "output_type": "stream",
     "text": [
      "PartitionExplainer explainer:  61%|██████    | 256/420 [14:40<13:30,  4.94s/it]"
     ]
    },
    {
     "data": {
      "application/vnd.jupyter.widget-view+json": {
       "model_id": "424728c852684e8fafc5457cd91db3e2",
       "version_major": 2,
       "version_minor": 0
      },
      "text/plain": [
       "  0%|          | 0/240 [00:00<?, ?it/s]"
      ]
     },
     "metadata": {},
     "output_type": "display_data"
    },
    {
     "name": "stderr",
     "output_type": "stream",
     "text": [
      "PartitionExplainer explainer:  61%|██████    | 257/420 [14:46<14:08,  5.21s/it]"
     ]
    },
    {
     "data": {
      "application/vnd.jupyter.widget-view+json": {
       "model_id": "356ea5c0df84457a86d9f20204a45561",
       "version_major": 2,
       "version_minor": 0
      },
      "text/plain": [
       "  0%|          | 0/240 [00:00<?, ?it/s]"
      ]
     },
     "metadata": {},
     "output_type": "display_data"
    },
    {
     "name": "stderr",
     "output_type": "stream",
     "text": [
      "PartitionExplainer explainer:  62%|██████▏   | 259/420 [14:56<13:45,  5.13s/it]"
     ]
    },
    {
     "data": {
      "application/vnd.jupyter.widget-view+json": {
       "model_id": "abf0172bb6ac46dea2cb76f7d7827e39",
       "version_major": 2,
       "version_minor": 0
      },
      "text/plain": [
       "  0%|          | 0/210 [00:00<?, ?it/s]"
      ]
     },
     "metadata": {},
     "output_type": "display_data"
    },
    {
     "name": "stderr",
     "output_type": "stream",
     "text": [
      "PartitionExplainer explainer:  62%|██████▏   | 260/420 [15:01<13:44,  5.15s/it]"
     ]
    },
    {
     "data": {
      "application/vnd.jupyter.widget-view+json": {
       "model_id": "cbbf667616274ccfb2ffcdc2e1aa833b",
       "version_major": 2,
       "version_minor": 0
      },
      "text/plain": [
       "  0%|          | 0/182 [00:00<?, ?it/s]"
      ]
     },
     "metadata": {},
     "output_type": "display_data"
    },
    {
     "name": "stderr",
     "output_type": "stream",
     "text": [
      "PartitionExplainer explainer:  62%|██████▏   | 261/420 [15:07<14:29,  5.47s/it]"
     ]
    },
    {
     "data": {
      "application/vnd.jupyter.widget-view+json": {
       "model_id": "25e3f80c23044e59977bede5354e2d8b",
       "version_major": 2,
       "version_minor": 0
      },
      "text/plain": [
       "  0%|          | 0/210 [00:00<?, ?it/s]"
      ]
     },
     "metadata": {},
     "output_type": "display_data"
    },
    {
     "name": "stderr",
     "output_type": "stream",
     "text": [
      "PartitionExplainer explainer:  62%|██████▏   | 262/420 [15:15<15:46,  5.99s/it]"
     ]
    },
    {
     "data": {
      "application/vnd.jupyter.widget-view+json": {
       "model_id": "8ea91f7fc4d24457ab18e3bf4afff305",
       "version_major": 2,
       "version_minor": 0
      },
      "text/plain": [
       "  0%|          | 0/210 [00:00<?, ?it/s]"
      ]
     },
     "metadata": {},
     "output_type": "display_data"
    },
    {
     "name": "stderr",
     "output_type": "stream",
     "text": [
      "PartitionExplainer explainer:  63%|██████▎   | 263/420 [15:21<16:04,  6.14s/it]"
     ]
    },
    {
     "data": {
      "application/vnd.jupyter.widget-view+json": {
       "model_id": "657929b0af9a404cae4239edad6750b3",
       "version_major": 2,
       "version_minor": 0
      },
      "text/plain": [
       "  0%|          | 0/210 [00:00<?, ?it/s]"
      ]
     },
     "metadata": {},
     "output_type": "display_data"
    },
    {
     "name": "stderr",
     "output_type": "stream",
     "text": [
      "PartitionExplainer explainer:  63%|██████▎   | 264/420 [15:29<17:44,  6.82s/it]"
     ]
    },
    {
     "data": {
      "application/vnd.jupyter.widget-view+json": {
       "model_id": "d386303c6da5459d9990fe8771d866f2",
       "version_major": 2,
       "version_minor": 0
      },
      "text/plain": [
       "  0%|          | 0/210 [00:00<?, ?it/s]"
      ]
     },
     "metadata": {},
     "output_type": "display_data"
    },
    {
     "name": "stderr",
     "output_type": "stream",
     "text": [
      "PartitionExplainer explainer:  63%|██████▎   | 265/420 [15:37<17:45,  6.88s/it]"
     ]
    },
    {
     "data": {
      "application/vnd.jupyter.widget-view+json": {
       "model_id": "65fa59b05a4e412aa1b6fd299e6b5051",
       "version_major": 2,
       "version_minor": 0
      },
      "text/plain": [
       "  0%|          | 0/182 [00:00<?, ?it/s]"
      ]
     },
     "metadata": {},
     "output_type": "display_data"
    },
    {
     "name": "stderr",
     "output_type": "stream",
     "text": [
      "PartitionExplainer explainer:  63%|██████▎   | 266/420 [15:42<16:30,  6.43s/it]"
     ]
    },
    {
     "data": {
      "application/vnd.jupyter.widget-view+json": {
       "model_id": "da37cad928ec4d2ebf8c7f424b9dab57",
       "version_major": 2,
       "version_minor": 0
      },
      "text/plain": [
       "  0%|          | 0/182 [00:00<?, ?it/s]"
      ]
     },
     "metadata": {},
     "output_type": "display_data"
    },
    {
     "name": "stderr",
     "output_type": "stream",
     "text": [
      "PartitionExplainer explainer:  95%|█████████▌| 401/420 [21:08<00:39,  2.09s/it]"
     ]
    },
    {
     "data": {
      "application/vnd.jupyter.widget-view+json": {
       "model_id": "930600c98e3a43df8c98a0a8fefac7d1",
       "version_major": 2,
       "version_minor": 0
      },
      "text/plain": [
       "  0%|          | 0/182 [00:00<?, ?it/s]"
      ]
     },
     "metadata": {},
     "output_type": "display_data"
    },
    {
     "name": "stderr",
     "output_type": "stream",
     "text": [
      "PartitionExplainer explainer:  96%|█████████▌| 402/420 [21:13<00:55,  3.09s/it]"
     ]
    },
    {
     "data": {
      "application/vnd.jupyter.widget-view+json": {
       "model_id": "ca20ea808cef4c0fa697e017a3e5d763",
       "version_major": 2,
       "version_minor": 0
      },
      "text/plain": [
       "  0%|          | 0/182 [00:00<?, ?it/s]"
      ]
     },
     "metadata": {},
     "output_type": "display_data"
    },
    {
     "name": "stderr",
     "output_type": "stream",
     "text": [
      "PartitionExplainer explainer:  96%|█████████▌| 403/420 [21:20<01:09,  4.11s/it]"
     ]
    },
    {
     "data": {
      "application/vnd.jupyter.widget-view+json": {
       "model_id": "ac621c2c366f4674a76e871132aca9d4",
       "version_major": 2,
       "version_minor": 0
      },
      "text/plain": [
       "  0%|          | 0/182 [00:00<?, ?it/s]"
      ]
     },
     "metadata": {},
     "output_type": "display_data"
    },
    {
     "name": "stderr",
     "output_type": "stream",
     "text": [
      "PartitionExplainer explainer:  96%|█████████▌| 404/420 [21:25<01:11,  4.45s/it]"
     ]
    },
    {
     "data": {
      "application/vnd.jupyter.widget-view+json": {
       "model_id": "9eaef3751db044bc81d4d0aa46feb639",
       "version_major": 2,
       "version_minor": 0
      },
      "text/plain": [
       "  0%|          | 0/182 [00:00<?, ?it/s]"
      ]
     },
     "metadata": {},
     "output_type": "display_data"
    },
    {
     "name": "stderr",
     "output_type": "stream",
     "text": [
      "PartitionExplainer explainer: 421it [22:22,  3.25s/it]                         \n"
     ]
    },
    {
     "name": "stdout",
     "output_type": "stream",
     "text": [
      "Processing Davidson_hate\n"
     ]
    },
    {
     "name": "stderr",
     "output_type": "stream",
     "text": [
      "Device set to use cuda:0\n",
      "PartitionExplainer explainer:   2%|▏         | 8/420 [00:00<?, ?it/s]"
     ]
    },
    {
     "data": {
      "application/vnd.jupyter.widget-view+json": {
       "model_id": "748c91efe7eb4c788822fd04ab863c8b",
       "version_major": 2,
       "version_minor": 0
      },
      "text/plain": [
       "  0%|          | 0/156 [00:00<?, ?it/s]"
      ]
     },
     "metadata": {},
     "output_type": "display_data"
    },
    {
     "name": "stderr",
     "output_type": "stream",
     "text": [
      "PartitionExplainer explainer:   2%|▏         | 10/420 [00:20<23:13,  3.40s/it]"
     ]
    },
    {
     "data": {
      "application/vnd.jupyter.widget-view+json": {
       "model_id": "c4c534b30ea84290a7274b9abe065f3a",
       "version_major": 2,
       "version_minor": 0
      },
      "text/plain": [
       "  0%|          | 0/156 [00:00<?, ?it/s]"
      ]
     },
     "metadata": {},
     "output_type": "display_data"
    },
    {
     "name": "stderr",
     "output_type": "stream",
     "text": [
      "PartitionExplainer explainer:   3%|▎         | 11/420 [00:26<29:05,  4.27s/it]"
     ]
    },
    {
     "data": {
      "application/vnd.jupyter.widget-view+json": {
       "model_id": "dfe3f0c32512419486f8cd080fbf29a5",
       "version_major": 2,
       "version_minor": 0
      },
      "text/plain": [
       "  0%|          | 0/156 [00:00<?, ?it/s]"
      ]
     },
     "metadata": {},
     "output_type": "display_data"
    },
    {
     "name": "stderr",
     "output_type": "stream",
     "text": [
      "PartitionExplainer explainer:   3%|▎         | 12/420 [00:31<31:42,  4.66s/it]"
     ]
    },
    {
     "data": {
      "application/vnd.jupyter.widget-view+json": {
       "model_id": "3e597aa6c8fd4223acab91f50f68e15d",
       "version_major": 2,
       "version_minor": 0
      },
      "text/plain": [
       "  0%|          | 0/156 [00:00<?, ?it/s]"
      ]
     },
     "metadata": {},
     "output_type": "display_data"
    },
    {
     "name": "stderr",
     "output_type": "stream",
     "text": [
      "PartitionExplainer explainer: 421it [08:53,  1.29s/it]                         \n",
      "Device set to use cuda:0\n"
     ]
    },
    {
     "name": "stdout",
     "output_type": "stream",
     "text": [
      "Processing CAD_abuse\n"
     ]
    },
    {
     "name": "stderr",
     "output_type": "stream",
     "text": [
      "PartitionExplainer explainer: 421it [07:23,  1.08s/it]                         \n",
      "Device set to use cuda:0\n"
     ]
    },
    {
     "name": "stdout",
     "output_type": "stream",
     "text": [
      "Processing CAD_hate\n"
     ]
    },
    {
     "name": "stderr",
     "output_type": "stream",
     "text": [
      "PartitionExplainer explainer: 421it [07:24,  1.09s/it]                         \n"
     ]
    }
   ],
   "source": [
    "datasets = ['Davidson_abuse', 'Davidson_hate', 'CAD_abuse', 'CAD_hate'] #'Founta_abuse', 'Founta_hate',\n",
    "\n",
    "shap_scores = {}\n",
    "shap_tokens = {}\n",
    "\n",
    "for dataset in datasets:\n",
    "    print(\"Processing {}\".format(dataset))\n",
    "    model = BertForSequenceClassification.from_pretrained(\"Models/{}\".format(dataset))\n",
    "    model.resize_token_embeddings(len(tokenizer))\n",
    "    model.eval()\n",
    "    classifier = pipeline(\"text-classification\", model=model, tokenizer=tokenizer)\n",
    "    explainer = shap.Explainer(classifier)\n",
    "  #  preds = classifier(hatecheck_cases)\n",
    "  #  pos_cases = [tt for tt, pp in zip(hatecheck_cases, preds) if pp['label'] == 'LABEL_1']\n",
    "    shap_values = explainer(hatecheck_cases)\n",
    "    shap_tokens[dataset] = [[ww.strip().lower() for ww in list(dd)] for dd in shap_values.data]\n",
    "    shap_scores[dataset] = shap_values.values.tolist()\n",
    "\n"
   ]
  },
  {
   "cell_type": "code",
   "execution_count": null,
   "id": "b83090a0-ddc2-4c3f-ae00-10622d86ff13",
   "metadata": {},
   "outputs": [],
   "source": []
  },
  {
   "cell_type": "code",
   "execution_count": 24,
   "id": "a833522f",
   "metadata": {},
   "outputs": [],
   "source": [
    "scores = {dd:[] for dd in datasets}\n",
    "targets = {dd:[] for dd in datasets}\n",
    "\n",
    "for dataset in datasets:\n",
    "    for tt, ss in zip(shap_tokens[dataset], shap_scores[dataset]):\n",
    "        if 'women' in tt:\n",
    "            scores[dataset].append(ss[tt.index('women'), 1])\n",
    "            targets[dataset].append('women')\n",
    "        elif 'woman' in tt:\n",
    "            scores[dataset].append(ss[tt.index('woman'), 1])\n",
    "            targets[dataset].append('women')\n",
    "        elif 'female' in tt:\n",
    "            scores[dataset].append(ss[tt.index('female'), 1])\n",
    "            targets[dataset].append('women')\n",
    "        elif 'trans' in tt:\n",
    "            scores[dataset].append(ss[tt.index('trans'), 1])\n",
    "            targets[dataset].append('trans people')\n",
    "        elif 'gay' in tt:\n",
    "            scores[dataset].append(ss[tt.index('gay'), 1])\n",
    "            targets[dataset].append('gay people')\n",
    "        elif 'black' in tt:\n",
    "            scores[dataset].append(ss[tt.index('black'), 1])\n",
    "            targets[dataset].append('black people') \n",
    "        elif 'disabled' in tt:\n",
    "            scores[dataset].append(ss[tt.index('disabled'), 1])\n",
    "            targets[dataset].append('disabled people')\n",
    "        elif 'muslims' in tt:\n",
    "            scores[dataset].append(ss[tt.index('muslims'), 1])\n",
    "            targets[dataset].append('Muslims')\n",
    "        elif 'muslim' in tt:\n",
    "            scores[dataset].append(ss[tt.index('muslim'), 1])\n",
    "            targets[dataset].append('Muslims')\n",
    "        elif 'immigrants' in tt:\n",
    "            scores[dataset].append(ss[tt.index('immigrants'), 1])\n",
    "            targets[dataset].append('immigrants')\n",
    "        elif 'immigrant' in tt:\n",
    "            scores[dataset].append(ss[tt.index('immigrant'), 1])\n",
    "            targets[dataset].append('immigrants')\n",
    "        else:\n",
    "            raise ValueError(\"Didn't find either target in {}\".format(tt))"
   ]
  },
  {
   "cell_type": "code",
   "execution_count": null,
   "id": "39e30d74-0eb3-4aa5-bcd7-ac5a78d2294c",
   "metadata": {},
   "outputs": [],
   "source": []
  },
  {
   "cell_type": "code",
   "execution_count": 27,
   "id": "b3a16706",
   "metadata": {},
   "outputs": [
    {
     "data": {
      "text/html": [
       "<div>\n",
       "<style scoped>\n",
       "    .dataframe tbody tr th:only-of-type {\n",
       "        vertical-align: middle;\n",
       "    }\n",
       "\n",
       "    .dataframe tbody tr th {\n",
       "        vertical-align: top;\n",
       "    }\n",
       "\n",
       "    .dataframe thead tr th {\n",
       "        text-align: left;\n",
       "    }\n",
       "\n",
       "    .dataframe thead tr:last-of-type th {\n",
       "        text-align: right;\n",
       "    }\n",
       "</style>\n",
       "<table border=\"1\" class=\"dataframe\">\n",
       "  <thead>\n",
       "    <tr>\n",
       "      <th></th>\n",
       "      <th>value</th>\n",
       "      <th colspan=\"4\" halign=\"left\">shap</th>\n",
       "    </tr>\n",
       "    <tr>\n",
       "      <th></th>\n",
       "      <th>Dataset</th>\n",
       "      <th>Davidson_abuse</th>\n",
       "      <th>Davidson_hate</th>\n",
       "      <th>CAD_abuse</th>\n",
       "      <th>CAD_hate</th>\n",
       "    </tr>\n",
       "    <tr>\n",
       "      <th>target</th>\n",
       "      <th>text</th>\n",
       "      <th></th>\n",
       "      <th></th>\n",
       "      <th></th>\n",
       "      <th></th>\n",
       "    </tr>\n",
       "  </thead>\n",
       "  <tbody>\n",
       "    <tr>\n",
       "      <th>women</th>\n",
       "      <th>I hate women.</th>\n",
       "      <td>0.186772</td>\n",
       "      <td>-0.001879</td>\n",
       "      <td>0.986173</td>\n",
       "      <td>0.988705</td>\n",
       "    </tr>\n",
       "    <tr>\n",
       "      <th>trans people</th>\n",
       "      <th>I hate trans people.</th>\n",
       "      <td>-0.038860</td>\n",
       "      <td>-0.006247</td>\n",
       "      <td>0.867330</td>\n",
       "      <td>0.935674</td>\n",
       "    </tr>\n",
       "    <tr>\n",
       "      <th>gay people</th>\n",
       "      <th>I hate gay people.</th>\n",
       "      <td>0.264525</td>\n",
       "      <td>0.273959</td>\n",
       "      <td>0.758691</td>\n",
       "      <td>0.790751</td>\n",
       "    </tr>\n",
       "    <tr>\n",
       "      <th>black people</th>\n",
       "      <th>I hate black people.</th>\n",
       "      <td>0.006293</td>\n",
       "      <td>0.102019</td>\n",
       "      <td>0.624196</td>\n",
       "      <td>0.891789</td>\n",
       "    </tr>\n",
       "    <tr>\n",
       "      <th>disabled people</th>\n",
       "      <th>I hate disabled people.</th>\n",
       "      <td>-0.416061</td>\n",
       "      <td>0.024623</td>\n",
       "      <td>0.000000</td>\n",
       "      <td>0.000000</td>\n",
       "    </tr>\n",
       "    <tr>\n",
       "      <th>...</th>\n",
       "      <th>...</th>\n",
       "      <td>...</td>\n",
       "      <td>...</td>\n",
       "      <td>...</td>\n",
       "      <td>...</td>\n",
       "    </tr>\n",
       "    <tr>\n",
       "      <th>gay people</th>\n",
       "      <th>Swarms of gay people are infesting our government.</th>\n",
       "      <td>0.502129</td>\n",
       "      <td>0.438742</td>\n",
       "      <td>0.905714</td>\n",
       "      <td>0.688162</td>\n",
       "    </tr>\n",
       "    <tr>\n",
       "      <th>black people</th>\n",
       "      <th>Swarms of black people are infesting our government.</th>\n",
       "      <td>0.052830</td>\n",
       "      <td>0.214297</td>\n",
       "      <td>0.580109</td>\n",
       "      <td>0.471466</td>\n",
       "    </tr>\n",
       "    <tr>\n",
       "      <th>disabled people</th>\n",
       "      <th>Swarms of disabled people are infesting our government.</th>\n",
       "      <td>-0.211793</td>\n",
       "      <td>0.065064</td>\n",
       "      <td>0.077242</td>\n",
       "      <td>-0.054034</td>\n",
       "    </tr>\n",
       "    <tr>\n",
       "      <th>Muslims</th>\n",
       "      <th>Swarms of Muslims are infesting our government.</th>\n",
       "      <td>0.313691</td>\n",
       "      <td>0.639395</td>\n",
       "      <td>0.992925</td>\n",
       "      <td>0.939101</td>\n",
       "    </tr>\n",
       "    <tr>\n",
       "      <th>immigrants</th>\n",
       "      <th>Swarms of immigrants are infesting our government.</th>\n",
       "      <td>0.014149</td>\n",
       "      <td>0.208508</td>\n",
       "      <td>0.085167</td>\n",
       "      <td>0.823895</td>\n",
       "    </tr>\n",
       "  </tbody>\n",
       "</table>\n",
       "<p>420 rows × 4 columns</p>\n",
       "</div>"
      ],
      "text/plain": [
       "value                                                                        shap  \\\n",
       "Dataset                                                            Davidson_abuse   \n",
       "target          text                                                                \n",
       "women           I hate women.                                            0.186772   \n",
       "trans people    I hate trans people.                                    -0.038860   \n",
       "gay people      I hate gay people.                                       0.264525   \n",
       "black people    I hate black people.                                     0.006293   \n",
       "disabled people I hate disabled people.                                 -0.416061   \n",
       "...                                                                           ...   \n",
       "gay people      Swarms of gay people are infesting our government.       0.502129   \n",
       "black people    Swarms of black people are infesting our govern...       0.052830   \n",
       "disabled people Swarms of disabled people are infesting our gov...      -0.211793   \n",
       "Muslims         Swarms of Muslims are infesting our government.          0.313691   \n",
       "immigrants      Swarms of immigrants are infesting our government.       0.014149   \n",
       "\n",
       "value                                                                             \\\n",
       "Dataset                                                            Davidson_hate   \n",
       "target          text                                                               \n",
       "women           I hate women.                                          -0.001879   \n",
       "trans people    I hate trans people.                                   -0.006247   \n",
       "gay people      I hate gay people.                                      0.273959   \n",
       "black people    I hate black people.                                    0.102019   \n",
       "disabled people I hate disabled people.                                 0.024623   \n",
       "...                                                                          ...   \n",
       "gay people      Swarms of gay people are infesting our government.      0.438742   \n",
       "black people    Swarms of black people are infesting our govern...      0.214297   \n",
       "disabled people Swarms of disabled people are infesting our gov...      0.065064   \n",
       "Muslims         Swarms of Muslims are infesting our government.         0.639395   \n",
       "immigrants      Swarms of immigrants are infesting our government.      0.208508   \n",
       "\n",
       "value                                                                         \\\n",
       "Dataset                                                            CAD_abuse   \n",
       "target          text                                                           \n",
       "women           I hate women.                                       0.986173   \n",
       "trans people    I hate trans people.                                0.867330   \n",
       "gay people      I hate gay people.                                  0.758691   \n",
       "black people    I hate black people.                                0.624196   \n",
       "disabled people I hate disabled people.                             0.000000   \n",
       "...                                                                      ...   \n",
       "gay people      Swarms of gay people are infesting our government.  0.905714   \n",
       "black people    Swarms of black people are infesting our govern...  0.580109   \n",
       "disabled people Swarms of disabled people are infesting our gov...  0.077242   \n",
       "Muslims         Swarms of Muslims are infesting our government.     0.992925   \n",
       "immigrants      Swarms of immigrants are infesting our government.  0.085167   \n",
       "\n",
       "value                                                                         \n",
       "Dataset                                                             CAD_hate  \n",
       "target          text                                                          \n",
       "women           I hate women.                                       0.988705  \n",
       "trans people    I hate trans people.                                0.935674  \n",
       "gay people      I hate gay people.                                  0.790751  \n",
       "black people    I hate black people.                                0.891789  \n",
       "disabled people I hate disabled people.                             0.000000  \n",
       "...                                                                      ...  \n",
       "gay people      Swarms of gay people are infesting our government.  0.688162  \n",
       "black people    Swarms of black people are infesting our govern...  0.471466  \n",
       "disabled people Swarms of disabled people are infesting our gov... -0.054034  \n",
       "Muslims         Swarms of Muslims are infesting our government.     0.939101  \n",
       "immigrants      Swarms of immigrants are infesting our government.  0.823895  \n",
       "\n",
       "[420 rows x 4 columns]"
      ]
     },
     "execution_count": 27,
     "metadata": {},
     "output_type": "execute_result"
    }
   ],
   "source": [
    "df_dict = {('shap', dd): scores[dd] for dd in datasets}\n",
    "ind = [(tt, xx.strip()) for xx, tt in zip(hatecheck_cases, targets['CAD_hate'])]\n",
    "shap_df = pd.DataFrame(df_dict, index=ind)\n",
    "shap_df.columns = pd.MultiIndex.from_tuples(shap_df.columns, names=['value','Dataset'])\n",
    "shap_df.index = pd.MultiIndex.from_tuples(shap_df.index, names=['target', 'text'])\n",
    "shap_df"
   ]
  },
  {
   "cell_type": "code",
   "execution_count": 28,
   "id": "f14f03bc",
   "metadata": {},
   "outputs": [],
   "source": [
    "pickle.dump(shap_df, open(\"Data/shap_scores.pickle\", \"wb\"))"
   ]
  },
  {
   "cell_type": "code",
   "execution_count": 29,
   "id": "51f07815",
   "metadata": {},
   "outputs": [],
   "source": [
    "master_df = pickle.load(open(\"Data/HateCheck_individual_necc_suff_scores_2.pickle\", \"rb\"))\n",
    "joint_df = pd.merge(master_df, shap_df, left_index=True, right_index=True)\n",
    "joint_df = joint_df[joint_df[\"prediction\"] == 1]"
   ]
  },
  {
   "cell_type": "code",
   "execution_count": 30,
   "id": "ffe83ad3",
   "metadata": {},
   "outputs": [
    {
     "data": {
      "text/html": [
       "<div>\n",
       "<style scoped>\n",
       "    .dataframe tbody tr th:only-of-type {\n",
       "        vertical-align: middle;\n",
       "    }\n",
       "\n",
       "    .dataframe tbody tr th {\n",
       "        vertical-align: top;\n",
       "    }\n",
       "\n",
       "    .dataframe thead th {\n",
       "        text-align: right;\n",
       "    }\n",
       "</style>\n",
       "<table border=\"1\" class=\"dataframe\">\n",
       "  <thead>\n",
       "    <tr style=\"text-align: right;\">\n",
       "      <th>target</th>\n",
       "      <th>Muslims</th>\n",
       "      <th>black people</th>\n",
       "      <th>disabled people</th>\n",
       "      <th>gay people</th>\n",
       "      <th>immigrants</th>\n",
       "      <th>trans people</th>\n",
       "      <th>women</th>\n",
       "    </tr>\n",
       "    <tr>\n",
       "      <th>Dataset</th>\n",
       "      <th></th>\n",
       "      <th></th>\n",
       "      <th></th>\n",
       "      <th></th>\n",
       "      <th></th>\n",
       "      <th></th>\n",
       "      <th></th>\n",
       "    </tr>\n",
       "  </thead>\n",
       "  <tbody>\n",
       "    <tr>\n",
       "      <th>Davidson_abuse</th>\n",
       "      <td>0.489635</td>\n",
       "      <td>0.093908</td>\n",
       "      <td>-0.282399</td>\n",
       "      <td>0.453861</td>\n",
       "      <td>0.193315</td>\n",
       "      <td>0.002206</td>\n",
       "      <td>0.386166</td>\n",
       "    </tr>\n",
       "    <tr>\n",
       "      <th>Davidson_hate</th>\n",
       "      <td>0.647228</td>\n",
       "      <td>0.167886</td>\n",
       "      <td>0.040580</td>\n",
       "      <td>0.416067</td>\n",
       "      <td>0.508057</td>\n",
       "      <td>-0.014564</td>\n",
       "      <td>-0.220425</td>\n",
       "    </tr>\n",
       "    <tr>\n",
       "      <th>CAD_abuse</th>\n",
       "      <td>0.859465</td>\n",
       "      <td>0.555760</td>\n",
       "      <td>0.049892</td>\n",
       "      <td>0.767981</td>\n",
       "      <td>0.250969</td>\n",
       "      <td>0.790421</td>\n",
       "      <td>0.768246</td>\n",
       "    </tr>\n",
       "    <tr>\n",
       "      <th>CAD_hate</th>\n",
       "      <td>0.932670</td>\n",
       "      <td>0.730839</td>\n",
       "      <td>0.001605</td>\n",
       "      <td>0.914802</td>\n",
       "      <td>0.901327</td>\n",
       "      <td>0.919568</td>\n",
       "      <td>0.844799</td>\n",
       "    </tr>\n",
       "  </tbody>\n",
       "</table>\n",
       "</div>"
      ],
      "text/plain": [
       "target           Muslims  black people  disabled people  gay people  \\\n",
       "Dataset                                                               \n",
       "Davidson_abuse  0.489635      0.093908        -0.282399    0.453861   \n",
       "Davidson_hate   0.647228      0.167886         0.040580    0.416067   \n",
       "CAD_abuse       0.859465      0.555760         0.049892    0.767981   \n",
       "CAD_hate        0.932670      0.730839         0.001605    0.914802   \n",
       "\n",
       "target          immigrants  trans people     women  \n",
       "Dataset                                             \n",
       "Davidson_abuse    0.193315      0.002206  0.386166  \n",
       "Davidson_hate     0.508057     -0.014564 -0.220425  \n",
       "CAD_abuse         0.250969      0.790421  0.768246  \n",
       "CAD_hate          0.901327      0.919568  0.844799  "
      ]
     },
     "execution_count": 30,
     "metadata": {},
     "output_type": "execute_result"
    }
   ],
   "source": [
    "joint_df['shap'].groupby(level='target').mean().transpose()"
   ]
  },
  {
   "cell_type": "markdown",
   "id": "7222ac55",
   "metadata": {},
   "source": [
    "## LIME calculations"
   ]
  },
  {
   "cell_type": "code",
   "execution_count": null,
   "id": "1ef30f2a",
   "metadata": {},
   "outputs": [],
   "source": [
    "dataset = \"CAD_abuse\"\n",
    "model = BertForSequenceClassification.from_pretrained(\"Models/{}\".format(dataset))\n",
    "model.resize_token_embeddings(len(tokenizer))\n",
    "model.eval()\n",
    "classifier = pipeline(\"text-classification\", model=model, tokenizer=tokenizer)\n",
    "\n",
    "def get_probas(classifier_output):\n",
    "    probas = [dd['score'] for dd in classifier_output]\n",
    "    probas = [[1-pp, pp] for pp in probas]\n",
    "    return np.array(probas)"
   ]
  },
  {
   "cell_type": "code",
   "execution_count": null,
   "id": "7ae9dbc2",
   "metadata": {},
   "outputs": [],
   "source": [
    "datasets = ['Davidson_abuse', 'Davidson_hate', 'CAD_abuse', 'CAD_hate'] # 'Founta_abuse', 'Founta_hate', \n",
    "\n",
    "lime_explanations = {}\n",
    "\n",
    "def get_probas(classifier_output):\n",
    "    probas = [dd['score'] for dd in classifier_output]\n",
    "    probas = [[1-pp, pp] for pp in probas]\n",
    "    return np.array(probas)\n",
    "\n",
    "for dataset in datasets:\n",
    "    print(\"Processing {}\".format(dataset))\n",
    "    model = BertForSequenceClassification.from_pretrained(\"Models/{}\".format(dataset))\n",
    "    model.resize_token_embeddings(len(tokenizer))\n",
    "    model.eval()\n",
    "    classifier = pipeline(\"text-classification\", model=model, tokenizer=tokenizer)\n",
    "    predictor = lambda x: get_probas(classifier(x))\n",
    "    explainer = LimeTextExplainer(class_names=['0','1'])\n",
    "    lime_explanations[dataset] = [explainer.explain_instance(ii, predictor).as_list() for ii in hatecheck_cases]"
   ]
  },
  {
   "cell_type": "code",
   "execution_count": null,
   "id": "6ac25385",
   "metadata": {},
   "outputs": [],
   "source": [
    "df_dict = {('lime', dd): scores[dd] for dd in datasets}\n",
    "ind = [(tt, xx.strip()) for xx, tt in zip(hatecheck_cases, targets['CAD_hate'])]\n",
    "lime_df = pd.DataFrame(df_dict, index=ind)\n",
    "lime_df.columns = pd.MultiIndex.from_tuples(lime_df.columns, names=['value','Dataset'])\n",
    "lime_df.index = pd.MultiIndex.from_tuples(lime_df.index, names=['target', 'text'])\n",
    "pickle.dump(lime_df, open(\"Data/lime_scores.pickle\", \"wb\"))"
   ]
  },
  {
   "cell_type": "code",
   "execution_count": null,
   "id": "5be4090a-b5ea-4d13-9af7-cc664c409217",
   "metadata": {},
   "outputs": [],
   "source": []
  },
  {
   "cell_type": "code",
   "execution_count": null,
   "id": "5fff545c",
   "metadata": {},
   "outputs": [],
   "source": [
    "lime_df = pickle.load(open(\"Data/lime_scores.pickle\", \"rb\"))\n",
    "shap_df = pickle.load(open(\"Data/shap_scores.pickle\", \"rb\"))\n",
    "master_df = pickle.load(open(\"Data/HateCheck_individual_necc_suff_scores.pickle\", \"rb\"))\n",
    "joint_df = pd.merge(master_df, shap_df, left_index=True, right_index=True)\n",
    "joint_df = pd.merge(joint_df, lime_df, left_index=True, right_index=True)\n",
    "joint_df = joint_df[joint_df[\"prediction\"] == 1]"
   ]
  },
  {
   "cell_type": "code",
   "execution_count": null,
   "id": "6c97a4ea",
   "metadata": {},
   "outputs": [],
   "source": [
    "joint_df['lime'].groupby(level='target').mean().transpose()"
   ]
  },
  {
   "cell_type": "code",
   "execution_count": null,
   "id": "18977b24",
   "metadata": {},
   "outputs": [],
   "source": [
    "joint_df['shap'].groupby(level='target').std().transpose()"
   ]
  },
  {
   "cell_type": "code",
   "execution_count": null,
   "id": "21bf31eb",
   "metadata": {},
   "outputs": [],
   "source": [
    "joint_df['lime'].groupby(level='target').std().transpose()"
   ]
  },
  {
   "cell_type": "markdown",
   "id": "c7ecef03",
   "metadata": {},
   "source": [
    "## Correlations"
   ]
  },
  {
   "cell_type": "code",
   "execution_count": null,
   "id": "f8e147b2-b758-42ac-a399-96c58116c2fd",
   "metadata": {},
   "outputs": [],
   "source": [
    "datasets = ['Davidson_abuse', 'Davidson_hate', 'CAD_abuse', 'CAD_hate'] # 'Founta_abuse', 'Founta_hate', \n"
   ]
  },
  {
   "cell_type": "code",
   "execution_count": null,
   "id": "edec625d",
   "metadata": {},
   "outputs": [],
   "source": [
    "corrs = {dd: joint_df.xs(dd, level='Dataset', axis=1)[['necessity', 'sufficiency', 'shap']].corr() for dd in datasets}\n",
    "df_concat = pd.concat([cc for cc in corrs.values()])\n",
    "by_row_index = df_concat.groupby(df_concat.index)\n",
    "df_means = by_row_index.mean()\n",
    "df_means"
   ]
  },
  {
   "cell_type": "code",
   "execution_count": null,
   "id": "6c02bb8a",
   "metadata": {},
   "outputs": [],
   "source": [
    "corrs = {dd: joint_df.xs(dd, level='Dataset', axis=1)[['necessity', 'sufficiency', 'lime']].corr() for dd in datasets}\n",
    "df_concat = pd.concat([cc for cc in corrs.values()])\n",
    "by_row_index = df_concat.groupby(df_concat.index)\n",
    "df_means = by_row_index.mean()\n",
    "df_means"
   ]
  },
  {
   "cell_type": "code",
   "execution_count": null,
   "id": "82f227f8",
   "metadata": {},
   "outputs": [],
   "source": [
    "joint_df[('length', '')] = [len(tt.split()) for tt in joint_df.index.get_level_values(\"text\").to_list()]\n",
    "plot_df = pd.DataFrame()\n",
    "plot_df['length'] = joint_df[('length', '')]\n",
    "plot_df['shap'] = joint_df[('shap', 'CAD_hate')]\n",
    "plot_df['necessity'] = joint_df[('necessity', 'CAD_hate')]\n",
    "plot_df['sufficiency'] = joint_df[('sufficiency', 'CAD_hate')]"
   ]
  },
  {
   "cell_type": "code",
   "execution_count": null,
   "id": "09f5e411",
   "metadata": {},
   "outputs": [],
   "source": [
    "g = sns.lmplot(x=\"necessity\", y=\"length\", data=plot_df)"
   ]
  },
  {
   "cell_type": "code",
   "execution_count": null,
   "id": "7b3b7cff",
   "metadata": {},
   "outputs": [],
   "source": [
    "g = sns.lmplot(x=\"sufficiency\", y=\"length\", data=plot_df)"
   ]
  },
  {
   "cell_type": "code",
   "execution_count": null,
   "id": "bed74d99",
   "metadata": {},
   "outputs": [],
   "source": [
    "g = sns.lmplot(x=\"shap\", y=\"length\", data=plot_df)"
   ]
  },
  {
   "cell_type": "code",
   "execution_count": null,
   "id": "9261ebb9",
   "metadata": {},
   "outputs": [],
   "source": [
    "cad_hate_df = joint_df.xs('CAD_hate', level='Dataset', axis=1)\n",
    "cad_hate_df[['necessity', 'sufficiency', 'shap']].corr()"
   ]
  },
  {
   "cell_type": "code",
   "execution_count": null,
   "id": "d97c26d8",
   "metadata": {},
   "outputs": [],
   "source": [
    "cad_hate_df.loc['Muslims'][['necessity', 'sufficiency', 'shap']].corr()"
   ]
  },
  {
   "cell_type": "code",
   "execution_count": null,
   "id": "f9d2106d",
   "metadata": {},
   "outputs": [],
   "source": [
    "cad_hate_df.loc['women'][['necessity', 'sufficiency', 'shap']].corr()"
   ]
  },
  {
   "cell_type": "code",
   "execution_count": null,
   "id": "6a1d67b2",
   "metadata": {},
   "outputs": [],
   "source": [
    "# This is Simpson's paradox! Lets plot to make sure this is what we are seeing. \n",
    "plot_df = cad_hate_df.copy()\n",
    "plot_df.index = cad_hate_df.index.get_level_values('text')\n",
    "plot_df['target'] = cad_hate_df.index.get_level_values('target')\n",
    "g = sns.lmplot(x=\"sufficiency\", y=\"shap\", hue=\"target\", data=plot_df)"
   ]
  },
  {
   "cell_type": "code",
   "execution_count": null,
   "id": "b16f1179",
   "metadata": {},
   "outputs": [],
   "source": [
    "g = sns.lmplot(x=\"necessity\", y=\"sufficiency\", data=plot_df)"
   ]
  },
  {
   "cell_type": "code",
   "execution_count": null,
   "id": "26fecc54",
   "metadata": {},
   "outputs": [],
   "source": [
    "cad_hate_df[['necessity_mask', 'sufficiency_mask', 'shap']].corr()"
   ]
  },
  {
   "cell_type": "code",
   "execution_count": null,
   "id": "2039045b",
   "metadata": {},
   "outputs": [],
   "source": [
    "cad_hate_df[['necessity', 'necessity_mask']].corr()"
   ]
  },
  {
   "cell_type": "code",
   "execution_count": null,
   "id": "109bf9db",
   "metadata": {},
   "outputs": [],
   "source": [
    "cad_hate_df[['sufficiency', 'sufficiency_mask']].corr()"
   ]
  },
  {
   "cell_type": "code",
   "execution_count": 21,
   "id": "24aee8ec",
   "metadata": {},
   "outputs": [
    {
     "name": "stdout",
     "output_type": "stream",
     "text": [
      "Classifying HateCheck perturbations with CAD_hate.\n"
     ]
    },
    {
     "name": "stderr",
     "output_type": "stream",
     "text": [
      "100%|██████████| 66240/66240 [05:35<00:00, 197.59it/s]\n"
     ]
    }
   ],
   "source": [
    "from tqdm import tqdm\n",
    "from perturbation_functions import get_preds_and_scores, calc_suff, calc_necc\n",
    "\n",
    "# re-calculate the necc and suff scores for Founta-hate as comparison\n",
    "perts = pickle.load(open(\"Data/HateCheck_necc_suff_perturbations_2.pickle\",\"rb\"))\n",
    "perts['orig_texts'] = [tt.strip(' \\n') for tt in perts['orig_texts']]\n",
    "dataset = \"CAD_hate\"\n",
    "\n",
    "tokenizer = BertTokenizerFast.from_pretrained('bert-base-uncased')\n",
    "\n",
    "# add special tokens for URLs, emojis and mentions (--> see pre-processing)\n",
    "special_tokens_dict = {'additional_special_tokens': ['[USER]','[EMOJI]','[URL]']}\n",
    "num_added_toks = tokenizer.add_special_tokens(special_tokens_dict)\n",
    "\n",
    "print(\"Classifying HateCheck perturbations with {}.\".format(dataset))\n",
    "#  model = BertForSequenceClassification.from_pretrained(models_dir +'BERT_{}_weighted/Final'.format(dataset))\n",
    "model = BertForSequenceClassification.from_pretrained(\"Models/{}\".format(dataset))\n",
    "model.resize_token_embeddings(len(tokenizer))\n",
    "model.eval()\n",
    "\n",
    "total_len = len(perts['orig_texts']) + sum(len(nn) for nn in perts['necc_perturbed']) + sum(len(nn) for nn in perts['suff_perturbed'])\n",
    "\n",
    "with tqdm(total=total_len) as pbar:\n",
    "    orig_preds, orig_scores = get_preds_and_scores(perts['orig_texts'], tokenizer, model, pbar)\n",
    "\n",
    "    necc_preds = []\n",
    "    necc_scores = []\n",
    "\n",
    "    for tt in perts['necc_perturbed']:\n",
    "        pp, ss = get_preds_and_scores(tt, tokenizer, model, pbar)\n",
    "        necc_preds.append(pp)\n",
    "        necc_scores.append(ss)\n",
    "\n",
    "    suff_preds = []\n",
    "    suff_scores = []\n",
    "\n",
    "    for tt in perts['suff_perturbed']:\n",
    "        pp, ss = get_preds_and_scores(tt, tokenizer, model, pbar)\n",
    "        suff_preds.append(pp)\n",
    "        suff_scores.append(ss)\n",
    "\n",
    "\n",
    "cad_hate_2_results = {\n",
    "            'orig_preds': orig_preds,\n",
    "            'orig_scores': orig_scores,\n",
    "            'necc_preds': necc_preds,\n",
    "            'necc_scores': necc_scores,\n",
    "            'suff_preds': suff_preds,\n",
    "            'suff_scores': suff_scores,\n",
    "            }"
   ]
  },
  {
   "cell_type": "code",
   "execution_count": 22,
   "id": "02475b16",
   "metadata": {},
   "outputs": [],
   "source": [
    "necc_results_2 = []\n",
    "suff_results_2 = []\n",
    "baseline_preds = pickle.load(open(\"Data/Classifier_baselines.pickle\", \"rb\"))\n",
    "baseline_pred = baseline_preds['baseline_preds']['CAD_hate']\n",
    "\n",
    "## NECCESSITY CALCULATIONS\n",
    "for oo, pp, mm in zip(cad_hate_2_results['orig_preds'], \n",
    "                      cad_hate_2_results['necc_preds'], \n",
    "                      perts['necc_masks']):\n",
    "    if oo == 1:\n",
    "        pp = np.array(pp)\n",
    "        necc_results_2.append(calc_necc(oo, pp, mm))\n",
    "    else:\n",
    "        necc_results_2.append(None)  # Fill missing spots with None\n",
    "## SUFFICIENCY CALCULATIONS\n",
    "\n",
    "suffs = []\n",
    "for oo, pp, mm in zip(cad_hate_2_results['orig_preds'],\n",
    "                      cad_hate_2_results['suff_preds'], \n",
    "                      perts['suff_masks']):\n",
    "    if oo == 1:\n",
    "        pp = np.array(pp)\n",
    "        suff_results_2.append(calc_suff(baseline_pred, pp, mm))\n",
    "    else:\n",
    "        suff_results_2.append(None)  # Fill missing spots with None\n"
   ]
  },
  {
   "cell_type": "code",
   "execution_count": 23,
   "id": "c45d1a53",
   "metadata": {},
   "outputs": [],
   "source": [
    "hc_data = pd.read_csv(open(\"hatecheck-data/test_suite_cases.csv\"))\n",
    "hc_data.test_case = hc_data.test_case.apply(lambda tt: tt.strip())"
   ]
  },
  {
   "cell_type": "code",
   "execution_count": 24,
   "id": "4c9e2d88",
   "metadata": {},
   "outputs": [],
   "source": [
    "hc_templs = hc_data[['case_templ']]\n",
    "hc_index = hc_data[['test_case', 'target_ident']].rename(mapper={'test_case':'text', 'target_ident':'target'}, axis='columns')\n",
    "hc_templs.index = pd.MultiIndex.from_frame(hc_index)"
   ]
  },
  {
   "cell_type": "code",
   "execution_count": 25,
   "id": "bb9ba9d7",
   "metadata": {},
   "outputs": [],
   "source": [
    "cad_hate_df = cad_hate_df.merge(hc_templs, how='left', left_index=True, right_index=True)"
   ]
  },
  {
   "cell_type": "code",
   "execution_count": 33,
   "id": "091b076a",
   "metadata": {},
   "outputs": [
    {
     "name": "stdout",
     "output_type": "stream",
     "text": [
      "Index(['necessity', 'sufficiency', 'necessity_mask', 'sufficiency_mask',\n",
      "       'prediction', 'score', 'shap', 'lime', 'case_templ', 'necessity_2',\n",
      "       'sufficiency_2', 'suff_diff', 'necc_diff'],\n",
      "      dtype='object')\n",
      "120 120 120 120\n"
     ]
    }
   ],
   "source": [
    "def find_placeholder(text):\n",
    "    text = text.strip().split()\n",
    "    for nn, tt in enumerate(text):\n",
    "        if tt[:1] == '[':\n",
    "            return nn\n",
    "print(cad_hate_df.columns)\n",
    "\n",
    "placeholder_locs = [find_placeholder(tt) for tt in cad_hate_df.case_templ.tolist()]\n",
    "print(len(necc_results_2), len(suff_results_2), len(placeholder_locs), len(cad_hate_df))\n",
    "cad_hate_df['necessity_2'] = [\n",
    "    ll[nn] if ll is not None and nn >= 0 and nn < len(ll) else None \n",
    "    for ll, nn in zip(necc_results_2, placeholder_locs)\n",
    "]\n",
    "\n",
    "cad_hate_df['sufficiency_2'] = [\n",
    "    ll[nn] if ll is not None and nn >= 0 and nn < len(ll) else None \n",
    "    for ll, nn in zip(suff_results_2, placeholder_locs)\n",
    "]\n",
    "\n",
    "# cad_hate_df['necessity_2'] = [ll[nn] for ll, nn in zip(necc_results_2, placeholder_locs)]\n",
    "# cad_hate_df['sufficiency_2'] = [ll[nn] for ll, nn in zip(suff_results_2, placeholder_locs)]"
   ]
  },
  {
   "cell_type": "code",
   "execution_count": 34,
   "id": "12094938",
   "metadata": {},
   "outputs": [
    {
     "data": {
      "text/html": [
       "<div>\n",
       "<style scoped>\n",
       "    .dataframe tbody tr th:only-of-type {\n",
       "        vertical-align: middle;\n",
       "    }\n",
       "\n",
       "    .dataframe tbody tr th {\n",
       "        vertical-align: top;\n",
       "    }\n",
       "\n",
       "    .dataframe thead th {\n",
       "        text-align: right;\n",
       "    }\n",
       "</style>\n",
       "<table border=\"1\" class=\"dataframe\">\n",
       "  <thead>\n",
       "    <tr style=\"text-align: right;\">\n",
       "      <th></th>\n",
       "      <th>necessity</th>\n",
       "      <th>necessity_2</th>\n",
       "    </tr>\n",
       "  </thead>\n",
       "  <tbody>\n",
       "    <tr>\n",
       "      <th>necessity</th>\n",
       "      <td>1.0</td>\n",
       "      <td>1.0</td>\n",
       "    </tr>\n",
       "    <tr>\n",
       "      <th>necessity_2</th>\n",
       "      <td>1.0</td>\n",
       "      <td>1.0</td>\n",
       "    </tr>\n",
       "  </tbody>\n",
       "</table>\n",
       "</div>"
      ],
      "text/plain": [
       "             necessity  necessity_2\n",
       "necessity          1.0          1.0\n",
       "necessity_2        1.0          1.0"
      ]
     },
     "execution_count": 34,
     "metadata": {},
     "output_type": "execute_result"
    }
   ],
   "source": [
    "cad_hate_df[['necessity', 'necessity_2']].corr()"
   ]
  },
  {
   "cell_type": "code",
   "execution_count": 35,
   "id": "ba843bd7",
   "metadata": {},
   "outputs": [
    {
     "data": {
      "text/html": [
       "<div>\n",
       "<style scoped>\n",
       "    .dataframe tbody tr th:only-of-type {\n",
       "        vertical-align: middle;\n",
       "    }\n",
       "\n",
       "    .dataframe tbody tr th {\n",
       "        vertical-align: top;\n",
       "    }\n",
       "\n",
       "    .dataframe thead th {\n",
       "        text-align: right;\n",
       "    }\n",
       "</style>\n",
       "<table border=\"1\" class=\"dataframe\">\n",
       "  <thead>\n",
       "    <tr style=\"text-align: right;\">\n",
       "      <th></th>\n",
       "      <th>sufficiency</th>\n",
       "      <th>sufficiency_2</th>\n",
       "    </tr>\n",
       "  </thead>\n",
       "  <tbody>\n",
       "    <tr>\n",
       "      <th>sufficiency</th>\n",
       "      <td>1.0</td>\n",
       "      <td>1.0</td>\n",
       "    </tr>\n",
       "    <tr>\n",
       "      <th>sufficiency_2</th>\n",
       "      <td>1.0</td>\n",
       "      <td>1.0</td>\n",
       "    </tr>\n",
       "  </tbody>\n",
       "</table>\n",
       "</div>"
      ],
      "text/plain": [
       "               sufficiency  sufficiency_2\n",
       "sufficiency            1.0            1.0\n",
       "sufficiency_2          1.0            1.0"
      ]
     },
     "execution_count": 35,
     "metadata": {},
     "output_type": "execute_result"
    }
   ],
   "source": [
    "cad_hate_df[['sufficiency', 'sufficiency_2']].corr()"
   ]
  },
  {
   "cell_type": "code",
   "execution_count": 36,
   "id": "e639b1cb",
   "metadata": {},
   "outputs": [],
   "source": [
    "cad_hate_df['suff_diff'] = (cad_hate_df['sufficiency'] - cad_hate_df['sufficiency_2']).abs()\n",
    "cad_hate_df['necc_diff'] = (cad_hate_df['necessity'] - cad_hate_df['necessity_2']).abs()"
   ]
  },
  {
   "cell_type": "code",
   "execution_count": 37,
   "id": "bd022484",
   "metadata": {},
   "outputs": [
    {
     "data": {
      "text/plain": [
       "np.float64(0.0)"
      ]
     },
     "execution_count": 37,
     "metadata": {},
     "output_type": "execute_result"
    }
   ],
   "source": [
    "cad_hate_df['suff_diff'].mean()"
   ]
  },
  {
   "cell_type": "code",
   "execution_count": 38,
   "id": "2f504715",
   "metadata": {},
   "outputs": [
    {
     "data": {
      "text/plain": [
       "np.float64(0.0)"
      ]
     },
     "execution_count": 38,
     "metadata": {},
     "output_type": "execute_result"
    }
   ],
   "source": [
    "cad_hate_df['necc_diff'].mean()"
   ]
  },
  {
   "cell_type": "code",
   "execution_count": null,
   "id": "5d62e291-fdfe-47bc-a4fe-7f8d39143810",
   "metadata": {},
   "outputs": [],
   "source": []
  }
 ],
 "metadata": {
  "kernelspec": {
   "display_name": "Python 3 (ipykernel)",
   "language": "python",
   "name": "python3"
  },
  "language_info": {
   "codemirror_mode": {
    "name": "ipython",
    "version": 3
   },
   "file_extension": ".py",
   "mimetype": "text/x-python",
   "name": "python",
   "nbconvert_exporter": "python",
   "pygments_lexer": "ipython3",
   "version": "3.12.9"
  }
 },
 "nbformat": 4,
 "nbformat_minor": 5
}
