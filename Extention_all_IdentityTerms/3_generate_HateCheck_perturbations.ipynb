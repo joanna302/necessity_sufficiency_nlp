{
 "cells": [
  {
   "cell_type": "code",
   "execution_count": 5,
   "id": "1876462d",
   "metadata": {},
   "outputs": [],
   "source": [
    "import pandas as pd\n",
    "import numpy as np\n",
    "import os\n",
    "import pickle\n",
    "import re\n",
    "from collections import Counter\n",
    "from tqdm import tqdm\n",
    "import importlib\n",
    "\n",
    "import torch\n",
    "from transformers import GPT2Tokenizer, GPT2LMHeadModel\n",
    "# \n",
    "\n",
    "import ilm.ilm.tokenize_util as tokenize_util\n",
    "importlib.reload(tokenize_util)\n",
    "\n",
    "from ilm.ilm.infer import infill_with_ilm\n",
    "from perturbation_functions import calculate_necc_and_suff, gen_num_samples_table, gen_probs_table"
   ]
  },
  {
   "cell_type": "code",
   "execution_count": 6,
   "id": "a5735037",
   "metadata": {},
   "outputs": [
    {
     "name": "stdout",
     "output_type": "stream",
     "text": [
      "{'<|startofinfill|>': 50257, '<|endofinfill|>': 50258, '<|infill_document|>': 50259, '<|infill_paragraph|>': 50260, '<|infill_sentence|>': 50261, '<|infill_ngram|>': 50262, '<|infill_word|>': 50263}\n"
     ]
    }
   ],
   "source": [
    "MODEL_DIR = './Models/ILM/'\n",
    "MASK_CLS = 'ilm.ilm.mask.hierarchical.MaskHierarchical'\n",
    "\n",
    "tokenizer = tokenize_util.Tokenizer.GPT2\n",
    "with open(os.path.join(MODEL_DIR, 'additional_ids_to_tokens.pkl'), 'rb') as f:\n",
    "    additional_ids_to_tokens = pickle.load(f)\n",
    "additional_tokens_to_ids = {v:k for k, v in additional_ids_to_tokens.items()}\n",
    "try:\n",
    "    tokenize_util.update_tokenizer(additional_ids_to_tokens, tokenizer)\n",
    "except ValueError:\n",
    "    print('Already updated')\n",
    "print(additional_tokens_to_ids)\n",
    "\n",
    "device = torch.device('cuda' if torch.cuda.is_available() else 'cpu')\n",
    "model = GPT2LMHeadModel.from_pretrained(MODEL_DIR)\n",
    "model.eval()\n",
    "_ = model.to(device)"
   ]
  },
  {
   "cell_type": "code",
   "execution_count": 7,
   "id": "542ad558",
   "metadata": {},
   "outputs": [],
   "source": [
    "test_suite_cases = pd.read_csv(\"hatecheck-data/test_suite_cases.csv\", index_col=\"case_id\") #.drop(columns=['Unnamed:0'])\n",
    "test_suite_cases.drop(columns=['Unnamed: 0'], inplace=True)\n",
    "target_ds = ['women', 'trans people', 'gay people', 'black people', 'disabled people','Muslims', 'immigrants']\n",
    "funcs = ['derog_neg_emote_h', 'derog_neg_attrib_h', 'derog_dehum_h']\n",
    "\n",
    "test_suite_cases = test_suite_cases[test_suite_cases.target_ident.isin(target_ds) & \n",
    "                                    test_suite_cases.functionality.isin(funcs)]\n",
    "tts = [text for _, text in test_suite_cases.test_case.items()]\n",
    "\n",
    "with open(\"Data/HateCheck_test_suite_cases.txt\", \"w\") as f:\n",
    "    f.write(\"\\n\".join(tts))"
   ]
  },
  {
   "cell_type": "code",
   "execution_count": null,
   "id": "f61e6cf9-2f5c-4df8-a004-2153da7e6733",
   "metadata": {},
   "outputs": [],
   "source": []
  },
  {
   "cell_type": "code",
   "execution_count": 8,
   "id": "8805425d",
   "metadata": {},
   "outputs": [
    {
     "name": "stderr",
     "output_type": "stream",
     "text": [
      "100%|██████████| 420/420 [5:44:33<00:00, 49.22s/it]  \n"
     ]
    }
   ],
   "source": [
    "# generate approximately 100 perturbations for each token. \n",
    "num_samples = gen_num_samples_table(20, 100)\n",
    "probs_table = gen_probs_table(20)\n",
    "mask_tokn = additional_tokens_to_ids['<|infill_ngram|>']\n",
    "\n",
    "orig_texts = []\n",
    "necc_perturbed = []\n",
    "suff_perturbed = []\n",
    "necc_masks = []\n",
    "suff_masks = []\n",
    "\n",
    "with open(\"Data/HateCheck_test_suite_cases.txt\", \"r\") as ff:\n",
    "    with tqdm(total=420) as pbar:\n",
    "        for text in ff:\n",
    "            necc_pp, suff_pp, necc_mm, suff_mm = calculate_necc_and_suff(text, ilm_tokenizer=tokenizer, ilm_model=model, cl_tokenizer=None, cl_model=None, num_samples=num_samples,\n",
    "                               mask_tokn=mask_tokn, additional_tokens_to_ids=additional_tokens_to_ids, probs_table=probs_table, \n",
    "                               return_pert_only=True)\n",
    "\n",
    "            orig_texts.append(text)\n",
    "            necc_perturbed.append(necc_pp)\n",
    "            suff_perturbed.append(suff_pp)\n",
    "            necc_masks.append(necc_mm)\n",
    "            suff_masks.append(suff_mm)\n",
    "            pbar.update(1)\n",
    "    \n",
    "necc_suff_perturbations = {'orig_texts': orig_texts, \n",
    "                           'necc_perturbed': necc_perturbed, \n",
    "                           'suff_perturbed': suff_perturbed,\n",
    "                           'necc_masks': necc_masks,\n",
    "                           'suff_masks': suff_masks}\n",
    "\n",
    "#pickle.dump(necc_suff_perturbations, open('Data/HateCheck_necc_suff_perturbations.pickle', 'wb'))\n",
    "pickle.dump(necc_suff_perturbations, open('Data/HateCheck_necc_suff_perturbations_2.pickle', 'wb'))"
   ]
  },
  {
   "cell_type": "code",
   "execution_count": null,
   "id": "74d8a6f2-ea7e-4a06-a226-adc85d5b931e",
   "metadata": {},
   "outputs": [],
   "source": []
  },
  {
   "cell_type": "code",
   "execution_count": 9,
   "id": "4fd6edd5",
   "metadata": {},
   "outputs": [],
   "source": [
    "with open(\"Data/hatecheck_perturbations/orig_texts_2.txt\", \"w\") as ff:\n",
    "    ff.write(\"\\n\".join(necc_suff_perturbations['orig_texts']))"
   ]
  },
  {
   "cell_type": "code",
   "execution_count": 10,
   "id": "972f1342",
   "metadata": {},
   "outputs": [],
   "source": [
    "with open(\"Data/hatecheck_perturbations/necc_perturbations_2.tsv\", \"w\") as ff:\n",
    "    for ll in necc_suff_perturbations['necc_perturbed']:\n",
    "        ff.write(\"\\t\".join(ll))\n",
    "        ff.write(\"\\n\")"
   ]
  },
  {
   "cell_type": "code",
   "execution_count": 11,
   "id": "edd6efc2",
   "metadata": {},
   "outputs": [],
   "source": [
    "with open(\"Data/hatecheck_perturbations/suff_perturbations_2.tsv\", \"w\") as ff:\n",
    "    for ll in necc_suff_perturbations['suff_perturbed']:\n",
    "        ff.write(\"\\t\".join(ll))\n",
    "        ff.write(\"\\n\")"
   ]
  },
  {
   "cell_type": "code",
   "execution_count": 12,
   "id": "585c84c8",
   "metadata": {},
   "outputs": [],
   "source": [
    "with open(\"Data/hatecheck_perturbations/necc_masks_2.tsv\", \"w\") as ff: \n",
    "    for ll in necc_suff_perturbations['necc_masks']:\n",
    "        llist = ll.astype(int).astype(str).tolist()\n",
    "        ff.write(\"\\t\".join([\" \".join(ii) for ii in llist]))\n",
    "        ff.write(\"\\n\")"
   ]
  },
  {
   "cell_type": "code",
   "execution_count": 13,
   "id": "df47b93b",
   "metadata": {},
   "outputs": [],
   "source": [
    "with open(\"Data/hatecheck_perturbations/suff_masks_2.tsv\", \"w\") as ff: \n",
    "    for ll in necc_suff_perturbations['suff_masks']:\n",
    "        llist = ll.astype(int).astype(str).tolist()\n",
    "        ff.write(\"\\t\".join([\" \".join(ii) for ii in llist]))\n",
    "        ff.write(\"\\n\")"
   ]
  },
  {
   "cell_type": "code",
   "execution_count": null,
   "id": "ec051643",
   "metadata": {},
   "outputs": [],
   "source": []
  },
  {
   "cell_type": "code",
   "execution_count": null,
   "id": "782b4c28-fa4d-4046-9cf2-d1fc5baf9fd8",
   "metadata": {},
   "outputs": [],
   "source": []
  }
 ],
 "metadata": {
  "kernelspec": {
   "display_name": "Python 3 (ipykernel)",
   "language": "python",
   "name": "python3"
  },
  "language_info": {
   "codemirror_mode": {
    "name": "ipython",
    "version": 3
   },
   "file_extension": ".py",
   "mimetype": "text/x-python",
   "name": "python",
   "nbconvert_exporter": "python",
   "pygments_lexer": "ipython3",
   "version": "3.12.9"
  }
 },
 "nbformat": 4,
 "nbformat_minor": 5
}
