{
 "cells": [
  {
   "cell_type": "code",
   "execution_count": 1,
   "id": "a98dcd50",
   "metadata": {},
   "outputs": [],
   "source": [
    "# This code is originally obtained from https://github.com/paul-rottger/hatecheck-experiments and modified."
   ]
  },
  {
   "cell_type": "code",
   "execution_count": 1,
   "id": "b882e64b",
   "metadata": {},
   "outputs": [],
   "source": [
    "import pandas as pd\n",
    "import pickle\n",
    "from sklearn.model_selection import train_test_split\n",
    "pd.set_option('display.max_colwidth', None)\n",
    "#import preprocessor\n",
    "from html import unescape\n",
    "import re\n",
    "import string\n",
    "import wordsegment as ws\n",
    "#import emoji\n",
    "ws.load() # load vocab for word segmentation\n",
    "\n",
    "random_seed = 42"
   ]
  },
  {
   "cell_type": "code",
   "execution_count": 2,
   "id": "7e0553e6",
   "metadata": {},
   "outputs": [],
   "source": [
    "def regex_match_segmentation(match):\n",
    "    return ' '.join(ws.segment(match.group(0)))\n",
    "# Define function for cleaning text\n",
    "def clean_text(text):\n",
    "    \n",
    "    # convert HTML codes\n",
    "    text = unescape(text)\n",
    "    \n",
    "    # lowercase text\n",
    "    text = text.lower()\n",
    "    \n",
    "    # replace mentions, URLs and emojis with special token\n",
    "    text = re.sub(r\"@[A-Za-z0-9_-]+\",'[USER]',text)\n",
    "    text = re.sub(r\"u/[A-Za-z0-9_-]+\",'[USER]',text)\n",
    "    text = re.sub(r\"http\\S+\",'[URL]',text)\n",
    "    \n",
    "    # find and split hashtags into words\n",
    "    text = re.sub(r\"#[A-Za-z0-9]+\", regex_match_segmentation, text)\n",
    "\n",
    "    # remove punctuation at beginning of string (quirk in Davidson data)\n",
    "    text = text.lstrip(\"!\")\n",
    "    text = text.lstrip(\":\")\n",
    "    \n",
    "    # remove newline and tab characters\n",
    "    text = text.replace('\\n',' ')\n",
    "    text = text.replace('\\t',' ')\n",
    "    text = text.replace('[linebreak]', ' ')\n",
    "    \n",
    "    return text"
   ]
  },
  {
   "cell_type": "markdown",
   "id": "d0ec431a",
   "metadata": {},
   "source": [
    "## CAD"
   ]
  },
  {
   "cell_type": "code",
   "execution_count": 6,
   "id": "28a657fb",
   "metadata": {},
   "outputs": [
    {
     "data": {
      "text/plain": [
       "'/Users/joanna/Documents/mva/S2/NLP/necessity-sufficiency'"
      ]
     },
     "execution_count": 6,
     "metadata": {},
     "output_type": "execute_result"
    }
   ],
   "source": [
    "pwd"
   ]
  },
  {
   "cell_type": "code",
   "execution_count": 9,
   "id": "433aa707",
   "metadata": {},
   "outputs": [],
   "source": [
    "cad_train = pd.read_csv(\"cad_naacl2021/cad_v1_1_train.tsv\", sep=\"\\t\")\n",
    "cad_valid = pd.read_csv(\"cad_naacl2021/cad_v1_1_dev.tsv\", sep=\"\\t\")\n",
    "cad_test = pd.read_csv(\"cad_naacl2021/cad_v1_1_test.tsv\", sep=\"\\t\")\n",
    "\n",
    "dfs = [cad_train, cad_valid, cad_test]\n",
    "\n",
    "for dd in dfs: \n",
    "    dd.text = dd.text.astype(str).apply(lambda tt: clean_text(tt))\n",
    "    dd.labels = dd.labels.apply(lambda x: x.split(','))\n",
    "    \n",
    "cad_train_hateful = cad_train.copy()\n",
    "cad_valid_hateful = cad_valid.copy()\n",
    "cad_test_hateful = cad_test.copy()\n",
    "\n",
    "cad_train_abusive = cad_train.copy()\n",
    "cad_valid_abusive = cad_valid.copy()\n",
    "cad_test_abusive = cad_test.copy()\n",
    "\n",
    "hate_dfs = [cad_train_hateful, cad_valid_hateful, cad_test_hateful]\n",
    "abuse_dfs = [cad_train_abusive, cad_valid_abusive, cad_test_abusive]\n",
    "\n",
    "for dd, oo in zip(hate_dfs, dfs):\n",
    "    dd['label'] = oo.labels.apply(lambda x: 1 if 'IdentityDirectedAbuse' in x else 0)\n",
    "    dd = dd.drop(columns=['labels'])\n",
    "    \n",
    "for dd, oo in zip(abuse_dfs, dfs):\n",
    "    dd['label'] = oo.labels.apply(lambda x: 0 if ('Neutral' in x) or ('CounterSpeech' in x) else 1)\n",
    "    dd = dd.drop(columns=['labels'])"
   ]
  },
  {
   "cell_type": "code",
   "execution_count": 10,
   "id": "168aa5c7",
   "metadata": {},
   "outputs": [
    {
     "data": {
      "text/html": [
       "<div>\n",
       "<style scoped>\n",
       "    .dataframe tbody tr th:only-of-type {\n",
       "        vertical-align: middle;\n",
       "    }\n",
       "\n",
       "    .dataframe tbody tr th {\n",
       "        vertical-align: top;\n",
       "    }\n",
       "\n",
       "    .dataframe thead th {\n",
       "        text-align: right;\n",
       "    }\n",
       "</style>\n",
       "<table border=\"1\" class=\"dataframe\">\n",
       "  <thead>\n",
       "    <tr style=\"text-align: right;\">\n",
       "      <th></th>\n",
       "      <th>label</th>\n",
       "      <th>counts</th>\n",
       "    </tr>\n",
       "  </thead>\n",
       "  <tbody>\n",
       "    <tr>\n",
       "      <th>0</th>\n",
       "      <td>0</td>\n",
       "      <td>11186</td>\n",
       "    </tr>\n",
       "    <tr>\n",
       "      <th>1</th>\n",
       "      <td>1</td>\n",
       "      <td>2398</td>\n",
       "    </tr>\n",
       "  </tbody>\n",
       "</table>\n",
       "</div>"
      ],
      "text/plain": [
       "   label  counts\n",
       "0      0   11186\n",
       "1      1    2398"
      ]
     },
     "execution_count": 10,
     "metadata": {},
     "output_type": "execute_result"
    }
   ],
   "source": [
    "cad_train_abusive.groupby('label').size().reset_index(name='counts')"
   ]
  },
  {
   "cell_type": "code",
   "execution_count": 11,
   "id": "2c57da17",
   "metadata": {},
   "outputs": [
    {
     "data": {
      "text/html": [
       "<div>\n",
       "<style scoped>\n",
       "    .dataframe tbody tr th:only-of-type {\n",
       "        vertical-align: middle;\n",
       "    }\n",
       "\n",
       "    .dataframe tbody tr th {\n",
       "        vertical-align: top;\n",
       "    }\n",
       "\n",
       "    .dataframe thead th {\n",
       "        text-align: right;\n",
       "    }\n",
       "</style>\n",
       "<table border=\"1\" class=\"dataframe\">\n",
       "  <thead>\n",
       "    <tr style=\"text-align: right;\">\n",
       "      <th></th>\n",
       "      <th>label</th>\n",
       "      <th>counts</th>\n",
       "    </tr>\n",
       "  </thead>\n",
       "  <tbody>\n",
       "    <tr>\n",
       "      <th>0</th>\n",
       "      <td>0</td>\n",
       "      <td>12227</td>\n",
       "    </tr>\n",
       "    <tr>\n",
       "      <th>1</th>\n",
       "      <td>1</td>\n",
       "      <td>1357</td>\n",
       "    </tr>\n",
       "  </tbody>\n",
       "</table>\n",
       "</div>"
      ],
      "text/plain": [
       "   label  counts\n",
       "0      0   12227\n",
       "1      1    1357"
      ]
     },
     "execution_count": 11,
     "metadata": {},
     "output_type": "execute_result"
    }
   ],
   "source": [
    "cad_train_hateful.groupby('label').size().reset_index(name='counts')"
   ]
  },
  {
   "cell_type": "code",
   "execution_count": 18,
   "id": "3c517c1d",
   "metadata": {},
   "outputs": [],
   "source": [
    "cad_train_abusive.to_csv('Data/CAD_abuse/train.csv')\n",
    "cad_valid_abusive.to_csv('Data/CAD_abuse/valid.csv')\n",
    "cad_test_abusive.to_csv('Data/CAD_abuse/test.csv')\n",
    "\n",
    "cad_train_hateful.to_csv('Data/CAD_hate/train.csv')\n",
    "cad_valid_hateful.to_csv('Data/CAD_hate/valid.csv')\n",
    "cad_test_hateful.to_csv('Data/CAD_hate/test.csv')"
   ]
  },
  {
   "cell_type": "markdown",
   "id": "f455b86f",
   "metadata": {},
   "source": [
    "## Founta\n",
    "\n",
    "For this dataset, we've already created a train-valid-test split while prepping the data for ILM. "
   ]
  },
  {
   "cell_type": "code",
   "execution_count": 25,
   "id": "8cf2d33f",
   "metadata": {},
   "outputs": [],
   "source": [
    "founta_train = pd.read_csv(\"Data/Founta/train.csv\", index_col=0)\n",
    "founta_valid = pd.read_csv(\"Data/Founta/valid.csv\",index_col=0)\n",
    "founta_test = pd.read_csv(\"Data/Founta/test.csv\", index_col=0)\n",
    "\n",
    "dfs = [founta_train, founta_valid, founta_test]\n",
    "\n",
    "for dd in dfs:\n",
    "    dd.drop(dd[dd.label == 'spam'].index, inplace=True)\n",
    "    dd.text = dd.text.astype(str).apply(lambda tt: clean_text(tt))\n",
    "    dd = dd.drop(columns=['count_label_votes'])\n",
    "\n",
    "founta_train_abusive = founta_train.copy()\n",
    "founta_valid_abusive = founta_valid.copy()\n",
    "founta_test_abusive = founta_test.copy()\n",
    "\n",
    "founta_train_hateful = founta_train.copy()\n",
    "founta_valid_hateful = founta_valid.copy()\n",
    "founta_test_hateful = founta_test.copy()\n",
    "\n",
    "abuse_dfs = [founta_train_abusive, founta_valid_abusive, founta_test_abusive]\n",
    "hate_dfs = [founta_train_hateful, founta_valid_hateful, founta_test_hateful]\n",
    "\n",
    "for dd in abuse_dfs:\n",
    "    dd.label.replace({'hateful': 1, \"abusive\": 1, \"normal\": 0}, inplace = True)\n",
    "\n",
    "for dd in hate_dfs:\n",
    "    dd.label.replace({'hateful': 1, \"abusive\": 0, \"normal\": 0}, inplace = True)\n"
   ]
  },
  {
   "cell_type": "code",
   "execution_count": 26,
   "id": "f1f55757",
   "metadata": {},
   "outputs": [
    {
     "data": {
      "text/html": [
       "<div>\n",
       "<style scoped>\n",
       "    .dataframe tbody tr th:only-of-type {\n",
       "        vertical-align: middle;\n",
       "    }\n",
       "\n",
       "    .dataframe tbody tr th {\n",
       "        vertical-align: top;\n",
       "    }\n",
       "\n",
       "    .dataframe thead th {\n",
       "        text-align: right;\n",
       "    }\n",
       "</style>\n",
       "<table border=\"1\" class=\"dataframe\">\n",
       "  <thead>\n",
       "    <tr style=\"text-align: right;\">\n",
       "      <th></th>\n",
       "      <th>label</th>\n",
       "      <th>counts</th>\n",
       "    </tr>\n",
       "  </thead>\n",
       "  <tbody>\n",
       "    <tr>\n",
       "      <th>0</th>\n",
       "      <td>0</td>\n",
       "      <td>42588</td>\n",
       "    </tr>\n",
       "    <tr>\n",
       "      <th>1</th>\n",
       "      <td>1</td>\n",
       "      <td>19857</td>\n",
       "    </tr>\n",
       "  </tbody>\n",
       "</table>\n",
       "</div>"
      ],
      "text/plain": [
       "   label  counts\n",
       "0      0   42588\n",
       "1      1   19857"
      ]
     },
     "execution_count": 26,
     "metadata": {},
     "output_type": "execute_result"
    }
   ],
   "source": [
    "founta_train_abusive.groupby('label').size().reset_index(name='counts')"
   ]
  },
  {
   "cell_type": "code",
   "execution_count": 27,
   "id": "8cdef293",
   "metadata": {},
   "outputs": [
    {
     "data": {
      "text/html": [
       "<div>\n",
       "<style scoped>\n",
       "    .dataframe tbody tr th:only-of-type {\n",
       "        vertical-align: middle;\n",
       "    }\n",
       "\n",
       "    .dataframe tbody tr th {\n",
       "        vertical-align: top;\n",
       "    }\n",
       "\n",
       "    .dataframe thead th {\n",
       "        text-align: right;\n",
       "    }\n",
       "</style>\n",
       "<table border=\"1\" class=\"dataframe\">\n",
       "  <thead>\n",
       "    <tr style=\"text-align: right;\">\n",
       "      <th></th>\n",
       "      <th>label</th>\n",
       "      <th>counts</th>\n",
       "    </tr>\n",
       "  </thead>\n",
       "  <tbody>\n",
       "    <tr>\n",
       "      <th>0</th>\n",
       "      <td>0</td>\n",
       "      <td>59150</td>\n",
       "    </tr>\n",
       "    <tr>\n",
       "      <th>1</th>\n",
       "      <td>1</td>\n",
       "      <td>3295</td>\n",
       "    </tr>\n",
       "  </tbody>\n",
       "</table>\n",
       "</div>"
      ],
      "text/plain": [
       "   label  counts\n",
       "0      0   59150\n",
       "1      1    3295"
      ]
     },
     "execution_count": 27,
     "metadata": {},
     "output_type": "execute_result"
    }
   ],
   "source": [
    "founta_train_hateful.groupby('label').size().reset_index(name='counts')"
   ]
  },
  {
   "cell_type": "code",
   "execution_count": 37,
   "id": "34578d97",
   "metadata": {},
   "outputs": [],
   "source": [
    "founta_train_abusive.to_csv('Data/Founta_abuse/train.csv')\n",
    "founta_valid_abusive.to_csv('Data/Founta_abuse/valid.csv')\n",
    "founta_test_abusive.to_csv('Data/Founta_abuse/test.csv')\n",
    "\n",
    "founta_train_hateful.to_csv('Data/Founta_hate/train.csv')\n",
    "founta_valid_hateful.to_csv('Data/Founta_hate/valid.csv')\n",
    "founta_test_hateful.to_csv('Data/Founta_hate/test.csv')"
   ]
  },
  {
   "cell_type": "markdown",
   "id": "30a52118",
   "metadata": {},
   "source": [
    "## Davidson"
   ]
  },
  {
   "cell_type": "code",
   "execution_count": 12,
   "id": "2756d2c2",
   "metadata": {},
   "outputs": [
    {
     "name": "stderr",
     "output_type": "stream",
     "text": [
      "/var/folders/2q/yvjnzdxd1b9bjpjqhmjv1qq00000gn/T/ipykernel_3306/3089464611.py:5: FutureWarning: A value is trying to be set on a copy of a DataFrame or Series through chained assignment using an inplace method.\n",
      "The behavior will change in pandas 3.0. This inplace method will never work because the intermediate object on which we are setting values always behaves as a copy.\n",
      "\n",
      "For example, when doing 'df[col].method(value, inplace=True)', try using 'df.method({col: value}, inplace=True)' or df[col] = df[col].method(value) instead, to perform the operation inplace on the original object.\n",
      "\n",
      "\n",
      "  davidson2017.label.replace({0: \"hateful\", 1: \"offensive\", 2: \"neither\"}, inplace = True)\n",
      "/var/folders/2q/yvjnzdxd1b9bjpjqhmjv1qq00000gn/T/ipykernel_3306/3089464611.py:28: FutureWarning: A value is trying to be set on a copy of a DataFrame or Series through chained assignment using an inplace method.\n",
      "The behavior will change in pandas 3.0. This inplace method will never work because the intermediate object on which we are setting values always behaves as a copy.\n",
      "\n",
      "For example, when doing 'df[col].method(value, inplace=True)', try using 'df.method({col: value}, inplace=True)' or df[col] = df[col].method(value) instead, to perform the operation inplace on the original object.\n",
      "\n",
      "\n",
      "  dd.label.replace({'hateful': 1, 'offensive': 1, 'neither': 0}, inplace = True)\n",
      "/var/folders/2q/yvjnzdxd1b9bjpjqhmjv1qq00000gn/T/ipykernel_3306/3089464611.py:28: FutureWarning: Downcasting behavior in `replace` is deprecated and will be removed in a future version. To retain the old behavior, explicitly call `result.infer_objects(copy=False)`. To opt-in to the future behavior, set `pd.set_option('future.no_silent_downcasting', True)`\n",
      "  dd.label.replace({'hateful': 1, 'offensive': 1, 'neither': 0}, inplace = True)\n",
      "/var/folders/2q/yvjnzdxd1b9bjpjqhmjv1qq00000gn/T/ipykernel_3306/3089464611.py:31: FutureWarning: A value is trying to be set on a copy of a DataFrame or Series through chained assignment using an inplace method.\n",
      "The behavior will change in pandas 3.0. This inplace method will never work because the intermediate object on which we are setting values always behaves as a copy.\n",
      "\n",
      "For example, when doing 'df[col].method(value, inplace=True)', try using 'df.method({col: value}, inplace=True)' or df[col] = df[col].method(value) instead, to perform the operation inplace on the original object.\n",
      "\n",
      "\n",
      "  dd.label.replace({'hateful': 1, 'offensive': 0, 'neither': 0}, inplace = True)\n",
      "/var/folders/2q/yvjnzdxd1b9bjpjqhmjv1qq00000gn/T/ipykernel_3306/3089464611.py:31: FutureWarning: Downcasting behavior in `replace` is deprecated and will be removed in a future version. To retain the old behavior, explicitly call `result.infer_objects(copy=False)`. To opt-in to the future behavior, set `pd.set_option('future.no_silent_downcasting', True)`\n",
      "  dd.label.replace({'hateful': 1, 'offensive': 0, 'neither': 0}, inplace = True)\n"
     ]
    }
   ],
   "source": [
    "davidson2017 = pd.read_csv('./Data/davidson2017.csv', index_col=0)\n",
    "davidson2017.rename(columns={\"class\": \"label\", \"tweet\": \"text\"}, inplace=True, errors='ignore')\n",
    "davidson2017 = davidson2017[['text','label']]\n",
    "davidson2017.text = davidson2017.text.astype(str).apply(lambda tt: clean_text(tt))\n",
    "davidson2017.label.replace({0: \"hateful\", 1: \"offensive\", 2: \"neither\"}, inplace = True)\n",
    "\n",
    "davidson_train, davidson_valtest = train_test_split(davidson2017, \n",
    "                                                    test_size=0.2, \n",
    "                                                    stratify=davidson2017.label, \n",
    "                                                    random_state=123)\n",
    "davidson_valid, davidson_test = train_test_split(davidson_valtest, \n",
    "                                                 test_size=0.5, \n",
    "                                                 stratify=davidson_valtest.label, \n",
    "                                                 random_state=123)\n",
    "\n",
    "d_train_offense = davidson_train.copy()\n",
    "d_valid_offense = davidson_valid.copy()\n",
    "d_test_offense = davidson_test.copy()\n",
    "\n",
    "d_train_hate = davidson_train.copy()\n",
    "d_valid_hate = davidson_valid.copy()\n",
    "d_test_hate = davidson_test.copy()\n",
    "\n",
    "dfs_offense = [d_train_offense, d_valid_offense, d_test_offense]\n",
    "dfs_hate = [d_train_hate, d_valid_hate, d_test_hate]\n",
    "\n",
    "for dd in dfs_offense:\n",
    "    dd.label.replace({'hateful': 1, 'offensive': 1, 'neither': 0}, inplace = True)\n",
    "    \n",
    "for dd in dfs_hate: \n",
    "    dd.label.replace({'hateful': 1, 'offensive': 0, 'neither': 0}, inplace = True)"
   ]
  },
  {
   "cell_type": "code",
   "execution_count": 13,
   "id": "c395fbc9",
   "metadata": {},
   "outputs": [
    {
     "data": {
      "text/html": [
       "<div>\n",
       "<style scoped>\n",
       "    .dataframe tbody tr th:only-of-type {\n",
       "        vertical-align: middle;\n",
       "    }\n",
       "\n",
       "    .dataframe tbody tr th {\n",
       "        vertical-align: top;\n",
       "    }\n",
       "\n",
       "    .dataframe thead th {\n",
       "        text-align: right;\n",
       "    }\n",
       "</style>\n",
       "<table border=\"1\" class=\"dataframe\">\n",
       "  <thead>\n",
       "    <tr style=\"text-align: right;\">\n",
       "      <th></th>\n",
       "      <th>label</th>\n",
       "      <th>counts</th>\n",
       "    </tr>\n",
       "  </thead>\n",
       "  <tbody>\n",
       "    <tr>\n",
       "      <th>0</th>\n",
       "      <td>0</td>\n",
       "      <td>3330</td>\n",
       "    </tr>\n",
       "    <tr>\n",
       "      <th>1</th>\n",
       "      <td>1</td>\n",
       "      <td>16496</td>\n",
       "    </tr>\n",
       "  </tbody>\n",
       "</table>\n",
       "</div>"
      ],
      "text/plain": [
       "   label  counts\n",
       "0      0    3330\n",
       "1      1   16496"
      ]
     },
     "execution_count": 13,
     "metadata": {},
     "output_type": "execute_result"
    }
   ],
   "source": [
    "d_train_offense.groupby('label').size().reset_index(name='counts')"
   ]
  },
  {
   "cell_type": "code",
   "execution_count": 14,
   "id": "e43174cd",
   "metadata": {},
   "outputs": [
    {
     "data": {
      "text/html": [
       "<div>\n",
       "<style scoped>\n",
       "    .dataframe tbody tr th:only-of-type {\n",
       "        vertical-align: middle;\n",
       "    }\n",
       "\n",
       "    .dataframe tbody tr th {\n",
       "        vertical-align: top;\n",
       "    }\n",
       "\n",
       "    .dataframe thead th {\n",
       "        text-align: right;\n",
       "    }\n",
       "</style>\n",
       "<table border=\"1\" class=\"dataframe\">\n",
       "  <thead>\n",
       "    <tr style=\"text-align: right;\">\n",
       "      <th></th>\n",
       "      <th>label</th>\n",
       "      <th>counts</th>\n",
       "    </tr>\n",
       "  </thead>\n",
       "  <tbody>\n",
       "    <tr>\n",
       "      <th>0</th>\n",
       "      <td>0</td>\n",
       "      <td>18682</td>\n",
       "    </tr>\n",
       "    <tr>\n",
       "      <th>1</th>\n",
       "      <td>1</td>\n",
       "      <td>1144</td>\n",
       "    </tr>\n",
       "  </tbody>\n",
       "</table>\n",
       "</div>"
      ],
      "text/plain": [
       "   label  counts\n",
       "0      0   18682\n",
       "1      1    1144"
      ]
     },
     "execution_count": 14,
     "metadata": {},
     "output_type": "execute_result"
    }
   ],
   "source": [
    "d_train_hate.groupby('label').size().reset_index(name='counts')"
   ]
  },
  {
   "cell_type": "code",
   "execution_count": 16,
   "id": "b48f07e8",
   "metadata": {},
   "outputs": [],
   "source": [
    "d_train_offense.to_csv(\"Data/Davidson_abuse/train.csv\")\n",
    "d_valid_offense.to_csv(\"Data/Davidson_abuse/valid.csv\")\n",
    "d_test_offense.to_csv(\"Data/Davidson_abuse/test.csv\")\n",
    "\n",
    "d_train_hate.to_csv(\"Data/Davidson_hate/train.csv\")\n",
    "d_valid_hate.to_csv(\"Data/Davidson_hate/valid.csv\")\n",
    "d_test_offense.to_csv(\"Data/Davidson_hate/test.csv\")"
   ]
  },
  {
   "cell_type": "code",
   "execution_count": null,
   "id": "f411cb14",
   "metadata": {},
   "outputs": [],
   "source": []
  }
 ],
 "metadata": {
  "kernelspec": {
   "display_name": ".venv",
   "language": "python",
   "name": "python3"
  },
  "language_info": {
   "codemirror_mode": {
    "name": "ipython",
    "version": 3
   },
   "file_extension": ".py",
   "mimetype": "text/x-python",
   "name": "python",
   "nbconvert_exporter": "python",
   "pygments_lexer": "ipython3",
   "version": "3.9.6"
  }
 },
 "nbformat": 4,
 "nbformat_minor": 5
}
