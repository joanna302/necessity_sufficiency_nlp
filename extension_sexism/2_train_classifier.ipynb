{
 "cells": [
  {
   "cell_type": "code",
   "execution_count": 7,
   "metadata": {},
   "outputs": [
    {
     "data": {
      "text/plain": [
       "device(type='cuda')"
      ]
     },
     "execution_count": 7,
     "metadata": {},
     "output_type": "execute_result"
    }
   ],
   "source": [
    "import numpy as np\n",
    "import pandas as pd\n",
    "import pickle\n",
    "import argparse\n",
    "import torch\n",
    "from transformers import BertTokenizerFast, BertForSequenceClassification, Trainer, TrainingArguments\n",
    "from sklearn.metrics import classification_report, f1_score\n",
    "from sklearn.utils.class_weight import compute_class_weight\n",
    "import os\n",
    "import random\n",
    "#os.environ[\"TOKENIZERS_PARALLELISM\"] = \"false\"\n",
    "\n",
    "#PYTORCH_ENABLE_MPS_FALLBACK=1\n",
    "device = torch.device(\"cuda\" if torch.cuda.is_available() else \"cpu\")\n",
    "#device = torch.device(\"mps\")\n",
    "device"
   ]
  },
  {
   "cell_type": "code",
   "execution_count": 8,
   "metadata": {},
   "outputs": [],
   "source": [
    "class SexistDataset(torch.utils.data.Dataset):\n",
    "    def __init__(self, encodings, labels):\n",
    "        self.encodings = encodings\n",
    "        self.labels = labels\n",
    "\n",
    "    def __getitem__(self, idx):\n",
    "        item = {key: val[idx] for key, val in self.encodings.items()}\n",
    "        item['labels'] = self.labels[idx]\n",
    "        return item\n",
    "\n",
    "    def __len__(self):\n",
    "        return len(self.labels)"
   ]
  },
  {
   "cell_type": "code",
   "execution_count": 9,
   "metadata": {},
   "outputs": [],
   "source": [
    "class WeightedTrainer(Trainer):\n",
    "    def __init__(self, class_weights, **kwargs):\n",
    "       # self.class_weights = torch.FloatTensor(class_weights)\n",
    "        self.weighted_loss = torch.nn.CrossEntropyLoss(weight=torch.FloatTensor(class_weights)).to(device)\n",
    "        super().__init__(**kwargs)\n",
    "\n",
    "    def compute_loss(self, model, inputs, num_items_in_batch=False, return_outputs=False):\n",
    "        labels = inputs.pop(\"labels\")\n",
    "        outputs = model(**inputs)\n",
    "        logits = outputs[0]\n",
    "        loss = self.weighted_loss(logits, labels)\n",
    "        if return_outputs:\n",
    "            return loss, outputs\n",
    "        else:\n",
    "            return loss"
   ]
  },
  {
   "cell_type": "code",
   "execution_count": 10,
   "metadata": {},
   "outputs": [],
   "source": [
    "def create_datasets(data_dir):\n",
    "    \n",
    "    train_df = pd.read_csv(data_dir + \"/train.csv\")\n",
    "    train_df = train_df.dropna()\n",
    "    valid_df = pd.read_csv(data_dir + \"/valid.csv\")\n",
    "    valid_df = valid_df.dropna()\n",
    "    test_df = pd.read_csv(data_dir + \"/test.csv\")\n",
    "    test_df = test_df.dropna()\n",
    "\n",
    "    train_texts = train_df['text'].astype(\"string\").tolist()\n",
    "    valid_texts = valid_df['text'].astype(\"string\").tolist()\n",
    "    test_texts = test_df['text'].astype(\"string\").tolist()\n",
    "\n",
    "    train_labels = train_df['label_sexist'].astype(\"int\").tolist()\n",
    "    valid_labels = valid_df['label_sexist'].astype(\"int\").tolist()\n",
    "    test_labels = test_df['label_sexist'].astype(\"int\").tolist()\n",
    "\n",
    "    tokenizer = BertTokenizerFast.from_pretrained('bert-base-uncased')\n",
    "    # add special tokens for URLs, emojis and mentions (--> see pre-processing)\n",
    "    special_tokens_dict = {'additional_special_tokens': ['[USER]', '[EMOJI]', '[URL]']}\n",
    "    num_added_toks = tokenizer.add_special_tokens(special_tokens_dict)\n",
    "\n",
    "    train_encodings = tokenizer(train_texts, padding=True, truncation=True, return_tensors=\"pt\").to(device)\n",
    "    valid_encodings = tokenizer(valid_texts, padding=True, truncation=True, return_tensors=\"pt\").to(device)\n",
    "    test_encodings = tokenizer(test_texts, padding=True, truncation=True, return_tensors=\"pt\").to(device)\n",
    "\n",
    "    train_dataset = SexistDataset(train_encodings, train_labels)\n",
    "    valid_dataset = SexistDataset(valid_encodings, valid_labels)\n",
    "    test_dataset = SexistDataset(test_encodings, test_labels)\n",
    "\n",
    "    return train_dataset, valid_dataset, test_dataset, len(tokenizer)"
   ]
  },
  {
   "cell_type": "code",
   "execution_count": 13,
   "metadata": {},
   "outputs": [],
   "source": [
    "from transformers import TrainerCallback\n",
    "\n",
    "class LossLoggingCallback(TrainerCallback):\n",
    "    def __init__(self):\n",
    "        self.losses = []\n",
    "\n",
    "    def on_log(self, args, state, control, logs=None, **kwargs):\n",
    "        if logs and 'loss' in logs:\n",
    "            self.losses.append(logs['loss'])"
   ]
  },
  {
   "cell_type": "code",
   "execution_count": 41,
   "metadata": {},
   "outputs": [],
   "source": [
    "def calculate_class_weights(data_dir):\n",
    "    dataset = pd.read_csv(data_dir + \"/train.csv\")\n",
    "    train_labels = dataset.label_sexist.to_numpy()\n",
    "    class_weights = compute_class_weight('balanced', classes=np.unique(train_labels), y=train_labels)\n",
    "    print(\"class weights are {}\".format(class_weights))\n",
    "    return class_weights\n",
    "\n",
    "\n",
    "def train_model(train_dataset, valid_dataset, tok_len,  class_weights, output_dir, learning_rate, num_epochs, batch_size):\n",
    "    training_args = TrainingArguments(\n",
    "        save_steps=2500,\n",
    "        output_dir=output_dir,  # output directory\n",
    "        num_train_epochs=num_epochs,  # total number of training epochs\n",
    "        per_device_train_batch_size=batch_size,  # batch size per device during training\n",
    "        per_device_eval_batch_size=64,  # batch size for evaluation\n",
    "        warmup_steps=500,  # number of warmup steps for learning rate scheduler\n",
    "        weight_decay=0.01,  # strength of weight decay\n",
    "        learning_rate=learning_rate,\n",
    "        seed=123,\n",
    "        use_mps_device=False, \n",
    "        dataloader_pin_memory=False\n",
    "    )\n",
    "    print(device)\n",
    "    model = BertForSequenceClassification.from_pretrained(\"bert-base-uncased\").to(device)\n",
    "    model.resize_token_embeddings(tok_len)\n",
    "\n",
    "    loss_logging_callback = LossLoggingCallback()\n",
    "\n",
    "    trainer = WeightedTrainer(\n",
    "        model=model,\n",
    "        class_weights=class_weights,\n",
    "        args=training_args,\n",
    "        train_dataset=train_dataset,\n",
    "        eval_dataset=valid_dataset, \n",
    "        callbacks=[loss_logging_callback] \n",
    "    )\n",
    "    trainer.train()\n",
    "    \n",
    "    #try:\n",
    "    #    trainer.train(resume_from_checkpoint=True)\n",
    "    #    print(\"resuming from checkpoint...\")\n",
    "    #except ValueError:\n",
    "    #    print(\"No checkpoints found. training from scratch...\")\n",
    "    #    trainer.train()\n",
    "\n",
    "    return trainer, loss_logging_callback.losses"
   ]
  },
  {
   "cell_type": "code",
   "execution_count": 17,
   "metadata": {},
   "outputs": [
    {
     "name": "stdout",
     "output_type": "stream",
     "text": [
      "class weights are [0.66025278 2.06003531]\n",
      "cuda\n"
     ]
    },
    {
     "name": "stderr",
     "output_type": "stream",
     "text": [
      "Some weights of BertForSequenceClassification were not initialized from the model checkpoint at bert-base-uncased and are newly initialized: ['classifier.bias', 'classifier.weight']\n",
      "You should probably TRAIN this model on a down-stream task to be able to use it for predictions and inference.\n"
     ]
    },
    {
     "data": {
      "text/html": [
       "\n",
       "    <div>\n",
       "      \n",
       "      <progress value='4375' max='4375' style='width:300px; height:20px; vertical-align: middle;'></progress>\n",
       "      [4375/4375 30:09, Epoch 5/5]\n",
       "    </div>\n",
       "    <table border=\"1\" class=\"dataframe\">\n",
       "  <thead>\n",
       " <tr style=\"text-align: left;\">\n",
       "      <th>Step</th>\n",
       "      <th>Training Loss</th>\n",
       "    </tr>\n",
       "  </thead>\n",
       "  <tbody>\n",
       "    <tr>\n",
       "      <td>500</td>\n",
       "      <td>0.555300</td>\n",
       "    </tr>\n",
       "    <tr>\n",
       "      <td>1000</td>\n",
       "      <td>0.414300</td>\n",
       "    </tr>\n",
       "    <tr>\n",
       "      <td>1500</td>\n",
       "      <td>0.332300</td>\n",
       "    </tr>\n",
       "    <tr>\n",
       "      <td>2000</td>\n",
       "      <td>0.249700</td>\n",
       "    </tr>\n",
       "    <tr>\n",
       "      <td>2500</td>\n",
       "      <td>0.182100</td>\n",
       "    </tr>\n",
       "    <tr>\n",
       "      <td>3000</td>\n",
       "      <td>0.101100</td>\n",
       "    </tr>\n",
       "    <tr>\n",
       "      <td>3500</td>\n",
       "      <td>0.059900</td>\n",
       "    </tr>\n",
       "    <tr>\n",
       "      <td>4000</td>\n",
       "      <td>0.025600</td>\n",
       "    </tr>\n",
       "  </tbody>\n",
       "</table><p>"
      ],
      "text/plain": [
       "<IPython.core.display.HTML object>"
      ]
     },
     "metadata": {},
     "output_type": "display_data"
    },
    {
     "name": "stdout",
     "output_type": "stream",
     "text": [
      "Training done, evaluating...\n"
     ]
    },
    {
     "data": {
      "text/html": [],
      "text/plain": [
       "<IPython.core.display.HTML object>"
      ]
     },
     "metadata": {},
     "output_type": "display_data"
    },
    {
     "data": {
      "text/html": [],
      "text/plain": [
       "<IPython.core.display.HTML object>"
      ]
     },
     "metadata": {},
     "output_type": "display_data"
    }
   ],
   "source": [
    "output_dir = \"./Model/\"\n",
    "dataset_dir = \"./\"\n",
    "#datasets = [\"CAD_hate\", \"CAD_abuse\", \"Founta_hate\", \"Founta_abuse\", \"Davidson_hate\", \"Davidson_abuse\"]\n",
    "dataset = \"data_sexism\"\n",
    "\n",
    "num_epochs = 5\n",
    "batch_size = 16\n",
    "learning_rate = 5e-5\n",
    "\n",
    "dd_dir = dataset_dir + dataset\n",
    "oo_dir = output_dir + dataset\n",
    "\n",
    "train_dataset, valid_dataset, test_dataset, tok_len = create_datasets(dd_dir)\n",
    "class_weights = calculate_class_weights(dd_dir)\n",
    "\n",
    "trainer, losses = train_model(train_dataset,\n",
    "                        valid_dataset,\n",
    "                        tok_len,\n",
    "                        class_weights,\n",
    "                        oo_dir,\n",
    "                        learning_rate,\n",
    "                        num_epochs,\n",
    "                        batch_size)\n",
    "    \n",
    "trainer.save_model(oo_dir)\n",
    "\n",
    "print(\"Training done, evaluating...\")\n",
    "valid_preds = np.argmax(trainer.predict(valid_dataset)[0], axis=1) #should be numpy ndarray\n",
    "valid_labels = np.array(valid_dataset.labels)\n",
    "\n",
    "cls_report_valid = classification_report(valid_labels, valid_preds, output_dict=True)\n",
    "pickle.dump(cls_report_valid, open(oo_dir + \"/cls_report_valid.pickle\", \"wb\"))\n",
    "\n",
    "test_preds = np.argmax(trainer.predict(test_dataset)[0], axis=1)\n",
    "test_labels = np.array(test_dataset.labels)\n",
    "\n",
    "cls_report_test = classification_report(test_labels, test_preds, output_dict=True)\n",
    "pickle.dump(cls_report_test, open(oo_dir + \"/cls_report_test.pickle\", \"wb\"))"
   ]
  },
  {
   "cell_type": "code",
   "execution_count": 19,
   "metadata": {},
   "outputs": [
    {
     "name": "stdout",
     "output_type": "stream",
     "text": [
      "{'0': {'precision': 0.9020486555697823, 'recall': 0.9306472919418758, 'f1-score': 0.9161248374512354, 'support': 1514.0}, '1': {'precision': 0.7602739726027398, 'recall': 0.6851851851851852, 'f1-score': 0.7207792207792207, 'support': 486.0}, 'accuracy': 0.871, 'macro avg': {'precision': 0.831161314086261, 'recall': 0.8079162385635306, 'f1-score': 0.8184520291152281, 'support': 2000.0}, 'weighted avg': {'precision': 0.867597407608791, 'recall': 0.871, 'f1-score': 0.8686558525999357, 'support': 2000.0}}\n",
      "{'0': {'precision': 0.9062197873026103, 'recall': 0.928052805280528, 'f1-score': 0.9170063590412523, 'support': 3030.0}, '1': {'precision': 0.7569676700111483, 'recall': 0.7, 'f1-score': 0.7273701124799143, 'support': 970.0}, 'accuracy': 0.87275, 'macro avg': {'precision': 0.8315937286568793, 'recall': 0.8140264026402639, 'f1-score': 0.8221882357605833, 'support': 4000.0}, 'weighted avg': {'precision': 0.8700261488594309, 'recall': 0.87275, 'f1-score': 0.8710195692501279, 'support': 4000.0}}\n"
     ]
    }
   ],
   "source": [
    "print(cls_report_valid)\n",
    "print(cls_report_test)"
   ]
  },
  {
   "cell_type": "code",
   "execution_count": 43,
   "metadata": {},
   "outputs": [],
   "source": [
    "training_args = TrainingArguments(\n",
    "        save_steps=2500,\n",
    "        output_dir=output_dir,  # output directory\n",
    "        num_train_epochs=num_epochs,  # total number of training epochs\n",
    "        per_device_train_batch_size=batch_size,  # batch size per device during training\n",
    "        per_device_eval_batch_size=64,  # batch size for evaluation\n",
    "        warmup_steps=500,  # number of warmup steps for learning rate scheduler\n",
    "        weight_decay=0.01,  # strength of weight decay\n",
    "        learning_rate=learning_rate,\n",
    "        seed=123,\n",
    "        use_mps_device=False, \n",
    "        dataloader_pin_memory=False\n",
    "    )"
   ]
  },
  {
   "cell_type": "code",
   "execution_count": 47,
   "metadata": {},
   "outputs": [],
   "source": [
    "tokenizer = BertTokenizerFast.from_pretrained('bert-base-uncased')\n",
    "special_tokens_dict = {'additional_special_tokens': ['[USER]','[EMOJI]','[URL]']}\n",
    "num_added_toks = tokenizer.add_special_tokens(special_tokens_dict)\n",
    "\n",
    "model = BertForSequenceClassification.from_pretrained(\"Model/data_sexism-s/checkpoint-2625\")\n",
    "model.resize_token_embeddings(len(tokenizer))\n",
    "model.eval()\n",
    "trainer = WeightedTrainer(\n",
    "        model=model,\n",
    "        class_weights=class_weights,\n",
    "        args=training_args,\n",
    "        train_dataset=train_dataset,\n",
    "        eval_dataset=valid_dataset\n",
    "    )"
   ]
  },
  {
   "cell_type": "code",
   "execution_count": 48,
   "metadata": {},
   "outputs": [
    {
     "data": {
      "text/html": [],
      "text/plain": [
       "<IPython.core.display.HTML object>"
      ]
     },
     "metadata": {},
     "output_type": "display_data"
    },
    {
     "name": "stdout",
     "output_type": "stream",
     "text": [
      "{'0': {'precision': 0.9003856041131105, 'recall': 0.9253632760898283, 'f1-score': 0.9127035830618893, 'support': 1514.0}, '1': {'precision': 0.7454954954954955, 'recall': 0.6810699588477366, 'f1-score': 0.7118279569892473, 'support': 486.0}, 'accuracy': 0.866, 'macro avg': {'precision': 0.822940549804303, 'recall': 0.8032166174687825, 'f1-score': 0.8122657700255682, 'support': 2000.0}, 'weighted avg': {'precision': 0.8627473077190301, 'recall': 0.866, 'f1-score': 0.8638908059262372, 'support': 2000.0}}\n"
     ]
    },
    {
     "data": {
      "text/html": [],
      "text/plain": [
       "<IPython.core.display.HTML object>"
      ]
     },
     "metadata": {},
     "output_type": "display_data"
    },
    {
     "name": "stdout",
     "output_type": "stream",
     "text": [
      "{'0': {'precision': 0.912672357189757, 'recall': 0.9174917491749175, 'f1-score': 0.9150757077024358, 'support': 3030.0}, '1': {'precision': 0.7379454926624738, 'recall': 0.7257731958762886, 'f1-score': 0.7318087318087318, 'support': 970.0}, 'accuracy': 0.871, 'macro avg': {'precision': 0.8253089249261154, 'recall': 0.821632472525603, 'f1-score': 0.8234422197555838, 'support': 4000.0}, 'weighted avg': {'precision': 0.8703010925418908, 'recall': 0.871, 'f1-score': 0.8706334660482126, 'support': 4000.0}}\n"
     ]
    }
   ],
   "source": [
    "valid_preds = np.argmax(trainer.predict(valid_dataset)[0], axis=1) #should be numpy ndarray\n",
    "valid_labels = np.array(valid_dataset.labels)\n",
    "\n",
    "cls_report_valid = classification_report(valid_labels, valid_preds, output_dict=True)\n",
    "print(cls_report_valid)\n",
    "\n",
    "test_preds = np.argmax(trainer.predict(test_dataset)[0], axis=1)\n",
    "test_labels = np.array(test_dataset.labels)\n",
    "\n",
    "cls_report_test = classification_report(test_labels, test_preds, output_dict=True)\n",
    "print(cls_report_test)"
   ]
  },
  {
   "cell_type": "code",
   "execution_count": null,
   "metadata": {},
   "outputs": [
    {
     "data": {
      "text/plain": [
       "BertForSequenceClassification(\n",
       "  (bert): BertModel(\n",
       "    (embeddings): BertEmbeddings(\n",
       "      (word_embeddings): Embedding(30525, 768, padding_idx=0)\n",
       "      (position_embeddings): Embedding(512, 768)\n",
       "      (token_type_embeddings): Embedding(2, 768)\n",
       "      (LayerNorm): LayerNorm((768,), eps=1e-12, elementwise_affine=True)\n",
       "      (dropout): Dropout(p=0.1, inplace=False)\n",
       "    )\n",
       "    (encoder): BertEncoder(\n",
       "      (layer): ModuleList(\n",
       "        (0-11): 12 x BertLayer(\n",
       "          (attention): BertAttention(\n",
       "            (self): BertSdpaSelfAttention(\n",
       "              (query): Linear(in_features=768, out_features=768, bias=True)\n",
       "              (key): Linear(in_features=768, out_features=768, bias=True)\n",
       "              (value): Linear(in_features=768, out_features=768, bias=True)\n",
       "              (dropout): Dropout(p=0.1, inplace=False)\n",
       "            )\n",
       "            (output): BertSelfOutput(\n",
       "              (dense): Linear(in_features=768, out_features=768, bias=True)\n",
       "              (LayerNorm): LayerNorm((768,), eps=1e-12, elementwise_affine=True)\n",
       "              (dropout): Dropout(p=0.1, inplace=False)\n",
       "            )\n",
       "          )\n",
       "          (intermediate): BertIntermediate(\n",
       "            (dense): Linear(in_features=768, out_features=3072, bias=True)\n",
       "            (intermediate_act_fn): GELUActivation()\n",
       "          )\n",
       "          (output): BertOutput(\n",
       "            (dense): Linear(in_features=3072, out_features=768, bias=True)\n",
       "            (LayerNorm): LayerNorm((768,), eps=1e-12, elementwise_affine=True)\n",
       "            (dropout): Dropout(p=0.1, inplace=False)\n",
       "          )\n",
       "        )\n",
       "      )\n",
       "    )\n",
       "    (pooler): BertPooler(\n",
       "      (dense): Linear(in_features=768, out_features=768, bias=True)\n",
       "      (activation): Tanh()\n",
       "    )\n",
       "  )\n",
       "  (dropout): Dropout(p=0.1, inplace=False)\n",
       "  (classifier): Linear(in_features=768, out_features=2, bias=True)\n",
       ")"
      ]
     },
     "execution_count": 4,
     "metadata": {},
     "output_type": "execute_result"
    }
   ],
   "source": [
    "tokenizer = BertTokenizerFast.from_pretrained('bert-base-uncased')\n",
    "special_tokens_dict = {'additional_special_tokens': ['[USER]','[EMOJI]','[URL]']}\n",
    "num_added_toks = tokenizer.add_special_tokens(special_tokens_dict)\n",
    "\n",
    "model = BertForSequenceClassification.from_pretrained(\"Model/data_sexism-s/checkpoint-2500\")\n",
    "model.resize_token_embeddings(len(tokenizer))\n",
    "model.eval()"
   ]
  },
  {
   "cell_type": "code",
   "execution_count": null,
   "metadata": {},
   "outputs": [],
   "source": [
    "device='cpu'\n",
    "output_dir = \"./Model/\"\n",
    "dataset_dir = \"./\"\n",
    "#datasets = [\"CAD_hate\", \"CAD_abuse\", \"Founta_hate\", \"Founta_abuse\", \"Davidson_hate\", \"Davidson_abuse\"]\n",
    "dataset = \"data_sexism\"\n",
    "\n",
    "num_epochs = 2\n",
    "batch_size = 16\n",
    "learning_rate = 5e-5\n",
    "\n",
    "dd_dir = dataset_dir + dataset\n",
    "oo_dir = output_dir + dataset\n",
    "\n",
    "train_dataset, valid_dataset, test_dataset, tok_len = create_datasets(dd_dir)"
   ]
  },
  {
   "cell_type": "code",
   "execution_count": 26,
   "metadata": {},
   "outputs": [
    {
     "data": {
      "text/plain": [
       "{'input_ids': tensor([[  101,  6616,  1996,  ...,     0,     0,     0],\n",
       "        [  101,  2092,  2059,  ...,     0,     0,     0],\n",
       "        [  101,  1001,  3915,  ...,     0,     0,     0],\n",
       "        ...,\n",
       "        [  101,  2043,  2017,  ...,     0,     0,     0],\n",
       "        [  101,  2017,  2323,  ...,     0,     0,     0],\n",
       "        [  101,  2023, 12170,  ...,     0,     0,     0]], device='cuda:0'), 'token_type_ids': tensor([[0, 0, 0,  ..., 0, 0, 0],\n",
       "        [0, 0, 0,  ..., 0, 0, 0],\n",
       "        [0, 0, 0,  ..., 0, 0, 0],\n",
       "        ...,\n",
       "        [0, 0, 0,  ..., 0, 0, 0],\n",
       "        [0, 0, 0,  ..., 0, 0, 0],\n",
       "        [0, 0, 0,  ..., 0, 0, 0]], device='cuda:0'), 'attention_mask': tensor([[1, 1, 1,  ..., 0, 0, 0],\n",
       "        [1, 1, 1,  ..., 0, 0, 0],\n",
       "        [1, 1, 1,  ..., 0, 0, 0],\n",
       "        ...,\n",
       "        [1, 1, 1,  ..., 0, 0, 0],\n",
       "        [1, 1, 1,  ..., 0, 0, 0],\n",
       "        [1, 1, 1,  ..., 0, 0, 0]], device='cuda:0')}"
      ]
     },
     "execution_count": 26,
     "metadata": {},
     "output_type": "execute_result"
    }
   ],
   "source": [
    "test_dataset.encodings"
   ]
  }
 ],
 "metadata": {
  "kernelspec": {
   "display_name": "base",
   "language": "python",
   "name": "python3"
  },
  "language_info": {
   "codemirror_mode": {
    "name": "ipython",
    "version": 3
   },
   "file_extension": ".py",
   "mimetype": "text/x-python",
   "name": "python",
   "nbconvert_exporter": "python",
   "pygments_lexer": "ipython3",
   "version": "3.12.7"
  }
 },
 "nbformat": 4,
 "nbformat_minor": 2
}
