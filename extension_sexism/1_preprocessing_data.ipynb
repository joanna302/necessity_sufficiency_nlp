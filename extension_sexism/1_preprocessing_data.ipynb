{
 "cells": [
  {
   "cell_type": "code",
   "execution_count": 2,
   "metadata": {},
   "outputs": [],
   "source": [
    "import pandas as pd"
   ]
  },
  {
   "cell_type": "code",
   "execution_count": 3,
   "metadata": {},
   "outputs": [
    {
     "data": {
      "text/html": [
       "<div>\n",
       "<style scoped>\n",
       "    .dataframe tbody tr th:only-of-type {\n",
       "        vertical-align: middle;\n",
       "    }\n",
       "\n",
       "    .dataframe tbody tr th {\n",
       "        vertical-align: top;\n",
       "    }\n",
       "\n",
       "    .dataframe thead th {\n",
       "        text-align: right;\n",
       "    }\n",
       "</style>\n",
       "<table border=\"1\" class=\"dataframe\">\n",
       "  <thead>\n",
       "    <tr style=\"text-align: right;\">\n",
       "      <th></th>\n",
       "      <th>rewire_id</th>\n",
       "      <th>text</th>\n",
       "      <th>label_sexist</th>\n",
       "      <th>label_category</th>\n",
       "      <th>label_vector</th>\n",
       "      <th>split</th>\n",
       "    </tr>\n",
       "  </thead>\n",
       "  <tbody>\n",
       "    <tr>\n",
       "      <th>0</th>\n",
       "      <td>sexism2022_english-9609</td>\n",
       "      <td>In Nigeria, if you rape a woman, the men rape ...</td>\n",
       "      <td>not sexist</td>\n",
       "      <td>none</td>\n",
       "      <td>none</td>\n",
       "      <td>dev</td>\n",
       "    </tr>\n",
       "    <tr>\n",
       "      <th>1</th>\n",
       "      <td>sexism2022_english-16993</td>\n",
       "      <td>Then, she's a keeper. 😉</td>\n",
       "      <td>not sexist</td>\n",
       "      <td>none</td>\n",
       "      <td>none</td>\n",
       "      <td>train</td>\n",
       "    </tr>\n",
       "    <tr>\n",
       "      <th>2</th>\n",
       "      <td>sexism2022_english-13149</td>\n",
       "      <td>This is like the Metallica video where the poo...</td>\n",
       "      <td>not sexist</td>\n",
       "      <td>none</td>\n",
       "      <td>none</td>\n",
       "      <td>train</td>\n",
       "    </tr>\n",
       "    <tr>\n",
       "      <th>3</th>\n",
       "      <td>sexism2022_english-13021</td>\n",
       "      <td>woman?</td>\n",
       "      <td>not sexist</td>\n",
       "      <td>none</td>\n",
       "      <td>none</td>\n",
       "      <td>train</td>\n",
       "    </tr>\n",
       "    <tr>\n",
       "      <th>4</th>\n",
       "      <td>sexism2022_english-966</td>\n",
       "      <td>I bet she wished she had a gun</td>\n",
       "      <td>not sexist</td>\n",
       "      <td>none</td>\n",
       "      <td>none</td>\n",
       "      <td>dev</td>\n",
       "    </tr>\n",
       "    <tr>\n",
       "      <th>...</th>\n",
       "      <td>...</td>\n",
       "      <td>...</td>\n",
       "      <td>...</td>\n",
       "      <td>...</td>\n",
       "      <td>...</td>\n",
       "      <td>...</td>\n",
       "    </tr>\n",
       "    <tr>\n",
       "      <th>19995</th>\n",
       "      <td>sexism2022_english-5228</td>\n",
       "      <td>girls really get fucked almost every weekend ?</td>\n",
       "      <td>not sexist</td>\n",
       "      <td>none</td>\n",
       "      <td>none</td>\n",
       "      <td>train</td>\n",
       "    </tr>\n",
       "    <tr>\n",
       "      <th>19996</th>\n",
       "      <td>sexism2022_english-10140</td>\n",
       "      <td>The hatred for moslems are Reasonable and Just...</td>\n",
       "      <td>not sexist</td>\n",
       "      <td>none</td>\n",
       "      <td>none</td>\n",
       "      <td>train</td>\n",
       "    </tr>\n",
       "    <tr>\n",
       "      <th>19997</th>\n",
       "      <td>sexism2022_english-9726</td>\n",
       "      <td>Now this is a woman who gets it. 👆</td>\n",
       "      <td>not sexist</td>\n",
       "      <td>none</td>\n",
       "      <td>none</td>\n",
       "      <td>train</td>\n",
       "    </tr>\n",
       "    <tr>\n",
       "      <th>19998</th>\n",
       "      <td>sexism2022_english-13365</td>\n",
       "      <td>“American Idol” finalist [USER] said nothing i...</td>\n",
       "      <td>not sexist</td>\n",
       "      <td>none</td>\n",
       "      <td>none</td>\n",
       "      <td>train</td>\n",
       "    </tr>\n",
       "    <tr>\n",
       "      <th>19999</th>\n",
       "      <td>sexism2022_english-3523</td>\n",
       "      <td>this bi--th should be stoped she's the rapist</td>\n",
       "      <td>sexist</td>\n",
       "      <td>2. derogation</td>\n",
       "      <td>2.2 aggressive and emotive attacks</td>\n",
       "      <td>test</td>\n",
       "    </tr>\n",
       "  </tbody>\n",
       "</table>\n",
       "<p>20000 rows × 6 columns</p>\n",
       "</div>"
      ],
      "text/plain": [
       "                      rewire_id  \\\n",
       "0       sexism2022_english-9609   \n",
       "1      sexism2022_english-16993   \n",
       "2      sexism2022_english-13149   \n",
       "3      sexism2022_english-13021   \n",
       "4        sexism2022_english-966   \n",
       "...                         ...   \n",
       "19995   sexism2022_english-5228   \n",
       "19996  sexism2022_english-10140   \n",
       "19997   sexism2022_english-9726   \n",
       "19998  sexism2022_english-13365   \n",
       "19999   sexism2022_english-3523   \n",
       "\n",
       "                                                    text label_sexist  \\\n",
       "0      In Nigeria, if you rape a woman, the men rape ...   not sexist   \n",
       "1                                Then, she's a keeper. 😉   not sexist   \n",
       "2      This is like the Metallica video where the poo...   not sexist   \n",
       "3                                                 woman?   not sexist   \n",
       "4                         I bet she wished she had a gun   not sexist   \n",
       "...                                                  ...          ...   \n",
       "19995     girls really get fucked almost every weekend ?   not sexist   \n",
       "19996  The hatred for moslems are Reasonable and Just...   not sexist   \n",
       "19997                 Now this is a woman who gets it. 👆   not sexist   \n",
       "19998  “American Idol” finalist [USER] said nothing i...   not sexist   \n",
       "19999      this bi--th should be stoped she's the rapist       sexist   \n",
       "\n",
       "      label_category                        label_vector  split  \n",
       "0               none                                none    dev  \n",
       "1               none                                none  train  \n",
       "2               none                                none  train  \n",
       "3               none                                none  train  \n",
       "4               none                                none    dev  \n",
       "...              ...                                 ...    ...  \n",
       "19995           none                                none  train  \n",
       "19996           none                                none  train  \n",
       "19997           none                                none  train  \n",
       "19998           none                                none  train  \n",
       "19999  2. derogation  2.2 aggressive and emotive attacks   test  \n",
       "\n",
       "[20000 rows x 6 columns]"
      ]
     },
     "execution_count": 3,
     "metadata": {},
     "output_type": "execute_result"
    }
   ],
   "source": [
    "data_sexism = pd.read_csv(\"data_sexism/edos_labelled_aggregated.csv\")\n",
    "data_sexism"
   ]
  },
  {
   "cell_type": "markdown",
   "metadata": {},
   "source": [
    "# Splitting data for training classifier and doing the perturbations "
   ]
  },
  {
   "cell_type": "markdown",
   "metadata": {},
   "source": [
    "## Keeping 120 samples for the perturbations "
   ]
  },
  {
   "cell_type": "code",
   "execution_count": 4,
   "metadata": {},
   "outputs": [
    {
     "name": "stderr",
     "output_type": "stream",
     "text": [
      "/var/folders/2q/yvjnzdxd1b9bjpjqhmjv1qq00000gn/T/ipykernel_6098/2908168509.py:4: DeprecationWarning: DataFrameGroupBy.apply operated on the grouping columns. This behavior is deprecated, and in a future version of pandas the grouping columns will be excluded from the operation. Either pass `include_groups=False` to exclude the groupings or explicitly select the grouping columns after groupby to silence this warning.\n",
      "  data_sexism_pert = data_sexism_dev.groupby('label_category').apply(lambda x: x.sample(n=30, replace=False))\n"
     ]
    }
   ],
   "source": [
    "# selecting only sexist samples : 30 samples by category \n",
    "data_sexism_true = data_sexism[data_sexism['label_sexist']=='sexist']\n",
    "data_sexism_dev = data_sexism_true[data_sexism_true['split']=='dev']\n",
    "data_sexism_pert = data_sexism_dev.groupby('label_category').apply(lambda x: x.sample(n=30, replace=False))\n",
    "data_sexism_pert = data_sexism_pert.reset_index(drop=True)"
   ]
  },
  {
   "cell_type": "code",
   "execution_count": 5,
   "metadata": {},
   "outputs": [],
   "source": [
    "tts = [text for _, text in data_sexism_pert.text.items()]\n",
    "\n",
    "with open(\"data_sexism/samples_sexism.txt\", \"w\") as f:\n",
    "    f.write(\"\\n\".join(tts))"
   ]
  },
  {
   "cell_type": "code",
   "execution_count": 6,
   "metadata": {},
   "outputs": [],
   "source": [
    "d_train_sexism=data_sexism[data_sexism['split']=='train']\n",
    "d_valid_sexism=data_sexism[data_sexism['split']=='dev']\n",
    "d_test_sexism= data_sexism[data_sexism['split']=='test']"
   ]
  },
  {
   "cell_type": "code",
   "execution_count": 7,
   "metadata": {},
   "outputs": [
    {
     "name": "stderr",
     "output_type": "stream",
     "text": [
      "/tmp/ipykernel_3587/1627999474.py:4: FutureWarning: A value is trying to be set on a copy of a DataFrame or Series through chained assignment using an inplace method.\n",
      "The behavior will change in pandas 3.0. This inplace method will never work because the intermediate object on which we are setting values always behaves as a copy.\n",
      "\n",
      "For example, when doing 'df[col].method(value, inplace=True)', try using 'df.method({col: value}, inplace=True)' or df[col] = df[col].method(value) instead, to perform the operation inplace on the original object.\n",
      "\n",
      "\n",
      "  dd.label_sexist.replace({'not sexist': 0, 'sexist': 1}, inplace = True)\n",
      "/tmp/ipykernel_3587/1627999474.py:4: FutureWarning: Downcasting behavior in `replace` is deprecated and will be removed in a future version. To retain the old behavior, explicitly call `result.infer_objects(copy=False)`. To opt-in to the future behavior, set `pd.set_option('future.no_silent_downcasting', True)`\n",
      "  dd.label_sexist.replace({'not sexist': 0, 'sexist': 1}, inplace = True)\n",
      "/tmp/ipykernel_3587/1627999474.py:4: SettingWithCopyWarning: \n",
      "A value is trying to be set on a copy of a slice from a DataFrame\n",
      "\n",
      "See the caveats in the documentation: https://pandas.pydata.org/pandas-docs/stable/user_guide/indexing.html#returning-a-view-versus-a-copy\n",
      "  dd.label_sexist.replace({'not sexist': 0, 'sexist': 1}, inplace = True)\n"
     ]
    }
   ],
   "source": [
    "dfs_sexism = [d_train_sexism, d_valid_sexism, d_test_sexism ]\n",
    "\n",
    "for dd in dfs_sexism:\n",
    "    dd.label_sexist.replace({'not sexist': 0, 'sexist': 1}, inplace = True)"
   ]
  },
  {
   "cell_type": "code",
   "execution_count": null,
   "metadata": {},
   "outputs": [],
   "source": [
    "d_train_sexism.to_csv(\"data_sexism/train.csv\")\n",
    "d_valid_sexism.to_csv(\"data_sexism/valid.csv\")\n",
    "d_test_sexism.to_csv(\"data_sexism/test.csv\")"
   ]
  }
 ],
 "metadata": {
  "kernelspec": {
   "display_name": ".venv",
   "language": "python",
   "name": "python3"
  },
  "language_info": {
   "codemirror_mode": {
    "name": "ipython",
    "version": 3
   },
   "file_extension": ".py",
   "mimetype": "text/x-python",
   "name": "python",
   "nbconvert_exporter": "python",
   "pygments_lexer": "ipython3",
   "version": "3.9.6"
  }
 },
 "nbformat": 4,
 "nbformat_minor": 2
}
