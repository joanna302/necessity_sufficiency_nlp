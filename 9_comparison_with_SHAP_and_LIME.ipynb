{
 "cells": [
  {
   "cell_type": "code",
   "execution_count": 1,
   "id": "5b8866a3",
   "metadata": {},
   "outputs": [
    {
     "name": "stderr",
     "output_type": "stream",
     "text": [
      "/Users/joanna/Documents/mva/S2/NLP/necessity-sufficiency/.venv/lib/python3.9/site-packages/tqdm/auto.py:21: TqdmWarning: IProgress not found. Please update jupyter and ipywidgets. See https://ipywidgets.readthedocs.io/en/stable/user_install.html\n",
      "  from .autonotebook import tqdm as notebook_tqdm\n"
     ]
    },
    {
     "ename": "ModuleNotFoundError",
     "evalue": "No module named 'shap'",
     "output_type": "error",
     "traceback": [
      "\u001b[0;31m---------------------------------------------------------------------------\u001b[0m",
      "\u001b[0;31mModuleNotFoundError\u001b[0m                       Traceback (most recent call last)",
      "Cell \u001b[0;32mIn[1], line 3\u001b[0m\n\u001b[1;32m      1\u001b[0m \u001b[38;5;28;01mimport\u001b[39;00m\u001b[38;5;250m \u001b[39m\u001b[38;5;21;01mnumpy\u001b[39;00m\u001b[38;5;250m \u001b[39m\u001b[38;5;28;01mas\u001b[39;00m\u001b[38;5;250m \u001b[39m\u001b[38;5;21;01mnp\u001b[39;00m\n\u001b[1;32m      2\u001b[0m \u001b[38;5;28;01mfrom\u001b[39;00m\u001b[38;5;250m \u001b[39m\u001b[38;5;21;01mtransformers\u001b[39;00m\u001b[38;5;250m \u001b[39m\u001b[38;5;28;01mimport\u001b[39;00m BertTokenizerFast, BertForSequenceClassification, pipeline\n\u001b[0;32m----> 3\u001b[0m \u001b[38;5;28;01mimport\u001b[39;00m\u001b[38;5;250m \u001b[39m\u001b[38;5;21;01mshap\u001b[39;00m\n\u001b[1;32m      4\u001b[0m \u001b[38;5;28;01mimport\u001b[39;00m\u001b[38;5;250m \u001b[39m\u001b[38;5;21;01mmatplotlib\u001b[39;00m\u001b[38;5;21;01m.\u001b[39;00m\u001b[38;5;21;01mpyplot\u001b[39;00m\u001b[38;5;250m \u001b[39m\u001b[38;5;28;01mas\u001b[39;00m\u001b[38;5;250m \u001b[39m\u001b[38;5;21;01mplt\u001b[39;00m\n\u001b[1;32m      5\u001b[0m \u001b[38;5;28;01mimport\u001b[39;00m\u001b[38;5;250m \u001b[39m\u001b[38;5;21;01mpandas\u001b[39;00m\u001b[38;5;250m \u001b[39m\u001b[38;5;28;01mas\u001b[39;00m\u001b[38;5;250m \u001b[39m\u001b[38;5;21;01mpd\u001b[39;00m\n",
      "\u001b[0;31mModuleNotFoundError\u001b[0m: No module named 'shap'"
     ]
    }
   ],
   "source": [
    "import numpy as np\n",
    "from transformers import BertTokenizerFast, BertForSequenceClassification, pipeline\n",
    "import shap\n",
    "import matplotlib.pyplot as plt\n",
    "import pandas as pd\n",
    "import pickle\n",
    "\n",
    "import seaborn as sns\n",
    "import matplotlib.colors as mcolors\n",
    "import matplotlib.pyplot as plt\n",
    "\n",
    "import lime\n",
    "from lime.lime_text import LimeTextExplainer"
   ]
  },
  {
   "cell_type": "markdown",
   "id": "4c0f1fa4",
   "metadata": {},
   "source": [
    "## SHAP calculations"
   ]
  },
  {
   "cell_type": "code",
   "execution_count": 36,
   "id": "1bcc02eb",
   "metadata": {},
   "outputs": [],
   "source": [
    "tokenizer = BertTokenizerFast.from_pretrained('bert-base-uncased')\n",
    "\n",
    "# add special tokens for URLs, emojis and mentions (--> see pre-processing)\n",
    "special_tokens_dict = {'additional_special_tokens': ['[USER]','[EMOJI]','[URL]']}\n",
    "num_added_toks = tokenizer.add_special_tokens(special_tokens_dict)"
   ]
  },
  {
   "cell_type": "code",
   "execution_count": 37,
   "id": "396298e2",
   "metadata": {},
   "outputs": [],
   "source": [
    "with open(\"Data/HateCheck_test_suite_cases.txt\", \"r\") as ff: \n",
    "    hatecheck_cases = ff.read().splitlines()\n",
    "    \n",
    "targets = ['women', 'Muslims']"
   ]
  },
  {
   "cell_type": "code",
   "execution_count": null,
   "id": "ef8c2f9a",
   "metadata": {},
   "outputs": [],
   "source": [
    "datasets = ['Founta_abuse', 'Founta_hate', 'Davidson_abuse', 'Davidson_hate', 'CAD_abuse', 'CAD_hate']\n",
    "\n",
    "shap_scores = {}\n",
    "shap_tokens = {}\n",
    "\n",
    "for dataset in datasets:\n",
    "    print(\"Processing {}\".format(dataset))\n",
    "    model = BertForSequenceClassification.from_pretrained(\"Models/Classifiers/{}\".format(dataset))\n",
    "    model.resize_token_embeddings(len(tokenizer))\n",
    "    model.eval()\n",
    "    classifier = pipeline(\"text-classification\", model=model, tokenizer=tokenizer)\n",
    "    explainer = shap.Explainer(classifier)\n",
    "  #  preds = classifier(hatecheck_cases)\n",
    "  #  pos_cases = [tt for tt, pp in zip(hatecheck_cases, preds) if pp['label'] == 'LABEL_1']\n",
    "    shap_values = explainer(hatecheck_cases)\n",
    "    shap_tokens[dataset] = [[ww.strip().lower() for ww in list(dd)] for dd in shap_values.data]\n",
    "    shap_scores[dataset] = shap_values.values.tolist()\n",
    "\n"
   ]
  },
  {
   "cell_type": "code",
   "execution_count": 42,
   "id": "a833522f",
   "metadata": {},
   "outputs": [],
   "source": [
    "scores = {dd:[] for dd in datasets}\n",
    "targets = {dd:[] for dd in datasets}\n",
    "\n",
    "for dataset in datasets:\n",
    "    for tt, ss in zip(shap_tokens[dataset], shap_scores[dataset]):\n",
    "        if 'women' in tt:\n",
    "            scores[dataset].append(ss[tt.index('women'), 1])\n",
    "            targets[dataset].append('women')\n",
    "        elif 'woman' in tt:\n",
    "            scores[dataset].append(ss[tt.index('woman'), 1])\n",
    "            targets[dataset].append('women')\n",
    "        elif 'female' in tt:\n",
    "            scores[dataset].append(ss[tt.index('female'), 1])\n",
    "            targets[dataset].append('women')\n",
    "        elif 'muslims' in tt:\n",
    "            scores[dataset].append(ss[tt.index('muslims'), 1])\n",
    "            targets[dataset].append('Muslims')\n",
    "        elif 'muslim' in tt:\n",
    "            scores[dataset].append(ss[tt.index('muslim'), 1])\n",
    "            targets[dataset].append('Muslims')\n",
    "        else:\n",
    "            raise ValueError(\"Didn't find either target in {}\".format(tt))"
   ]
  },
  {
   "cell_type": "code",
   "execution_count": 43,
   "id": "b3a16706",
   "metadata": {},
   "outputs": [
    {
     "data": {
      "text/html": [
       "<div>\n",
       "<style scoped>\n",
       "    .dataframe tbody tr th:only-of-type {\n",
       "        vertical-align: middle;\n",
       "    }\n",
       "\n",
       "    .dataframe tbody tr th {\n",
       "        vertical-align: top;\n",
       "    }\n",
       "\n",
       "    .dataframe thead tr th {\n",
       "        text-align: left;\n",
       "    }\n",
       "\n",
       "    .dataframe thead tr:last-of-type th {\n",
       "        text-align: right;\n",
       "    }\n",
       "</style>\n",
       "<table border=\"1\" class=\"dataframe\">\n",
       "  <thead>\n",
       "    <tr>\n",
       "      <th></th>\n",
       "      <th>value</th>\n",
       "      <th colspan=\"6\" halign=\"left\">shap</th>\n",
       "    </tr>\n",
       "    <tr>\n",
       "      <th></th>\n",
       "      <th>Dataset</th>\n",
       "      <th>Founta_abuse</th>\n",
       "      <th>Founta_hate</th>\n",
       "      <th>Davidson_abuse</th>\n",
       "      <th>Davidson_hate</th>\n",
       "      <th>CAD_abuse</th>\n",
       "      <th>CAD_hate</th>\n",
       "    </tr>\n",
       "    <tr>\n",
       "      <th>target</th>\n",
       "      <th>text</th>\n",
       "      <th></th>\n",
       "      <th></th>\n",
       "      <th></th>\n",
       "      <th></th>\n",
       "      <th></th>\n",
       "      <th></th>\n",
       "    </tr>\n",
       "  </thead>\n",
       "  <tbody>\n",
       "    <tr>\n",
       "      <th>women</th>\n",
       "      <th>I hate women.</th>\n",
       "      <td>-0.081214</td>\n",
       "      <td>0.262211</td>\n",
       "      <td>0.243309</td>\n",
       "      <td>-0.405851</td>\n",
       "      <td>0.966017</td>\n",
       "      <td>0.566998</td>\n",
       "    </tr>\n",
       "    <tr>\n",
       "      <th>Muslims</th>\n",
       "      <th>I hate Muslims.</th>\n",
       "      <td>0.194154</td>\n",
       "      <td>0.510954</td>\n",
       "      <td>-0.059254</td>\n",
       "      <td>0.586353</td>\n",
       "      <td>0.995336</td>\n",
       "      <td>0.991217</td>\n",
       "    </tr>\n",
       "    <tr>\n",
       "      <th>women</th>\n",
       "      <th>I really can't stand women like you.</th>\n",
       "      <td>0.306760</td>\n",
       "      <td>0.113460</td>\n",
       "      <td>0.447396</td>\n",
       "      <td>0.000000</td>\n",
       "      <td>0.536808</td>\n",
       "      <td>0.162824</td>\n",
       "    </tr>\n",
       "    <tr>\n",
       "      <th>Muslims</th>\n",
       "      <th>I really can't stand Muslims like you.</th>\n",
       "      <td>0.889467</td>\n",
       "      <td>0.984090</td>\n",
       "      <td>0.247127</td>\n",
       "      <td>0.990018</td>\n",
       "      <td>0.614373</td>\n",
       "      <td>0.991406</td>\n",
       "    </tr>\n",
       "    <tr>\n",
       "      <th>women</th>\n",
       "      <th>I despise women.</th>\n",
       "      <td>0.293056</td>\n",
       "      <td>0.975598</td>\n",
       "      <td>0.033458</td>\n",
       "      <td>0.000000</td>\n",
       "      <td>0.953379</td>\n",
       "      <td>0.891980</td>\n",
       "    </tr>\n",
       "    <tr>\n",
       "      <th>...</th>\n",
       "      <th>...</th>\n",
       "      <td>...</td>\n",
       "      <td>...</td>\n",
       "      <td>...</td>\n",
       "      <td>...</td>\n",
       "      <td>...</td>\n",
       "      <td>...</td>\n",
       "    </tr>\n",
       "    <tr>\n",
       "      <th>Muslims</th>\n",
       "      <th>You and all other Muslims are a plague to society.</th>\n",
       "      <td>0.192951</td>\n",
       "      <td>0.502755</td>\n",
       "      <td>0.032091</td>\n",
       "      <td>0.773205</td>\n",
       "      <td>0.440397</td>\n",
       "      <td>0.896925</td>\n",
       "    </tr>\n",
       "    <tr>\n",
       "      <th>women</th>\n",
       "      <th>Women are subhuman creatures.</th>\n",
       "      <td>-0.426457</td>\n",
       "      <td>0.000000</td>\n",
       "      <td>0.036910</td>\n",
       "      <td>-0.316438</td>\n",
       "      <td>0.378055</td>\n",
       "      <td>0.957568</td>\n",
       "    </tr>\n",
       "    <tr>\n",
       "      <th>Muslims</th>\n",
       "      <th>Muslims are subhuman creatures.</th>\n",
       "      <td>0.085760</td>\n",
       "      <td>0.985472</td>\n",
       "      <td>0.017210</td>\n",
       "      <td>0.661957</td>\n",
       "      <td>0.391678</td>\n",
       "      <td>0.992085</td>\n",
       "    </tr>\n",
       "    <tr>\n",
       "      <th>women</th>\n",
       "      <th>Swarms of women are infesting our government.</th>\n",
       "      <td>-0.036018</td>\n",
       "      <td>0.363990</td>\n",
       "      <td>0.322510</td>\n",
       "      <td>-0.452084</td>\n",
       "      <td>0.960892</td>\n",
       "      <td>0.391607</td>\n",
       "    </tr>\n",
       "    <tr>\n",
       "      <th>Muslims</th>\n",
       "      <th>Swarms of Muslims are infesting our government.</th>\n",
       "      <td>0.353865</td>\n",
       "      <td>0.989458</td>\n",
       "      <td>0.228077</td>\n",
       "      <td>0.529579</td>\n",
       "      <td>0.995608</td>\n",
       "      <td>0.990773</td>\n",
       "    </tr>\n",
       "  </tbody>\n",
       "</table>\n",
       "<p>120 rows × 6 columns</p>\n",
       "</div>"
      ],
      "text/plain": [
       "value                                                              shap  \\\n",
       "Dataset                                                    Founta_abuse   \n",
       "target  text                                                              \n",
       "women   I hate women.                                         -0.081214   \n",
       "Muslims I hate Muslims.                                        0.194154   \n",
       "women   I really can't stand women like you.                   0.306760   \n",
       "Muslims I really can't stand Muslims like you.                 0.889467   \n",
       "women   I despise women.                                       0.293056   \n",
       "...                                                                 ...   \n",
       "Muslims You and all other Muslims are a plague to society.     0.192951   \n",
       "women   Women are subhuman creatures.                         -0.426457   \n",
       "Muslims Muslims are subhuman creatures.                        0.085760   \n",
       "women   Swarms of women are infesting our government.         -0.036018   \n",
       "Muslims Swarms of Muslims are infesting our government.        0.353865   \n",
       "\n",
       "value                                                                   \\\n",
       "Dataset                                                    Founta_hate   \n",
       "target  text                                                             \n",
       "women   I hate women.                                         0.262211   \n",
       "Muslims I hate Muslims.                                       0.510954   \n",
       "women   I really can't stand women like you.                  0.113460   \n",
       "Muslims I really can't stand Muslims like you.                0.984090   \n",
       "women   I despise women.                                      0.975598   \n",
       "...                                                                ...   \n",
       "Muslims You and all other Muslims are a plague to society.    0.502755   \n",
       "women   Women are subhuman creatures.                         0.000000   \n",
       "Muslims Muslims are subhuman creatures.                       0.985472   \n",
       "women   Swarms of women are infesting our government.         0.363990   \n",
       "Muslims Swarms of Muslims are infesting our government.       0.989458   \n",
       "\n",
       "value                                                                      \\\n",
       "Dataset                                                    Davidson_abuse   \n",
       "target  text                                                                \n",
       "women   I hate women.                                            0.243309   \n",
       "Muslims I hate Muslims.                                         -0.059254   \n",
       "women   I really can't stand women like you.                     0.447396   \n",
       "Muslims I really can't stand Muslims like you.                   0.247127   \n",
       "women   I despise women.                                         0.033458   \n",
       "...                                                                   ...   \n",
       "Muslims You and all other Muslims are a plague to society.       0.032091   \n",
       "women   Women are subhuman creatures.                            0.036910   \n",
       "Muslims Muslims are subhuman creatures.                          0.017210   \n",
       "women   Swarms of women are infesting our government.            0.322510   \n",
       "Muslims Swarms of Muslims are infesting our government.          0.228077   \n",
       "\n",
       "value                                                                     \\\n",
       "Dataset                                                    Davidson_hate   \n",
       "target  text                                                               \n",
       "women   I hate women.                                          -0.405851   \n",
       "Muslims I hate Muslims.                                         0.586353   \n",
       "women   I really can't stand women like you.                    0.000000   \n",
       "Muslims I really can't stand Muslims like you.                  0.990018   \n",
       "women   I despise women.                                        0.000000   \n",
       "...                                                                  ...   \n",
       "Muslims You and all other Muslims are a plague to society.      0.773205   \n",
       "women   Women are subhuman creatures.                          -0.316438   \n",
       "Muslims Muslims are subhuman creatures.                         0.661957   \n",
       "women   Swarms of women are infesting our government.          -0.452084   \n",
       "Muslims Swarms of Muslims are infesting our government.         0.529579   \n",
       "\n",
       "value                                                                           \n",
       "Dataset                                                    CAD_abuse  CAD_hate  \n",
       "target  text                                                                    \n",
       "women   I hate women.                                       0.966017  0.566998  \n",
       "Muslims I hate Muslims.                                     0.995336  0.991217  \n",
       "women   I really can't stand women like you.                0.536808  0.162824  \n",
       "Muslims I really can't stand Muslims like you.              0.614373  0.991406  \n",
       "women   I despise women.                                    0.953379  0.891980  \n",
       "...                                                              ...       ...  \n",
       "Muslims You and all other Muslims are a plague to society.  0.440397  0.896925  \n",
       "women   Women are subhuman creatures.                       0.378055  0.957568  \n",
       "Muslims Muslims are subhuman creatures.                     0.391678  0.992085  \n",
       "women   Swarms of women are infesting our government.       0.960892  0.391607  \n",
       "Muslims Swarms of Muslims are infesting our government.     0.995608  0.990773  \n",
       "\n",
       "[120 rows x 6 columns]"
      ]
     },
     "execution_count": 43,
     "metadata": {},
     "output_type": "execute_result"
    }
   ],
   "source": [
    "df_dict = {('shap', dd): scores[dd] for dd in datasets}\n",
    "ind = [(tt, xx.strip()) for xx, tt in zip(hatecheck_cases, targets['Founta_hate'])]\n",
    "shap_df = pd.DataFrame(df_dict, index=ind)\n",
    "shap_df.columns = pd.MultiIndex.from_tuples(shap_df.columns, names=['value','Dataset'])\n",
    "shap_df.index = pd.MultiIndex.from_tuples(shap_df.index, names=['target', 'text'])\n",
    "shap_df"
   ]
  },
  {
   "cell_type": "code",
   "execution_count": 44,
   "id": "f14f03bc",
   "metadata": {},
   "outputs": [],
   "source": [
    "pickle.dump(shap_df, open(\"Data/shap_scores.pickle\", \"wb\"))"
   ]
  },
  {
   "cell_type": "code",
   "execution_count": 266,
   "id": "51f07815",
   "metadata": {},
   "outputs": [],
   "source": [
    "master_df = pickle.load(open(\"Data/HateCheck_individual_necc_suff_scores.pickle\", \"rb\"))\n",
    "joint_df = pd.merge(master_df, shap_df, left_index=True, right_index=True)\n",
    "joint_df = joint_df[joint_df[\"prediction\"] == 1]"
   ]
  },
  {
   "cell_type": "code",
   "execution_count": 268,
   "id": "ffe83ad3",
   "metadata": {},
   "outputs": [
    {
     "data": {
      "text/html": [
       "<div>\n",
       "<style scoped>\n",
       "    .dataframe tbody tr th:only-of-type {\n",
       "        vertical-align: middle;\n",
       "    }\n",
       "\n",
       "    .dataframe tbody tr th {\n",
       "        vertical-align: top;\n",
       "    }\n",
       "\n",
       "    .dataframe thead th {\n",
       "        text-align: right;\n",
       "    }\n",
       "</style>\n",
       "<table border=\"1\" class=\"dataframe\">\n",
       "  <thead>\n",
       "    <tr style=\"text-align: right;\">\n",
       "      <th>target</th>\n",
       "      <th>Muslims</th>\n",
       "      <th>women</th>\n",
       "    </tr>\n",
       "    <tr>\n",
       "      <th>Dataset</th>\n",
       "      <th></th>\n",
       "      <th></th>\n",
       "    </tr>\n",
       "  </thead>\n",
       "  <tbody>\n",
       "    <tr>\n",
       "      <th>Founta_abuse</th>\n",
       "      <td>0.386570</td>\n",
       "      <td>-0.072048</td>\n",
       "    </tr>\n",
       "    <tr>\n",
       "      <th>Founta_hate</th>\n",
       "      <td>0.837800</td>\n",
       "      <td>0.362759</td>\n",
       "    </tr>\n",
       "    <tr>\n",
       "      <th>Davidson_abuse</th>\n",
       "      <td>0.371201</td>\n",
       "      <td>0.416992</td>\n",
       "    </tr>\n",
       "    <tr>\n",
       "      <th>Davidson_hate</th>\n",
       "      <td>0.885726</td>\n",
       "      <td>0.012300</td>\n",
       "    </tr>\n",
       "    <tr>\n",
       "      <th>CAD_abuse</th>\n",
       "      <td>0.745639</td>\n",
       "      <td>0.658568</td>\n",
       "    </tr>\n",
       "    <tr>\n",
       "      <th>CAD_hate</th>\n",
       "      <td>0.951458</td>\n",
       "      <td>0.893915</td>\n",
       "    </tr>\n",
       "  </tbody>\n",
       "</table>\n",
       "</div>"
      ],
      "text/plain": [
       "target           Muslims     women\n",
       "Dataset                           \n",
       "Founta_abuse    0.386570 -0.072048\n",
       "Founta_hate     0.837800  0.362759\n",
       "Davidson_abuse  0.371201  0.416992\n",
       "Davidson_hate   0.885726  0.012300\n",
       "CAD_abuse       0.745639  0.658568\n",
       "CAD_hate        0.951458  0.893915"
      ]
     },
     "execution_count": 268,
     "metadata": {},
     "output_type": "execute_result"
    }
   ],
   "source": [
    "joint_df['shap'].groupby(level='target').mean().transpose()"
   ]
  },
  {
   "cell_type": "markdown",
   "id": "7222ac55",
   "metadata": {},
   "source": [
    "## LIME calculations"
   ]
  },
  {
   "cell_type": "code",
   "execution_count": 10,
   "id": "1ef30f2a",
   "metadata": {},
   "outputs": [],
   "source": [
    "dataset = \"Founta_abuse\"\n",
    "model = BertForSequenceClassification.from_pretrained(\"Models/Classifiers/{}\".format(dataset))\n",
    "model.resize_token_embeddings(len(tokenizer))\n",
    "model.eval()\n",
    "classifier = pipeline(\"text-classification\", model=model, tokenizer=tokenizer)\n",
    "\n",
    "def get_probas(classifier_output):\n",
    "    probas = [dd['score'] for dd in classifier_output]\n",
    "    probas = [[1-pp, pp] for pp in probas]\n",
    "    return np.array(probas)"
   ]
  },
  {
   "cell_type": "code",
   "execution_count": null,
   "id": "7ae9dbc2",
   "metadata": {},
   "outputs": [],
   "source": [
    "datasets = ['Founta_abuse', 'Founta_hate', 'Davidson_abuse', 'Davidson_hate', 'CAD_abuse', 'CAD_hate']\n",
    "\n",
    "lime_explanations = {}\n",
    "\n",
    "def get_probas(classifier_output):\n",
    "    probas = [dd['score'] for dd in classifier_output]\n",
    "    probas = [[1-pp, pp] for pp in probas]\n",
    "    return np.array(probas)\n",
    "\n",
    "for dataset in datasets:\n",
    "    print(\"Processing {}\".format(dataset))\n",
    "    model = BertForSequenceClassification.from_pretrained(\"Models/Classifiers/{}\".format(dataset))\n",
    "    model.resize_token_embeddings(len(tokenizer))\n",
    "    model.eval()\n",
    "    classifier = pipeline(\"text-classification\", model=model, tokenizer=tokenizer)\n",
    "    predictor = lambda x: get_probas(classifier(x))\n",
    "    explainer = LimeTextExplainer(class_names=['0','1'])\n",
    "    lime_explanations[dataset] = [explainer.explain_instance(ii, predictor).as_list() for ii in hatecheck_cases]"
   ]
  },
  {
   "cell_type": "code",
   "execution_count": 30,
   "id": "6ac25385",
   "metadata": {},
   "outputs": [],
   "source": [
    "df_dict = {('lime', dd): scores[dd] for dd in datasets}\n",
    "ind = [(tt, xx.strip()) for xx, tt in zip(hatecheck_cases, targets['Founta_hate'])]\n",
    "lime_df = pd.DataFrame(df_dict, index=ind)\n",
    "lime_df.columns = pd.MultiIndex.from_tuples(lime_df.columns, names=['value','Dataset'])\n",
    "lime_df.index = pd.MultiIndex.from_tuples(lime_df.index, names=['target', 'text'])\n",
    "pickle.dump(lime_df, open(\"Data/lime_scores.pickle\", \"wb\"))"
   ]
  },
  {
   "cell_type": "code",
   "execution_count": 2,
   "id": "5fff545c",
   "metadata": {},
   "outputs": [],
   "source": [
    "lime_df = pickle.load(open(\"Data/lime_scores.pickle\", \"rb\"))\n",
    "shap_df = pickle.load(open(\"Data/shap_scores.pickle\", \"rb\"))\n",
    "master_df = pickle.load(open(\"Data/HateCheck_individual_necc_suff_scores.pickle\", \"rb\"))\n",
    "joint_df = pd.merge(master_df, shap_df, left_index=True, right_index=True)\n",
    "joint_df = pd.merge(joint_df, lime_df, left_index=True, right_index=True)\n",
    "joint_df = joint_df[joint_df[\"prediction\"] == 1]"
   ]
  },
  {
   "cell_type": "code",
   "execution_count": 3,
   "id": "6c97a4ea",
   "metadata": {},
   "outputs": [
    {
     "data": {
      "text/html": [
       "<div>\n",
       "<style scoped>\n",
       "    .dataframe tbody tr th:only-of-type {\n",
       "        vertical-align: middle;\n",
       "    }\n",
       "\n",
       "    .dataframe tbody tr th {\n",
       "        vertical-align: top;\n",
       "    }\n",
       "\n",
       "    .dataframe thead th {\n",
       "        text-align: right;\n",
       "    }\n",
       "</style>\n",
       "<table border=\"1\" class=\"dataframe\">\n",
       "  <thead>\n",
       "    <tr style=\"text-align: right;\">\n",
       "      <th>target</th>\n",
       "      <th>Muslims</th>\n",
       "      <th>women</th>\n",
       "    </tr>\n",
       "    <tr>\n",
       "      <th>Dataset</th>\n",
       "      <th></th>\n",
       "      <th></th>\n",
       "    </tr>\n",
       "  </thead>\n",
       "  <tbody>\n",
       "    <tr>\n",
       "      <th>Founta_abuse</th>\n",
       "      <td>0.042473</td>\n",
       "      <td>0.010842</td>\n",
       "    </tr>\n",
       "    <tr>\n",
       "      <th>Founta_hate</th>\n",
       "      <td>0.013246</td>\n",
       "      <td>0.017777</td>\n",
       "    </tr>\n",
       "    <tr>\n",
       "      <th>Davidson_abuse</th>\n",
       "      <td>-0.032338</td>\n",
       "      <td>0.000660</td>\n",
       "    </tr>\n",
       "    <tr>\n",
       "      <th>Davidson_hate</th>\n",
       "      <td>-0.001794</td>\n",
       "      <td>-0.021387</td>\n",
       "    </tr>\n",
       "    <tr>\n",
       "      <th>CAD_abuse</th>\n",
       "      <td>0.087413</td>\n",
       "      <td>0.045351</td>\n",
       "    </tr>\n",
       "    <tr>\n",
       "      <th>CAD_hate</th>\n",
       "      <td>0.042053</td>\n",
       "      <td>0.012245</td>\n",
       "    </tr>\n",
       "  </tbody>\n",
       "</table>\n",
       "</div>"
      ],
      "text/plain": [
       "target           Muslims     women\n",
       "Dataset                           \n",
       "Founta_abuse    0.042473  0.010842\n",
       "Founta_hate     0.013246  0.017777\n",
       "Davidson_abuse -0.032338  0.000660\n",
       "Davidson_hate  -0.001794 -0.021387\n",
       "CAD_abuse       0.087413  0.045351\n",
       "CAD_hate        0.042053  0.012245"
      ]
     },
     "execution_count": 3,
     "metadata": {},
     "output_type": "execute_result"
    }
   ],
   "source": [
    "joint_df['lime'].groupby(level='target').mean().transpose()"
   ]
  },
  {
   "cell_type": "code",
   "execution_count": 5,
   "id": "18977b24",
   "metadata": {},
   "outputs": [
    {
     "data": {
      "text/html": [
       "<div>\n",
       "<style scoped>\n",
       "    .dataframe tbody tr th:only-of-type {\n",
       "        vertical-align: middle;\n",
       "    }\n",
       "\n",
       "    .dataframe tbody tr th {\n",
       "        vertical-align: top;\n",
       "    }\n",
       "\n",
       "    .dataframe thead th {\n",
       "        text-align: right;\n",
       "    }\n",
       "</style>\n",
       "<table border=\"1\" class=\"dataframe\">\n",
       "  <thead>\n",
       "    <tr style=\"text-align: right;\">\n",
       "      <th>target</th>\n",
       "      <th>Muslims</th>\n",
       "      <th>women</th>\n",
       "    </tr>\n",
       "    <tr>\n",
       "      <th>Dataset</th>\n",
       "      <th></th>\n",
       "      <th></th>\n",
       "    </tr>\n",
       "  </thead>\n",
       "  <tbody>\n",
       "    <tr>\n",
       "      <th>Founta_abuse</th>\n",
       "      <td>0.245637</td>\n",
       "      <td>0.207969</td>\n",
       "    </tr>\n",
       "    <tr>\n",
       "      <th>Founta_hate</th>\n",
       "      <td>0.201438</td>\n",
       "      <td>0.243449</td>\n",
       "    </tr>\n",
       "    <tr>\n",
       "      <th>Davidson_abuse</th>\n",
       "      <td>0.204407</td>\n",
       "      <td>0.190994</td>\n",
       "    </tr>\n",
       "    <tr>\n",
       "      <th>Davidson_hate</th>\n",
       "      <td>0.153063</td>\n",
       "      <td>0.015975</td>\n",
       "    </tr>\n",
       "    <tr>\n",
       "      <th>CAD_abuse</th>\n",
       "      <td>0.215145</td>\n",
       "      <td>0.234213</td>\n",
       "    </tr>\n",
       "    <tr>\n",
       "      <th>CAD_hate</th>\n",
       "      <td>0.112638</td>\n",
       "      <td>0.171596</td>\n",
       "    </tr>\n",
       "  </tbody>\n",
       "</table>\n",
       "</div>"
      ],
      "text/plain": [
       "target           Muslims     women\n",
       "Dataset                           \n",
       "Founta_abuse    0.245637  0.207969\n",
       "Founta_hate     0.201438  0.243449\n",
       "Davidson_abuse  0.204407  0.190994\n",
       "Davidson_hate   0.153063  0.015975\n",
       "CAD_abuse       0.215145  0.234213\n",
       "CAD_hate        0.112638  0.171596"
      ]
     },
     "execution_count": 5,
     "metadata": {},
     "output_type": "execute_result"
    }
   ],
   "source": [
    "joint_df['shap'].groupby(level='target').std().transpose()"
   ]
  },
  {
   "cell_type": "code",
   "execution_count": 7,
   "id": "21bf31eb",
   "metadata": {},
   "outputs": [
    {
     "data": {
      "text/html": [
       "<div>\n",
       "<style scoped>\n",
       "    .dataframe tbody tr th:only-of-type {\n",
       "        vertical-align: middle;\n",
       "    }\n",
       "\n",
       "    .dataframe tbody tr th {\n",
       "        vertical-align: top;\n",
       "    }\n",
       "\n",
       "    .dataframe thead th {\n",
       "        text-align: right;\n",
       "    }\n",
       "</style>\n",
       "<table border=\"1\" class=\"dataframe\">\n",
       "  <thead>\n",
       "    <tr style=\"text-align: right;\">\n",
       "      <th>target</th>\n",
       "      <th>Muslims</th>\n",
       "      <th>women</th>\n",
       "    </tr>\n",
       "    <tr>\n",
       "      <th>Dataset</th>\n",
       "      <th></th>\n",
       "      <th></th>\n",
       "    </tr>\n",
       "  </thead>\n",
       "  <tbody>\n",
       "    <tr>\n",
       "      <th>Founta_abuse</th>\n",
       "      <td>0.037029</td>\n",
       "      <td>0.019701</td>\n",
       "    </tr>\n",
       "    <tr>\n",
       "      <th>Founta_hate</th>\n",
       "      <td>0.036125</td>\n",
       "      <td>0.045193</td>\n",
       "    </tr>\n",
       "    <tr>\n",
       "      <th>Davidson_abuse</th>\n",
       "      <td>0.092032</td>\n",
       "      <td>0.086088</td>\n",
       "    </tr>\n",
       "    <tr>\n",
       "      <th>Davidson_hate</th>\n",
       "      <td>0.057279</td>\n",
       "      <td>0.018439</td>\n",
       "    </tr>\n",
       "    <tr>\n",
       "      <th>CAD_abuse</th>\n",
       "      <td>0.062244</td>\n",
       "      <td>0.087658</td>\n",
       "    </tr>\n",
       "    <tr>\n",
       "      <th>CAD_hate</th>\n",
       "      <td>0.048781</td>\n",
       "      <td>0.076756</td>\n",
       "    </tr>\n",
       "  </tbody>\n",
       "</table>\n",
       "</div>"
      ],
      "text/plain": [
       "target           Muslims     women\n",
       "Dataset                           \n",
       "Founta_abuse    0.037029  0.019701\n",
       "Founta_hate     0.036125  0.045193\n",
       "Davidson_abuse  0.092032  0.086088\n",
       "Davidson_hate   0.057279  0.018439\n",
       "CAD_abuse       0.062244  0.087658\n",
       "CAD_hate        0.048781  0.076756"
      ]
     },
     "execution_count": 7,
     "metadata": {},
     "output_type": "execute_result"
    }
   ],
   "source": [
    "joint_df['lime'].groupby(level='target').std().transpose()"
   ]
  },
  {
   "cell_type": "markdown",
   "id": "c7ecef03",
   "metadata": {},
   "source": [
    "## Correlations"
   ]
  },
  {
   "cell_type": "code",
   "execution_count": 279,
   "id": "edec625d",
   "metadata": {},
   "outputs": [
    {
     "data": {
      "text/html": [
       "<div>\n",
       "<style scoped>\n",
       "    .dataframe tbody tr th:only-of-type {\n",
       "        vertical-align: middle;\n",
       "    }\n",
       "\n",
       "    .dataframe tbody tr th {\n",
       "        vertical-align: top;\n",
       "    }\n",
       "\n",
       "    .dataframe thead th {\n",
       "        text-align: right;\n",
       "    }\n",
       "</style>\n",
       "<table border=\"1\" class=\"dataframe\">\n",
       "  <thead>\n",
       "    <tr style=\"text-align: right;\">\n",
       "      <th>value</th>\n",
       "      <th>necessity</th>\n",
       "      <th>sufficiency</th>\n",
       "      <th>shap</th>\n",
       "    </tr>\n",
       "    <tr>\n",
       "      <th>value</th>\n",
       "      <th></th>\n",
       "      <th></th>\n",
       "      <th></th>\n",
       "    </tr>\n",
       "  </thead>\n",
       "  <tbody>\n",
       "    <tr>\n",
       "      <th>necessity</th>\n",
       "      <td>1.000000</td>\n",
       "      <td>-0.060096</td>\n",
       "      <td>0.533178</td>\n",
       "    </tr>\n",
       "    <tr>\n",
       "      <th>shap</th>\n",
       "      <td>0.533178</td>\n",
       "      <td>0.475336</td>\n",
       "      <td>1.000000</td>\n",
       "    </tr>\n",
       "    <tr>\n",
       "      <th>sufficiency</th>\n",
       "      <td>-0.060096</td>\n",
       "      <td>1.000000</td>\n",
       "      <td>0.475336</td>\n",
       "    </tr>\n",
       "  </tbody>\n",
       "</table>\n",
       "</div>"
      ],
      "text/plain": [
       "value        necessity  sufficiency      shap\n",
       "value                                        \n",
       "necessity     1.000000    -0.060096  0.533178\n",
       "shap          0.533178     0.475336  1.000000\n",
       "sufficiency  -0.060096     1.000000  0.475336"
      ]
     },
     "execution_count": 279,
     "metadata": {},
     "output_type": "execute_result"
    }
   ],
   "source": [
    "corrs = {dd: joint_df.xs(dd, level='Dataset', axis=1)[['necessity', 'sufficiency', 'shap']].corr() for dd in datasets}\n",
    "df_concat = pd.concat([cc for cc in corrs.values()])\n",
    "by_row_index = df_concat.groupby(df_concat.index)\n",
    "df_means = by_row_index.mean()\n",
    "df_means"
   ]
  },
  {
   "cell_type": "code",
   "execution_count": 47,
   "id": "6c02bb8a",
   "metadata": {},
   "outputs": [
    {
     "data": {
      "text/html": [
       "<div>\n",
       "<style scoped>\n",
       "    .dataframe tbody tr th:only-of-type {\n",
       "        vertical-align: middle;\n",
       "    }\n",
       "\n",
       "    .dataframe tbody tr th {\n",
       "        vertical-align: top;\n",
       "    }\n",
       "\n",
       "    .dataframe thead th {\n",
       "        text-align: right;\n",
       "    }\n",
       "</style>\n",
       "<table border=\"1\" class=\"dataframe\">\n",
       "  <thead>\n",
       "    <tr style=\"text-align: right;\">\n",
       "      <th>value</th>\n",
       "      <th>necessity</th>\n",
       "      <th>sufficiency</th>\n",
       "      <th>lime</th>\n",
       "    </tr>\n",
       "    <tr>\n",
       "      <th>value</th>\n",
       "      <th></th>\n",
       "      <th></th>\n",
       "      <th></th>\n",
       "    </tr>\n",
       "  </thead>\n",
       "  <tbody>\n",
       "    <tr>\n",
       "      <th>lime</th>\n",
       "      <td>-0.174395</td>\n",
       "      <td>0.400866</td>\n",
       "      <td>1.000000</td>\n",
       "    </tr>\n",
       "    <tr>\n",
       "      <th>necessity</th>\n",
       "      <td>1.000000</td>\n",
       "      <td>-0.060096</td>\n",
       "      <td>-0.174395</td>\n",
       "    </tr>\n",
       "    <tr>\n",
       "      <th>sufficiency</th>\n",
       "      <td>-0.060096</td>\n",
       "      <td>1.000000</td>\n",
       "      <td>0.400866</td>\n",
       "    </tr>\n",
       "  </tbody>\n",
       "</table>\n",
       "</div>"
      ],
      "text/plain": [
       "value        necessity  sufficiency      lime\n",
       "value                                        \n",
       "lime         -0.174395     0.400866  1.000000\n",
       "necessity     1.000000    -0.060096 -0.174395\n",
       "sufficiency  -0.060096     1.000000  0.400866"
      ]
     },
     "execution_count": 47,
     "metadata": {},
     "output_type": "execute_result"
    }
   ],
   "source": [
    "corrs = {dd: joint_df.xs(dd, level='Dataset', axis=1)[['necessity', 'sufficiency', 'lime']].corr() for dd in datasets}\n",
    "df_concat = pd.concat([cc for cc in corrs.values()])\n",
    "by_row_index = df_concat.groupby(df_concat.index)\n",
    "df_means = by_row_index.mean()\n",
    "df_means"
   ]
  },
  {
   "cell_type": "code",
   "execution_count": 287,
   "id": "82f227f8",
   "metadata": {},
   "outputs": [],
   "source": [
    "joint_df[('length', '')] = [len(tt.split()) for tt in joint_df.index.get_level_values(\"text\").to_list()]\n",
    "plot_df = pd.DataFrame()\n",
    "plot_df['length'] = joint_df[('length', '')]\n",
    "plot_df['shap'] = joint_df[('shap', 'Founta_hate')]\n",
    "plot_df['necessity'] = joint_df[('necessity', 'Founta_hate')]\n",
    "plot_df['sufficiency'] = joint_df[('sufficiency', 'Founta_hate')]"
   ]
  },
  {
   "cell_type": "code",
   "execution_count": 288,
   "id": "09f5e411",
   "metadata": {},
   "outputs": [
    {
     "data": {
      "image/png": "[encoded data removed]",
      "text/plain": [
       "<Figure size 360x360 with 1 Axes>"
      ]
     },
     "metadata": {
      "needs_background": "light"
     },
     "output_type": "display_data"
    }
   ],
   "source": [
    "g = sns.lmplot(x=\"necessity\", y=\"length\", data=plot_df)"
   ]
  },
  {
   "cell_type": "code",
   "execution_count": 289,
   "id": "7b3b7cff",
   "metadata": {},
   "outputs": [
    {
     "data": {
      "image/png": "[encoded data removed]",
      "text/plain": [
       "<Figure size 360x360 with 1 Axes>"
      ]
     },
     "metadata": {
      "needs_background": "light"
     },
     "output_type": "display_data"
    }
   ],
   "source": [
    "g = sns.lmplot(x=\"sufficiency\", y=\"length\", data=plot_df)"
   ]
  },
  {
   "cell_type": "code",
   "execution_count": 290,
   "id": "bed74d99",
   "metadata": {},
   "outputs": [
    {
     "data": {
      "image/png": "[encoded data removed]",
      "text/plain": [
       "<Figure size 360x360 with 1 Axes>"
      ]
     },
     "metadata": {
      "needs_background": "light"
     },
     "output_type": "display_data"
    }
   ],
   "source": [
    "g = sns.lmplot(x=\"shap\", y=\"length\", data=plot_df)"
   ]
  },
  {
   "cell_type": "code",
   "execution_count": 187,
   "id": "9261ebb9",
   "metadata": {},
   "outputs": [
    {
     "data": {
      "text/html": [
       "<div>\n",
       "<style scoped>\n",
       "    .dataframe tbody tr th:only-of-type {\n",
       "        vertical-align: middle;\n",
       "    }\n",
       "\n",
       "    .dataframe tbody tr th {\n",
       "        vertical-align: top;\n",
       "    }\n",
       "\n",
       "    .dataframe thead th {\n",
       "        text-align: right;\n",
       "    }\n",
       "</style>\n",
       "<table border=\"1\" class=\"dataframe\">\n",
       "  <thead>\n",
       "    <tr style=\"text-align: right;\">\n",
       "      <th>value</th>\n",
       "      <th>necessity</th>\n",
       "      <th>sufficiency</th>\n",
       "      <th>shap</th>\n",
       "    </tr>\n",
       "    <tr>\n",
       "      <th>value</th>\n",
       "      <th></th>\n",
       "      <th></th>\n",
       "      <th></th>\n",
       "    </tr>\n",
       "  </thead>\n",
       "  <tbody>\n",
       "    <tr>\n",
       "      <th>necessity</th>\n",
       "      <td>1.000000</td>\n",
       "      <td>0.031458</td>\n",
       "      <td>0.553243</td>\n",
       "    </tr>\n",
       "    <tr>\n",
       "      <th>sufficiency</th>\n",
       "      <td>0.031458</td>\n",
       "      <td>1.000000</td>\n",
       "      <td>0.607583</td>\n",
       "    </tr>\n",
       "    <tr>\n",
       "      <th>shap</th>\n",
       "      <td>0.553243</td>\n",
       "      <td>0.607583</td>\n",
       "      <td>1.000000</td>\n",
       "    </tr>\n",
       "  </tbody>\n",
       "</table>\n",
       "</div>"
      ],
      "text/plain": [
       "value        necessity  sufficiency      shap\n",
       "value                                        \n",
       "necessity     1.000000     0.031458  0.553243\n",
       "sufficiency   0.031458     1.000000  0.607583\n",
       "shap          0.553243     0.607583  1.000000"
      ]
     },
     "execution_count": 187,
     "metadata": {},
     "output_type": "execute_result"
    }
   ],
   "source": [
    "founta_hate_df = joint_df.xs('Founta_hate', level='Dataset', axis=1)\n",
    "founta_hate_df[['necessity', 'sufficiency', 'shap']].corr()"
   ]
  },
  {
   "cell_type": "code",
   "execution_count": 129,
   "id": "d97c26d8",
   "metadata": {},
   "outputs": [
    {
     "data": {
      "text/html": [
       "<div>\n",
       "<style scoped>\n",
       "    .dataframe tbody tr th:only-of-type {\n",
       "        vertical-align: middle;\n",
       "    }\n",
       "\n",
       "    .dataframe tbody tr th {\n",
       "        vertical-align: top;\n",
       "    }\n",
       "\n",
       "    .dataframe thead th {\n",
       "        text-align: right;\n",
       "    }\n",
       "</style>\n",
       "<table border=\"1\" class=\"dataframe\">\n",
       "  <thead>\n",
       "    <tr style=\"text-align: right;\">\n",
       "      <th>value</th>\n",
       "      <th>necessity</th>\n",
       "      <th>sufficiency</th>\n",
       "      <th>shap</th>\n",
       "    </tr>\n",
       "    <tr>\n",
       "      <th>value</th>\n",
       "      <th></th>\n",
       "      <th></th>\n",
       "      <th></th>\n",
       "    </tr>\n",
       "  </thead>\n",
       "  <tbody>\n",
       "    <tr>\n",
       "      <th>necessity</th>\n",
       "      <td>1.000000</td>\n",
       "      <td>-0.364118</td>\n",
       "      <td>0.713625</td>\n",
       "    </tr>\n",
       "    <tr>\n",
       "      <th>sufficiency</th>\n",
       "      <td>-0.364118</td>\n",
       "      <td>1.000000</td>\n",
       "      <td>-0.462875</td>\n",
       "    </tr>\n",
       "    <tr>\n",
       "      <th>shap</th>\n",
       "      <td>0.713625</td>\n",
       "      <td>-0.462875</td>\n",
       "      <td>1.000000</td>\n",
       "    </tr>\n",
       "  </tbody>\n",
       "</table>\n",
       "</div>"
      ],
      "text/plain": [
       "value        necessity  sufficiency      shap\n",
       "value                                        \n",
       "necessity     1.000000    -0.364118  0.713625\n",
       "sufficiency  -0.364118     1.000000 -0.462875\n",
       "shap          0.713625    -0.462875  1.000000"
      ]
     },
     "execution_count": 129,
     "metadata": {},
     "output_type": "execute_result"
    }
   ],
   "source": [
    "founta_hate_df.loc['Muslims'][['necessity', 'sufficiency', 'shap']].corr()"
   ]
  },
  {
   "cell_type": "code",
   "execution_count": 130,
   "id": "f9d2106d",
   "metadata": {},
   "outputs": [
    {
     "data": {
      "text/html": [
       "<div>\n",
       "<style scoped>\n",
       "    .dataframe tbody tr th:only-of-type {\n",
       "        vertical-align: middle;\n",
       "    }\n",
       "\n",
       "    .dataframe tbody tr th {\n",
       "        vertical-align: top;\n",
       "    }\n",
       "\n",
       "    .dataframe thead th {\n",
       "        text-align: right;\n",
       "    }\n",
       "</style>\n",
       "<table border=\"1\" class=\"dataframe\">\n",
       "  <thead>\n",
       "    <tr style=\"text-align: right;\">\n",
       "      <th>value</th>\n",
       "      <th>necessity</th>\n",
       "      <th>sufficiency</th>\n",
       "      <th>shap</th>\n",
       "    </tr>\n",
       "    <tr>\n",
       "      <th>value</th>\n",
       "      <th></th>\n",
       "      <th></th>\n",
       "      <th></th>\n",
       "    </tr>\n",
       "  </thead>\n",
       "  <tbody>\n",
       "    <tr>\n",
       "      <th>necessity</th>\n",
       "      <td>1.000000</td>\n",
       "      <td>-0.579832</td>\n",
       "      <td>0.460458</td>\n",
       "    </tr>\n",
       "    <tr>\n",
       "      <th>sufficiency</th>\n",
       "      <td>-0.579832</td>\n",
       "      <td>1.000000</td>\n",
       "      <td>-0.142093</td>\n",
       "    </tr>\n",
       "    <tr>\n",
       "      <th>shap</th>\n",
       "      <td>0.460458</td>\n",
       "      <td>-0.142093</td>\n",
       "      <td>1.000000</td>\n",
       "    </tr>\n",
       "  </tbody>\n",
       "</table>\n",
       "</div>"
      ],
      "text/plain": [
       "value        necessity  sufficiency      shap\n",
       "value                                        \n",
       "necessity     1.000000    -0.579832  0.460458\n",
       "sufficiency  -0.579832     1.000000 -0.142093\n",
       "shap          0.460458    -0.142093  1.000000"
      ]
     },
     "execution_count": 130,
     "metadata": {},
     "output_type": "execute_result"
    }
   ],
   "source": [
    "founta_hate_df.loc['women'][['necessity', 'sufficiency', 'shap']].corr()"
   ]
  },
  {
   "cell_type": "code",
   "execution_count": 223,
   "id": "6a1d67b2",
   "metadata": {},
   "outputs": [
    {
     "data": {
      "image/png": "[encoded data removed]",
      "text/plain": [
       "<Figure size 436.875x360 with 1 Axes>"
      ]
     },
     "metadata": {
      "needs_background": "light"
     },
     "output_type": "display_data"
    }
   ],
   "source": [
    "# This is Simpson's paradox! Lets plot to make sure this is what we are seeing. \n",
    "plot_df = founta_hate_df.copy()\n",
    "plot_df.index = founta_hate_df.index.get_level_values('text')\n",
    "plot_df['target'] = founta_hate_df.index.get_level_values('target')\n",
    "g = sns.lmplot(x=\"sufficiency\", y=\"shap\", hue=\"target\", data=plot_df)"
   ]
  },
  {
   "cell_type": "code",
   "execution_count": 122,
   "id": "b16f1179",
   "metadata": {},
   "outputs": [
    {
     "data": {
      "image/png": "[encoded data removed]",
      "text/plain": [
       "<Figure size 360x360 with 1 Axes>"
      ]
     },
     "metadata": {
      "needs_background": "light"
     },
     "output_type": "display_data"
    }
   ],
   "source": [
    "g = sns.lmplot(x=\"necessity\", y=\"sufficiency\", data=plot_df)"
   ]
  },
  {
   "cell_type": "code",
   "execution_count": 98,
   "id": "26fecc54",
   "metadata": {},
   "outputs": [
    {
     "data": {
      "text/html": [
       "<div>\n",
       "<style scoped>\n",
       "    .dataframe tbody tr th:only-of-type {\n",
       "        vertical-align: middle;\n",
       "    }\n",
       "\n",
       "    .dataframe tbody tr th {\n",
       "        vertical-align: top;\n",
       "    }\n",
       "\n",
       "    .dataframe thead th {\n",
       "        text-align: right;\n",
       "    }\n",
       "</style>\n",
       "<table border=\"1\" class=\"dataframe\">\n",
       "  <thead>\n",
       "    <tr style=\"text-align: right;\">\n",
       "      <th>value</th>\n",
       "      <th>necessity_mask</th>\n",
       "      <th>sufficiency_mask</th>\n",
       "      <th>shap</th>\n",
       "    </tr>\n",
       "    <tr>\n",
       "      <th>value</th>\n",
       "      <th></th>\n",
       "      <th></th>\n",
       "      <th></th>\n",
       "    </tr>\n",
       "  </thead>\n",
       "  <tbody>\n",
       "    <tr>\n",
       "      <th>necessity_mask</th>\n",
       "      <td>1.000000</td>\n",
       "      <td>0.332593</td>\n",
       "      <td>0.832790</td>\n",
       "    </tr>\n",
       "    <tr>\n",
       "      <th>sufficiency_mask</th>\n",
       "      <td>0.332593</td>\n",
       "      <td>1.000000</td>\n",
       "      <td>0.719289</td>\n",
       "    </tr>\n",
       "    <tr>\n",
       "      <th>shap</th>\n",
       "      <td>0.832790</td>\n",
       "      <td>0.719289</td>\n",
       "      <td>1.000000</td>\n",
       "    </tr>\n",
       "  </tbody>\n",
       "</table>\n",
       "</div>"
      ],
      "text/plain": [
       "value             necessity_mask  sufficiency_mask      shap\n",
       "value                                                       \n",
       "necessity_mask          1.000000          0.332593  0.832790\n",
       "sufficiency_mask        0.332593          1.000000  0.719289\n",
       "shap                    0.832790          0.719289  1.000000"
      ]
     },
     "execution_count": 98,
     "metadata": {},
     "output_type": "execute_result"
    }
   ],
   "source": [
    "founta_hate_df[['necessity_mask', 'sufficiency_mask', 'shap']].corr()"
   ]
  },
  {
   "cell_type": "code",
   "execution_count": 111,
   "id": "2039045b",
   "metadata": {},
   "outputs": [
    {
     "data": {
      "text/html": [
       "<div>\n",
       "<style scoped>\n",
       "    .dataframe tbody tr th:only-of-type {\n",
       "        vertical-align: middle;\n",
       "    }\n",
       "\n",
       "    .dataframe tbody tr th {\n",
       "        vertical-align: top;\n",
       "    }\n",
       "\n",
       "    .dataframe thead th {\n",
       "        text-align: right;\n",
       "    }\n",
       "</style>\n",
       "<table border=\"1\" class=\"dataframe\">\n",
       "  <thead>\n",
       "    <tr style=\"text-align: right;\">\n",
       "      <th>value</th>\n",
       "      <th>necessity</th>\n",
       "      <th>necessity_mask</th>\n",
       "    </tr>\n",
       "    <tr>\n",
       "      <th>value</th>\n",
       "      <th></th>\n",
       "      <th></th>\n",
       "    </tr>\n",
       "  </thead>\n",
       "  <tbody>\n",
       "    <tr>\n",
       "      <th>necessity</th>\n",
       "      <td>1.000000</td>\n",
       "      <td>0.715417</td>\n",
       "    </tr>\n",
       "    <tr>\n",
       "      <th>necessity_mask</th>\n",
       "      <td>0.715417</td>\n",
       "      <td>1.000000</td>\n",
       "    </tr>\n",
       "  </tbody>\n",
       "</table>\n",
       "</div>"
      ],
      "text/plain": [
       "value           necessity  necessity_mask\n",
       "value                                    \n",
       "necessity        1.000000        0.715417\n",
       "necessity_mask   0.715417        1.000000"
      ]
     },
     "execution_count": 111,
     "metadata": {},
     "output_type": "execute_result"
    }
   ],
   "source": [
    "founta_hate_df[['necessity', 'necessity_mask']].corr()"
   ]
  },
  {
   "cell_type": "code",
   "execution_count": 105,
   "id": "109bf9db",
   "metadata": {},
   "outputs": [
    {
     "data": {
      "text/html": [
       "<div>\n",
       "<style scoped>\n",
       "    .dataframe tbody tr th:only-of-type {\n",
       "        vertical-align: middle;\n",
       "    }\n",
       "\n",
       "    .dataframe tbody tr th {\n",
       "        vertical-align: top;\n",
       "    }\n",
       "\n",
       "    .dataframe thead th {\n",
       "        text-align: right;\n",
       "    }\n",
       "</style>\n",
       "<table border=\"1\" class=\"dataframe\">\n",
       "  <thead>\n",
       "    <tr style=\"text-align: right;\">\n",
       "      <th>value</th>\n",
       "      <th>sufficiency</th>\n",
       "      <th>sufficiency_mask</th>\n",
       "    </tr>\n",
       "    <tr>\n",
       "      <th>value</th>\n",
       "      <th></th>\n",
       "      <th></th>\n",
       "    </tr>\n",
       "  </thead>\n",
       "  <tbody>\n",
       "    <tr>\n",
       "      <th>sufficiency</th>\n",
       "      <td>1.000000</td>\n",
       "      <td>0.849035</td>\n",
       "    </tr>\n",
       "    <tr>\n",
       "      <th>sufficiency_mask</th>\n",
       "      <td>0.849035</td>\n",
       "      <td>1.000000</td>\n",
       "    </tr>\n",
       "  </tbody>\n",
       "</table>\n",
       "</div>"
      ],
      "text/plain": [
       "value             sufficiency  sufficiency_mask\n",
       "value                                          \n",
       "sufficiency          1.000000          0.849035\n",
       "sufficiency_mask     0.849035          1.000000"
      ]
     },
     "execution_count": 105,
     "metadata": {},
     "output_type": "execute_result"
    }
   ],
   "source": [
    "founta_hate_df[['sufficiency', 'sufficiency_mask']].corr()"
   ]
  },
  {
   "cell_type": "code",
   "execution_count": 147,
   "id": "24aee8ec",
   "metadata": {},
   "outputs": [
    {
     "name": "stdout",
     "output_type": "stream",
     "text": [
      "Classifying HateCheck perturbations with Founta_hate.\n"
     ]
    },
    {
     "name": "stderr",
     "output_type": "stream",
     "text": [
      "100%|████████████████████████| 66240/66240 [53:50<00:00, 20.51it/s]\n"
     ]
    }
   ],
   "source": [
    "from tqdm import tqdm\n",
    "from perturbation_functions import get_preds_and_scores, calc_suff, calc_necc\n",
    "\n",
    "# re-calculate the necc and suff scores for Founta-hate as comparison\n",
    "perts = pickle.load(open(\"Data/HateCheck_necc_suff_perturbations_2.pickle\",\"rb\"))\n",
    "perts['orig_texts'] = [tt.strip(' \\n') for tt in perts['orig_texts']]\n",
    "dataset = \"Founta_hate\"\n",
    "\n",
    "tokenizer = BertTokenizerFast.from_pretrained('bert-base-uncased')\n",
    "\n",
    "# add special tokens for URLs, emojis and mentions (--> see pre-processing)\n",
    "special_tokens_dict = {'additional_special_tokens': ['[USER]','[EMOJI]','[URL]']}\n",
    "num_added_toks = tokenizer.add_special_tokens(special_tokens_dict)\n",
    "\n",
    "print(\"Classifying HateCheck perturbations with {}.\".format(dataset))\n",
    "#  model = BertForSequenceClassification.from_pretrained(models_dir +'BERT_{}_weighted/Final'.format(dataset))\n",
    "model = BertForSequenceClassification.from_pretrained(\"Models/Classifiers/{}\".format(dataset))\n",
    "model.resize_token_embeddings(len(tokenizer))\n",
    "model.eval()\n",
    "\n",
    "total_len = len(perts['orig_texts']) + sum(len(nn) for nn in perts['necc_perturbed']) + sum(len(nn) for nn in perts['suff_perturbed'])\n",
    "\n",
    "with tqdm(total=total_len) as pbar:\n",
    "    orig_preds, orig_scores = get_preds_and_scores(perts['orig_texts'], tokenizer, model, pbar)\n",
    "\n",
    "    necc_preds = []\n",
    "    necc_scores = []\n",
    "\n",
    "    for tt in perts['necc_perturbed']:\n",
    "        pp, ss = get_preds_and_scores(tt, tokenizer, model, pbar)\n",
    "        necc_preds.append(pp)\n",
    "        necc_scores.append(ss)\n",
    "\n",
    "    suff_preds = []\n",
    "    suff_scores = []\n",
    "\n",
    "    for tt in perts['suff_perturbed']:\n",
    "        pp, ss = get_preds_and_scores(tt, tokenizer, model, pbar)\n",
    "        suff_preds.append(pp)\n",
    "        suff_scores.append(ss)\n",
    "\n",
    "\n",
    "Founta_hate_2_results = {\n",
    "            'orig_preds': orig_preds,\n",
    "            'orig_scores': orig_scores,\n",
    "            'necc_preds': necc_preds,\n",
    "            'necc_scores': necc_scores,\n",
    "            'suff_preds': suff_preds,\n",
    "            'suff_scores': suff_scores,\n",
    "            }"
   ]
  },
  {
   "cell_type": "code",
   "execution_count": 200,
   "id": "02475b16",
   "metadata": {},
   "outputs": [],
   "source": [
    "necc_results_2 = []\n",
    "suff_results_2 = []\n",
    "baseline_preds = pickle.load(open(\"Data/Classifier_baselines.pickle\", \"rb\"))\n",
    "baseline_pred = baseline_preds['baseline_preds']['Founta_hate']\n",
    "\n",
    "## NECCESSITY CALCULATIONS\n",
    "for oo, pp, mm in zip(Founta_hate_2_results['orig_preds'], \n",
    "                      Founta_hate_2_results['necc_preds'], \n",
    "                      perts['necc_masks']):\n",
    "    if oo == 1:\n",
    "        pp = np.array(pp)\n",
    "        necc_results_2.append(calc_necc(oo, pp, mm))\n",
    "\n",
    "## SUFFICIENCY CALCULATIONS\n",
    "\n",
    "suffs = []\n",
    "for oo, pp, mm in zip(Founta_hate_2_results['orig_preds'],\n",
    "                      Founta_hate_2_results['suff_preds'], \n",
    "                      perts['suff_masks']):\n",
    "    if oo == 1:\n",
    "        pp = np.array(pp)\n",
    "        suff_results_2.append(calc_suff(baseline_pred, pp, mm))\n",
    "\n"
   ]
  },
  {
   "cell_type": "code",
   "execution_count": null,
   "id": "c45d1a53",
   "metadata": {},
   "outputs": [],
   "source": [
    "hc_data = pd.read_csv(open(\"hatecheck-data/test_suite_cases.csv\"))\n",
    "hc_data.test_case = hc_data.test_case.apply(lambda tt: tt.strip())"
   ]
  },
  {
   "cell_type": "code",
   "execution_count": null,
   "id": "4c9e2d88",
   "metadata": {},
   "outputs": [],
   "source": [
    "hc_templs = hc_data[['case_templ']]\n",
    "hc_index = hc_data[['test_case', 'target_ident']].rename(mapper={'test_case':'text', 'target_ident':'target'}, axis='columns')\n",
    "hc_templs.index = pd.MultiIndex.from_frame(hc_index)"
   ]
  },
  {
   "cell_type": "code",
   "execution_count": 189,
   "id": "bb9ba9d7",
   "metadata": {},
   "outputs": [],
   "source": [
    "founta_hate_df = founta_hate_df.merge(hc_templs, how='left', left_index=True, right_index=True)"
   ]
  },
  {
   "cell_type": "code",
   "execution_count": 203,
   "id": "091b076a",
   "metadata": {},
   "outputs": [],
   "source": [
    "def find_placeholder(text):\n",
    "    text = text.strip().split()\n",
    "    for nn, tt in enumerate(text):\n",
    "        if tt[:1] == '[':\n",
    "            return nn\n",
    "        \n",
    "placeholder_locs = [find_placeholder(tt) for tt in founta_hate_df.case_templ.tolist()]\n",
    "founta_hate_df['necessity_2'] = [ll[nn] for ll, nn in zip(necc_results_2, placeholder_locs)]\n",
    "founta_hate_df['sufficiency_2'] = [ll[nn] for ll, nn in zip(suff_results_2, placeholder_locs)]"
   ]
  },
  {
   "cell_type": "code",
   "execution_count": 205,
   "id": "12094938",
   "metadata": {},
   "outputs": [
    {
     "data": {
      "text/html": [
       "<div>\n",
       "<style scoped>\n",
       "    .dataframe tbody tr th:only-of-type {\n",
       "        vertical-align: middle;\n",
       "    }\n",
       "\n",
       "    .dataframe tbody tr th {\n",
       "        vertical-align: top;\n",
       "    }\n",
       "\n",
       "    .dataframe thead th {\n",
       "        text-align: right;\n",
       "    }\n",
       "</style>\n",
       "<table border=\"1\" class=\"dataframe\">\n",
       "  <thead>\n",
       "    <tr style=\"text-align: right;\">\n",
       "      <th></th>\n",
       "      <th>necessity</th>\n",
       "      <th>necessity_2</th>\n",
       "    </tr>\n",
       "  </thead>\n",
       "  <tbody>\n",
       "    <tr>\n",
       "      <th>necessity</th>\n",
       "      <td>1.000000</td>\n",
       "      <td>0.967537</td>\n",
       "    </tr>\n",
       "    <tr>\n",
       "      <th>necessity_2</th>\n",
       "      <td>0.967537</td>\n",
       "      <td>1.000000</td>\n",
       "    </tr>\n",
       "  </tbody>\n",
       "</table>\n",
       "</div>"
      ],
      "text/plain": [
       "             necessity  necessity_2\n",
       "necessity     1.000000     0.967537\n",
       "necessity_2   0.967537     1.000000"
      ]
     },
     "execution_count": 205,
     "metadata": {},
     "output_type": "execute_result"
    }
   ],
   "source": [
    "founta_hate_df[['necessity', 'necessity_2']].corr()"
   ]
  },
  {
   "cell_type": "code",
   "execution_count": 206,
   "id": "ba843bd7",
   "metadata": {},
   "outputs": [
    {
     "data": {
      "text/html": [
       "<div>\n",
       "<style scoped>\n",
       "    .dataframe tbody tr th:only-of-type {\n",
       "        vertical-align: middle;\n",
       "    }\n",
       "\n",
       "    .dataframe tbody tr th {\n",
       "        vertical-align: top;\n",
       "    }\n",
       "\n",
       "    .dataframe thead th {\n",
       "        text-align: right;\n",
       "    }\n",
       "</style>\n",
       "<table border=\"1\" class=\"dataframe\">\n",
       "  <thead>\n",
       "    <tr style=\"text-align: right;\">\n",
       "      <th></th>\n",
       "      <th>sufficiency</th>\n",
       "      <th>sufficiency_2</th>\n",
       "    </tr>\n",
       "  </thead>\n",
       "  <tbody>\n",
       "    <tr>\n",
       "      <th>sufficiency</th>\n",
       "      <td>1.000000</td>\n",
       "      <td>0.975396</td>\n",
       "    </tr>\n",
       "    <tr>\n",
       "      <th>sufficiency_2</th>\n",
       "      <td>0.975396</td>\n",
       "      <td>1.000000</td>\n",
       "    </tr>\n",
       "  </tbody>\n",
       "</table>\n",
       "</div>"
      ],
      "text/plain": [
       "               sufficiency  sufficiency_2\n",
       "sufficiency       1.000000       0.975396\n",
       "sufficiency_2     0.975396       1.000000"
      ]
     },
     "execution_count": 206,
     "metadata": {},
     "output_type": "execute_result"
    }
   ],
   "source": [
    "founta_hate_df[['sufficiency', 'sufficiency_2']].corr()"
   ]
  },
  {
   "cell_type": "code",
   "execution_count": 211,
   "id": "e639b1cb",
   "metadata": {},
   "outputs": [],
   "source": [
    "founta_hate_df['suff_diff'] = (founta_hate_df['sufficiency'] - founta_hate_df['sufficiency_2']).abs()\n",
    "founta_hate_df['necc_diff'] = (founta_hate_df['necessity'] - founta_hate_df['necessity_2']).abs()"
   ]
  },
  {
   "cell_type": "code",
   "execution_count": 216,
   "id": "bd022484",
   "metadata": {},
   "outputs": [
    {
     "data": {
      "text/plain": [
       "0.04708747129972614"
      ]
     },
     "execution_count": 216,
     "metadata": {},
     "output_type": "execute_result"
    }
   ],
   "source": [
    "founta_hate_df['suff_diff'].mean()"
   ]
  },
  {
   "cell_type": "code",
   "execution_count": 217,
   "id": "2f504715",
   "metadata": {},
   "outputs": [
    {
     "data": {
      "text/plain": [
       "0.03210738294093411"
      ]
     },
     "execution_count": 217,
     "metadata": {},
     "output_type": "execute_result"
    }
   ],
   "source": [
    "founta_hate_df['necc_diff'].mean()"
   ]
  }
 ],
 "metadata": {
  "kernelspec": {
   "display_name": ".venv",
   "language": "python",
   "name": "python3"
  },
  "language_info": {
   "codemirror_mode": {
    "name": "ipython",
    "version": 3
   },
   "file_extension": ".py",
   "mimetype": "text/x-python",
   "name": "python",
   "nbconvert_exporter": "python",
   "pygments_lexer": "ipython3",
   "version": "3.9.6"
  }
 },
 "nbformat": 4,
 "nbformat_minor": 5
}
